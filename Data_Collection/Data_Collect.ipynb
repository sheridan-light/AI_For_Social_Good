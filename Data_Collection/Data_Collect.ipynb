{
 "cells": [
  {
   "cell_type": "code",
   "execution_count": 1,
   "metadata": {},
   "outputs": [],
   "source": [
    "import praw\n",
    "import pandas as pd"
   ]
  },
  {
   "cell_type": "code",
   "execution_count": 2,
   "metadata": {},
   "outputs": [],
   "source": [
    "reddit = praw.Reddit(client_id=\"UmxoiHqSrchW6Q\",  # your client it\n",
    "                     client_secret=\"2pnNJXEodhy0vcZs4U6pTAUPqoM\",  # your client secret\n",
    "                     user_agent=\"soumyajit4419\",  # user agent name\n",
    "                     )"
   ]
  },
  {
   "cell_type": "code",
   "execution_count": 3,
   "metadata": {},
   "outputs": [],
   "source": [
    "def data_scrap(subreddits, num_posts):\n",
    "    title = []\n",
    "    text = []\n",
    "    post_id = []\n",
    "    reddit_detail = []\n",
    "\n",
    "    for sub in subreddits:\n",
    "        subreddit_obj = reddit.subreddit(sub)\n",
    "        for posts in subreddit_obj.top(limit=num_posts):\n",
    "            title.append(posts.title)\n",
    "            text.append(posts.selftext)\n",
    "            post_id.append(posts.id)\n",
    "            reddit_detail.append(posts.subreddit)\n",
    "\n",
    "    res_dict = {\"id\": post_id, \"subreddit\": reddit_detail,\"title\": title, \"text\": text}\n",
    "\n",
    "    return res_dict"
   ]
  },
  {
   "cell_type": "code",
   "execution_count": 4,
   "metadata": {},
   "outputs": [],
   "source": [
    "subreddits = ['SuicideWatch', 'depression', 'Anxiety']\n",
    "suicide_dict = data_scrap(subreddits,5000)"
   ]
  },
  {
   "cell_type": "code",
   "execution_count": 5,
   "metadata": {},
   "outputs": [],
   "source": [
    "df = pd.DataFrame(data=suicide_dict)"
   ]
  },
  {
   "cell_type": "code",
   "execution_count": 6,
   "metadata": {},
   "outputs": [
    {
     "data": {
      "text/html": [
       "<div>\n",
       "<style scoped>\n",
       "    .dataframe tbody tr th:only-of-type {\n",
       "        vertical-align: middle;\n",
       "    }\n",
       "\n",
       "    .dataframe tbody tr th {\n",
       "        vertical-align: top;\n",
       "    }\n",
       "\n",
       "    .dataframe thead th {\n",
       "        text-align: right;\n",
       "    }\n",
       "</style>\n",
       "<table border=\"1\" class=\"dataframe\">\n",
       "  <thead>\n",
       "    <tr style=\"text-align: right;\">\n",
       "      <th></th>\n",
       "      <th>id</th>\n",
       "      <th>subreddit</th>\n",
       "      <th>title</th>\n",
       "      <th>text</th>\n",
       "    </tr>\n",
       "  </thead>\n",
       "  <tbody>\n",
       "    <tr>\n",
       "      <td>0</td>\n",
       "      <td>greo4o</td>\n",
       "      <td>SuicideWatch</td>\n",
       "      <td>“If you truly wanted to kill yourself and wasn...</td>\n",
       "      <td>Yeah because I DONT WANT TO FUCKING DO IT, but...</td>\n",
       "    </tr>\n",
       "    <tr>\n",
       "      <td>1</td>\n",
       "      <td>c34ko8</td>\n",
       "      <td>SuicideWatch</td>\n",
       "      <td>My girlfriend killed herself a week after we b...</td>\n",
       "      <td>Hello. I don't really know how to start this. ...</td>\n",
       "    </tr>\n",
       "    <tr>\n",
       "      <td>2</td>\n",
       "      <td>f9d5go</td>\n",
       "      <td>SuicideWatch</td>\n",
       "      <td>Anyone else not want to die and not want to ki...</td>\n",
       "      <td></td>\n",
       "    </tr>\n",
       "    <tr>\n",
       "      <td>3</td>\n",
       "      <td>e8gjky</td>\n",
       "      <td>SuicideWatch</td>\n",
       "      <td>Raped in front of my girlfriend. feeling like ...</td>\n",
       "      <td>\\n\\nI don't know what to say or do, I just fe...</td>\n",
       "    </tr>\n",
       "    <tr>\n",
       "      <td>4</td>\n",
       "      <td>hy8bh6</td>\n",
       "      <td>SuicideWatch</td>\n",
       "      <td>I wish I could walk into a hospital, throw my ...</td>\n",
       "      <td>But of course they’d lock me up in the mental ...</td>\n",
       "    </tr>\n",
       "  </tbody>\n",
       "</table>\n",
       "</div>"
      ],
      "text/plain": [
       "       id     subreddit                                              title  \\\n",
       "0  greo4o  SuicideWatch  “If you truly wanted to kill yourself and wasn...   \n",
       "1  c34ko8  SuicideWatch  My girlfriend killed herself a week after we b...   \n",
       "2  f9d5go  SuicideWatch  Anyone else not want to die and not want to ki...   \n",
       "3  e8gjky  SuicideWatch  Raped in front of my girlfriend. feeling like ...   \n",
       "4  hy8bh6  SuicideWatch  I wish I could walk into a hospital, throw my ...   \n",
       "\n",
       "                                                text  \n",
       "0  Yeah because I DONT WANT TO FUCKING DO IT, but...  \n",
       "1  Hello. I don't really know how to start this. ...  \n",
       "2                                                     \n",
       "3   \\n\\nI don't know what to say or do, I just fe...  \n",
       "4  But of course they’d lock me up in the mental ...  "
      ]
     },
     "execution_count": 6,
     "metadata": {},
     "output_type": "execute_result"
    }
   ],
   "source": [
    "df.head()"
   ]
  },
  {
   "cell_type": "code",
   "execution_count": null,
   "metadata": {},
   "outputs": [],
   "source": []
  }
 ],
 "metadata": {
  "kernelspec": {
   "display_name": "Python 3",
   "language": "python",
   "name": "python3"
  },
  "language_info": {
   "codemirror_mode": {
    "name": "ipython",
    "version": 3
   },
   "file_extension": ".py",
   "mimetype": "text/x-python",
   "name": "python",
   "nbconvert_exporter": "python",
   "pygments_lexer": "ipython3",
   "version": "3.7.4"
  }
 },
 "nbformat": 4,
 "nbformat_minor": 2
}
