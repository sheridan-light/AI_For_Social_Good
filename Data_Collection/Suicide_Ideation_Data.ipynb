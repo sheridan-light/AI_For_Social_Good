{
 "cells": [
  {
   "cell_type": "code",
   "execution_count": 3,
   "metadata": {},
   "outputs": [],
   "source": [
    "import pandas as pd \n",
    "import scraper.reddit as sr\n",
    "import scraper.tweets as st"
   ]
  },
  {
   "cell_type": "code",
   "execution_count": 4,
   "metadata": {},
   "outputs": [],
   "source": [
    "subreddits = ['SuicideWatch', 'depression', 'Anxiety']\n",
    "df1 = pd.DataFrame(data = sr.get_subreddits(subreddits,5000))"
   ]
  },
  {
   "cell_type": "code",
   "execution_count": 5,
   "metadata": {},
   "outputs": [
    {
     "data": {
      "text/html": [
       "<div>\n",
       "<style scoped>\n",
       "    .dataframe tbody tr th:only-of-type {\n",
       "        vertical-align: middle;\n",
       "    }\n",
       "\n",
       "    .dataframe tbody tr th {\n",
       "        vertical-align: top;\n",
       "    }\n",
       "\n",
       "    .dataframe thead th {\n",
       "        text-align: right;\n",
       "    }\n",
       "</style>\n",
       "<table border=\"1\" class=\"dataframe\">\n",
       "  <thead>\n",
       "    <tr style=\"text-align: right;\">\n",
       "      <th></th>\n",
       "      <th>id</th>\n",
       "      <th>subreddit</th>\n",
       "      <th>title</th>\n",
       "      <th>text</th>\n",
       "    </tr>\n",
       "  </thead>\n",
       "  <tbody>\n",
       "    <tr>\n",
       "      <td>0</td>\n",
       "      <td>greo4o</td>\n",
       "      <td>SuicideWatch</td>\n",
       "      <td>“If you truly wanted to kill yourself and wasn...</td>\n",
       "      <td>Yeah because I DONT WANT TO FUCKING DO IT, but...</td>\n",
       "    </tr>\n",
       "    <tr>\n",
       "      <td>1</td>\n",
       "      <td>c34ko8</td>\n",
       "      <td>SuicideWatch</td>\n",
       "      <td>My girlfriend killed herself a week after we b...</td>\n",
       "      <td>Hello. I don't really know how to start this. ...</td>\n",
       "    </tr>\n",
       "    <tr>\n",
       "      <td>2</td>\n",
       "      <td>f9d5go</td>\n",
       "      <td>SuicideWatch</td>\n",
       "      <td>Anyone else not want to die and not want to ki...</td>\n",
       "      <td></td>\n",
       "    </tr>\n",
       "    <tr>\n",
       "      <td>3</td>\n",
       "      <td>e8gjky</td>\n",
       "      <td>SuicideWatch</td>\n",
       "      <td>Raped in front of my girlfriend. feeling like ...</td>\n",
       "      <td>\\n\\nI don't know what to say or do, I just fe...</td>\n",
       "    </tr>\n",
       "    <tr>\n",
       "      <td>4</td>\n",
       "      <td>hy8bh6</td>\n",
       "      <td>SuicideWatch</td>\n",
       "      <td>I wish I could walk into a hospital, throw my ...</td>\n",
       "      <td>But of course they’d lock me up in the mental ...</td>\n",
       "    </tr>\n",
       "  </tbody>\n",
       "</table>\n",
       "</div>"
      ],
      "text/plain": [
       "       id     subreddit                                              title  \\\n",
       "0  greo4o  SuicideWatch  “If you truly wanted to kill yourself and wasn...   \n",
       "1  c34ko8  SuicideWatch  My girlfriend killed herself a week after we b...   \n",
       "2  f9d5go  SuicideWatch  Anyone else not want to die and not want to ki...   \n",
       "3  e8gjky  SuicideWatch  Raped in front of my girlfriend. feeling like ...   \n",
       "4  hy8bh6  SuicideWatch  I wish I could walk into a hospital, throw my ...   \n",
       "\n",
       "                                                text  \n",
       "0  Yeah because I DONT WANT TO FUCKING DO IT, but...  \n",
       "1  Hello. I don't really know how to start this. ...  \n",
       "2                                                     \n",
       "3   \\n\\nI don't know what to say or do, I just fe...  \n",
       "4  But of course they’d lock me up in the mental ...  "
      ]
     },
     "execution_count": 5,
     "metadata": {},
     "output_type": "execute_result"
    }
   ],
   "source": [
    "df1.head()"
   ]
  },
  {
   "cell_type": "code",
   "execution_count": 7,
   "metadata": {},
   "outputs": [],
   "source": [
    "queries = ['suicide','die','end my life']\n",
    "df2 = pd.DataFrame(data=st.get_tweets(queries,))"
   ]
  },
  {
   "cell_type": "code",
   "execution_count": 9,
   "metadata": {},
   "outputs": [
    {
     "data": {
      "text/html": [
       "<div>\n",
       "<style scoped>\n",
       "    .dataframe tbody tr th:only-of-type {\n",
       "        vertical-align: middle;\n",
       "    }\n",
       "\n",
       "    .dataframe tbody tr th {\n",
       "        vertical-align: top;\n",
       "    }\n",
       "\n",
       "    .dataframe thead th {\n",
       "        text-align: right;\n",
       "    }\n",
       "</style>\n",
       "<table border=\"1\" class=\"dataframe\">\n",
       "  <thead>\n",
       "    <tr style=\"text-align: right;\">\n",
       "      <th></th>\n",
       "      <th>id</th>\n",
       "      <th>date</th>\n",
       "      <th>text</th>\n",
       "    </tr>\n",
       "  </thead>\n",
       "  <tbody>\n",
       "    <tr>\n",
       "      <td>0</td>\n",
       "      <td>1361102918728884230</td>\n",
       "      <td>2021-02-14 23:59:58+00:00</td>\n",
       "      <td>@CourageBipolar @VoltzRoad @BAIntactivists had...</td>\n",
       "    </tr>\n",
       "    <tr>\n",
       "      <td>1</td>\n",
       "      <td>1361102815104557057</td>\n",
       "      <td>2021-02-14 23:59:33+00:00</td>\n",
       "      <td>@pcrafton4 @MrMan45676274 @beardedmilkdud6 @Ci...</td>\n",
       "    </tr>\n",
       "    <tr>\n",
       "      <td>2</td>\n",
       "      <td>1361102759966224386</td>\n",
       "      <td>2021-02-14 23:59:20+00:00</td>\n",
       "      <td>@langoo @St3v3ns1 @BFryback Sounds like the mo...</td>\n",
       "    </tr>\n",
       "    <tr>\n",
       "      <td>3</td>\n",
       "      <td>1361102721139499016</td>\n",
       "      <td>2021-02-14 23:59:11+00:00</td>\n",
       "      <td>tw // suicide ??\\n\\nsomeone talk me out of it pls</td>\n",
       "    </tr>\n",
       "    <tr>\n",
       "      <td>4</td>\n",
       "      <td>1361102674079457281</td>\n",
       "      <td>2021-02-14 23:59:00+00:00</td>\n",
       "      <td>Death metal looked to have exhaled its last by...</td>\n",
       "    </tr>\n",
       "  </tbody>\n",
       "</table>\n",
       "</div>"
      ],
      "text/plain": [
       "                    id                      date  \\\n",
       "0  1361102918728884230 2021-02-14 23:59:58+00:00   \n",
       "1  1361102815104557057 2021-02-14 23:59:33+00:00   \n",
       "2  1361102759966224386 2021-02-14 23:59:20+00:00   \n",
       "3  1361102721139499016 2021-02-14 23:59:11+00:00   \n",
       "4  1361102674079457281 2021-02-14 23:59:00+00:00   \n",
       "\n",
       "                                                text  \n",
       "0  @CourageBipolar @VoltzRoad @BAIntactivists had...  \n",
       "1  @pcrafton4 @MrMan45676274 @beardedmilkdud6 @Ci...  \n",
       "2  @langoo @St3v3ns1 @BFryback Sounds like the mo...  \n",
       "3  tw // suicide ??\\n\\nsomeone talk me out of it pls  \n",
       "4  Death metal looked to have exhaled its last by...  "
      ]
     },
     "execution_count": 9,
     "metadata": {},
     "output_type": "execute_result"
    }
   ],
   "source": [
    "df2.head()"
   ]
  }
 ],
 "metadata": {
  "kernelspec": {
   "display_name": "Python 3",
   "language": "python",
   "name": "python3"
  },
  "language_info": {
   "codemirror_mode": {
    "name": "ipython",
    "version": 3
   },
   "file_extension": ".py",
   "mimetype": "text/x-python",
   "name": "python",
   "nbconvert_exporter": "python",
   "pygments_lexer": "ipython3",
   "version": "3.7.4"
  }
 },
 "nbformat": 4,
 "nbformat_minor": 2
}
