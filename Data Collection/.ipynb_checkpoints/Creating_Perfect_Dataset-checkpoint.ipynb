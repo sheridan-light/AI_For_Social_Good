{
 "cells": [
  {
   "cell_type": "markdown",
   "metadata": {},
   "source": [
    "# Preparing a proper dataset"
   ]
  },
  {
   "cell_type": "code",
   "execution_count": 1,
   "metadata": {},
   "outputs": [],
   "source": [
    "import pandas as pd "
   ]
  },
  {
   "cell_type": "markdown",
   "metadata": {},
   "source": [
    "### Cleaning the Parsed Dataset "
   ]
  },
  {
   "cell_type": "code",
   "execution_count": 3,
   "metadata": {},
   "outputs": [],
   "source": [
    "depression_df=pd.read_csv('../Datasets/raw_depression.csv')"
   ]
  },
  {
   "cell_type": "code",
   "execution_count": 4,
   "metadata": {},
   "outputs": [],
   "source": [
    "sucide_df=pd.read_csv('../Datasets/raw_sucide.csv')"
   ]
  },
  {
   "cell_type": "code",
   "execution_count": 5,
   "metadata": {},
   "outputs": [
    {
     "data": {
      "text/html": [
       "<div>\n",
       "<style scoped>\n",
       "    .dataframe tbody tr th:only-of-type {\n",
       "        vertical-align: middle;\n",
       "    }\n",
       "\n",
       "    .dataframe tbody tr th {\n",
       "        vertical-align: top;\n",
       "    }\n",
       "\n",
       "    .dataframe thead th {\n",
       "        text-align: right;\n",
       "    }\n",
       "</style>\n",
       "<table border=\"1\" class=\"dataframe\">\n",
       "  <thead>\n",
       "    <tr style=\"text-align: right;\">\n",
       "      <th></th>\n",
       "      <th>approved_at_utc</th>\n",
       "      <th>subreddit</th>\n",
       "      <th>selftext</th>\n",
       "      <th>author_fullname</th>\n",
       "      <th>saved</th>\n",
       "      <th>mod_reason_title</th>\n",
       "      <th>gilded</th>\n",
       "      <th>clicked</th>\n",
       "      <th>title</th>\n",
       "      <th>link_flair_richtext</th>\n",
       "      <th>...</th>\n",
       "      <th>author_flair_text_color</th>\n",
       "      <th>permalink</th>\n",
       "      <th>parent_whitelist_status</th>\n",
       "      <th>stickied</th>\n",
       "      <th>url</th>\n",
       "      <th>subreddit_subscribers</th>\n",
       "      <th>created_utc</th>\n",
       "      <th>num_crossposts</th>\n",
       "      <th>media</th>\n",
       "      <th>is_video</th>\n",
       "    </tr>\n",
       "  </thead>\n",
       "  <tbody>\n",
       "    <tr>\n",
       "      <td>0</td>\n",
       "      <td>NaN</td>\n",
       "      <td>depression</td>\n",
       "      <td>We understand that most people who reply immed...</td>\n",
       "      <td>t2_1t70</td>\n",
       "      <td>False</td>\n",
       "      <td>NaN</td>\n",
       "      <td>0</td>\n",
       "      <td>False</td>\n",
       "      <td>Our most-broken and least-understood rules is ...</td>\n",
       "      <td>[]</td>\n",
       "      <td>...</td>\n",
       "      <td>NaN</td>\n",
       "      <td>/r/depression/comments/doqwow/our_mostbroken_a...</td>\n",
       "      <td>no_ads</td>\n",
       "      <td>True</td>\n",
       "      <td>https://www.reddit.com/r/depression/comments/d...</td>\n",
       "      <td>640619</td>\n",
       "      <td>1.572361e+09</td>\n",
       "      <td>0</td>\n",
       "      <td>NaN</td>\n",
       "      <td>False</td>\n",
       "    </tr>\n",
       "    <tr>\n",
       "      <td>1</td>\n",
       "      <td>NaN</td>\n",
       "      <td>depression</td>\n",
       "      <td>Welcome to /r/depression's check-in post - a p...</td>\n",
       "      <td>t2_64qjj</td>\n",
       "      <td>False</td>\n",
       "      <td>NaN</td>\n",
       "      <td>0</td>\n",
       "      <td>False</td>\n",
       "      <td>Regular Check-In Post</td>\n",
       "      <td>[]</td>\n",
       "      <td>...</td>\n",
       "      <td>NaN</td>\n",
       "      <td>/r/depression/comments/exo6f1/regular_checkin_...</td>\n",
       "      <td>no_ads</td>\n",
       "      <td>True</td>\n",
       "      <td>https://www.reddit.com/r/depression/comments/e...</td>\n",
       "      <td>640619</td>\n",
       "      <td>1.580649e+09</td>\n",
       "      <td>0</td>\n",
       "      <td>NaN</td>\n",
       "      <td>False</td>\n",
       "    </tr>\n",
       "    <tr>\n",
       "      <td>2</td>\n",
       "      <td>NaN</td>\n",
       "      <td>depression</td>\n",
       "      <td>I know I have issues. But I go through manic m...</td>\n",
       "      <td>t2_snbrq</td>\n",
       "      <td>False</td>\n",
       "      <td>NaN</td>\n",
       "      <td>1</td>\n",
       "      <td>False</td>\n",
       "      <td>Anyone keep switching from admitting to yourse...</td>\n",
       "      <td>[]</td>\n",
       "      <td>...</td>\n",
       "      <td>NaN</td>\n",
       "      <td>/r/depression/comments/gt5txv/anyone_keep_swit...</td>\n",
       "      <td>no_ads</td>\n",
       "      <td>False</td>\n",
       "      <td>https://www.reddit.com/r/depression/comments/g...</td>\n",
       "      <td>640619</td>\n",
       "      <td>1.590803e+09</td>\n",
       "      <td>0</td>\n",
       "      <td>NaN</td>\n",
       "      <td>False</td>\n",
       "    </tr>\n",
       "    <tr>\n",
       "      <td>3</td>\n",
       "      <td>NaN</td>\n",
       "      <td>depression</td>\n",
       "      <td>I feel a sense of guilt for being depressed de...</td>\n",
       "      <td>t2_6gq5ynmm</td>\n",
       "      <td>False</td>\n",
       "      <td>NaN</td>\n",
       "      <td>0</td>\n",
       "      <td>False</td>\n",
       "      <td>Depression guilt.</td>\n",
       "      <td>[]</td>\n",
       "      <td>...</td>\n",
       "      <td>NaN</td>\n",
       "      <td>/r/depression/comments/gt8csv/depression_guilt/</td>\n",
       "      <td>no_ads</td>\n",
       "      <td>False</td>\n",
       "      <td>https://www.reddit.com/r/depression/comments/g...</td>\n",
       "      <td>640619</td>\n",
       "      <td>1.590814e+09</td>\n",
       "      <td>0</td>\n",
       "      <td>NaN</td>\n",
       "      <td>False</td>\n",
       "    </tr>\n",
       "    <tr>\n",
       "      <td>4</td>\n",
       "      <td>NaN</td>\n",
       "      <td>depression</td>\n",
       "      <td>**TLDR**\\- I'm ugly and I hate the way I look....</td>\n",
       "      <td>t2_6ayaq0ac</td>\n",
       "      <td>False</td>\n",
       "      <td>NaN</td>\n",
       "      <td>0</td>\n",
       "      <td>False</td>\n",
       "      <td>I absolutely hate the way I look and I'm repul...</td>\n",
       "      <td>[]</td>\n",
       "      <td>...</td>\n",
       "      <td>NaN</td>\n",
       "      <td>/r/depression/comments/gtd7lc/i_absolutely_hat...</td>\n",
       "      <td>no_ads</td>\n",
       "      <td>False</td>\n",
       "      <td>https://www.reddit.com/r/depression/comments/g...</td>\n",
       "      <td>640619</td>\n",
       "      <td>1.590840e+09</td>\n",
       "      <td>0</td>\n",
       "      <td>NaN</td>\n",
       "      <td>False</td>\n",
       "    </tr>\n",
       "  </tbody>\n",
       "</table>\n",
       "<p>5 rows × 101 columns</p>\n",
       "</div>"
      ],
      "text/plain": [
       "   approved_at_utc   subreddit  \\\n",
       "0              NaN  depression   \n",
       "1              NaN  depression   \n",
       "2              NaN  depression   \n",
       "3              NaN  depression   \n",
       "4              NaN  depression   \n",
       "\n",
       "                                            selftext author_fullname  saved  \\\n",
       "0  We understand that most people who reply immed...         t2_1t70  False   \n",
       "1  Welcome to /r/depression's check-in post - a p...        t2_64qjj  False   \n",
       "2  I know I have issues. But I go through manic m...        t2_snbrq  False   \n",
       "3  I feel a sense of guilt for being depressed de...     t2_6gq5ynmm  False   \n",
       "4  **TLDR**\\- I'm ugly and I hate the way I look....     t2_6ayaq0ac  False   \n",
       "\n",
       "   mod_reason_title  gilded  clicked  \\\n",
       "0               NaN       0    False   \n",
       "1               NaN       0    False   \n",
       "2               NaN       1    False   \n",
       "3               NaN       0    False   \n",
       "4               NaN       0    False   \n",
       "\n",
       "                                               title link_flair_richtext  ...  \\\n",
       "0  Our most-broken and least-understood rules is ...                  []  ...   \n",
       "1                              Regular Check-In Post                  []  ...   \n",
       "2  Anyone keep switching from admitting to yourse...                  []  ...   \n",
       "3                                  Depression guilt.                  []  ...   \n",
       "4  I absolutely hate the way I look and I'm repul...                  []  ...   \n",
       "\n",
       "  author_flair_text_color                                          permalink  \\\n",
       "0                     NaN  /r/depression/comments/doqwow/our_mostbroken_a...   \n",
       "1                     NaN  /r/depression/comments/exo6f1/regular_checkin_...   \n",
       "2                     NaN  /r/depression/comments/gt5txv/anyone_keep_swit...   \n",
       "3                     NaN    /r/depression/comments/gt8csv/depression_guilt/   \n",
       "4                     NaN  /r/depression/comments/gtd7lc/i_absolutely_hat...   \n",
       "\n",
       "   parent_whitelist_status  stickied  \\\n",
       "0                   no_ads      True   \n",
       "1                   no_ads      True   \n",
       "2                   no_ads     False   \n",
       "3                   no_ads     False   \n",
       "4                   no_ads     False   \n",
       "\n",
       "                                                 url  subreddit_subscribers  \\\n",
       "0  https://www.reddit.com/r/depression/comments/d...                 640619   \n",
       "1  https://www.reddit.com/r/depression/comments/e...                 640619   \n",
       "2  https://www.reddit.com/r/depression/comments/g...                 640619   \n",
       "3  https://www.reddit.com/r/depression/comments/g...                 640619   \n",
       "4  https://www.reddit.com/r/depression/comments/g...                 640619   \n",
       "\n",
       "    created_utc  num_crossposts media  is_video  \n",
       "0  1.572361e+09               0   NaN     False  \n",
       "1  1.580649e+09               0   NaN     False  \n",
       "2  1.590803e+09               0   NaN     False  \n",
       "3  1.590814e+09               0   NaN     False  \n",
       "4  1.590840e+09               0   NaN     False  \n",
       "\n",
       "[5 rows x 101 columns]"
      ]
     },
     "execution_count": 5,
     "metadata": {},
     "output_type": "execute_result"
    }
   ],
   "source": [
    "depression_df.head()"
   ]
  },
  {
   "cell_type": "code",
   "execution_count": 6,
   "metadata": {},
   "outputs": [],
   "source": [
    "cleaned_sucide_df=sucide_df[['subreddit','selftext','title','name']]"
   ]
  },
  {
   "cell_type": "code",
   "execution_count": 7,
   "metadata": {},
   "outputs": [],
   "source": [
    "cleaned_depression_df=depression_df[['subreddit','selftext','title','name']]"
   ]
  },
  {
   "cell_type": "markdown",
   "metadata": {},
   "source": [
    "### Settting Target Variables"
   ]
  },
  {
   "cell_type": "code",
   "execution_count": 8,
   "metadata": {},
   "outputs": [
    {
     "name": "stderr",
     "output_type": "stream",
     "text": [
      "/home/s0umyajit/anaconda3/lib/python3.7/site-packages/ipykernel_launcher.py:1: SettingWithCopyWarning: \n",
      "A value is trying to be set on a copy of a slice from a DataFrame.\n",
      "Try using .loc[row_indexer,col_indexer] = value instead\n",
      "\n",
      "See the caveats in the documentation: http://pandas.pydata.org/pandas-docs/stable/user_guide/indexing.html#returning-a-view-versus-a-copy\n",
      "  \"\"\"Entry point for launching an IPython kernel.\n",
      "/home/s0umyajit/anaconda3/lib/python3.7/site-packages/ipykernel_launcher.py:2: SettingWithCopyWarning: \n",
      "A value is trying to be set on a copy of a slice from a DataFrame.\n",
      "Try using .loc[row_indexer,col_indexer] = value instead\n",
      "\n",
      "See the caveats in the documentation: http://pandas.pydata.org/pandas-docs/stable/user_guide/indexing.html#returning-a-view-versus-a-copy\n",
      "  \n"
     ]
    }
   ],
   "source": [
    "cleaned_sucide_df['is_sucide']=1\n",
    "cleaned_depression_df['is_sucide']=0"
   ]
  },
  {
   "cell_type": "code",
   "execution_count": 9,
   "metadata": {},
   "outputs": [
    {
     "data": {
      "text/html": [
       "<div>\n",
       "<style scoped>\n",
       "    .dataframe tbody tr th:only-of-type {\n",
       "        vertical-align: middle;\n",
       "    }\n",
       "\n",
       "    .dataframe tbody tr th {\n",
       "        vertical-align: top;\n",
       "    }\n",
       "\n",
       "    .dataframe thead th {\n",
       "        text-align: right;\n",
       "    }\n",
       "</style>\n",
       "<table border=\"1\" class=\"dataframe\">\n",
       "  <thead>\n",
       "    <tr style=\"text-align: right;\">\n",
       "      <th></th>\n",
       "      <th>subreddit</th>\n",
       "      <th>selftext</th>\n",
       "      <th>title</th>\n",
       "      <th>name</th>\n",
       "      <th>is_sucide</th>\n",
       "    </tr>\n",
       "  </thead>\n",
       "  <tbody>\n",
       "    <tr>\n",
       "      <td>0</td>\n",
       "      <td>SuicideWatch</td>\n",
       "      <td>We've been seeing a worrying increase in pro-s...</td>\n",
       "      <td>New wiki on how to avoid accidentally encourag...</td>\n",
       "      <td>t3_cz6nfd</td>\n",
       "      <td>1</td>\n",
       "    </tr>\n",
       "    <tr>\n",
       "      <td>1</td>\n",
       "      <td>SuicideWatch</td>\n",
       "      <td>If you want to recognise an occasion, please d...</td>\n",
       "      <td>Reminder: Absolutely no activism of any kind i...</td>\n",
       "      <td>t3_d2370x</td>\n",
       "      <td>1</td>\n",
       "    </tr>\n",
       "    <tr>\n",
       "      <td>2</td>\n",
       "      <td>SuicideWatch</td>\n",
       "      <td>All I want is to be a normal person who can ju...</td>\n",
       "      <td>Every time I feel optimistic, every time I thi...</td>\n",
       "      <td>t3_gt6nhf</td>\n",
       "      <td>1</td>\n",
       "    </tr>\n",
       "    <tr>\n",
       "      <td>3</td>\n",
       "      <td>SuicideWatch</td>\n",
       "      <td>Original post: https://www.reddit.com/r/Suicid...</td>\n",
       "      <td>Wife cheated update</td>\n",
       "      <td>t3_gtdvnt</td>\n",
       "      <td>1</td>\n",
       "    </tr>\n",
       "    <tr>\n",
       "      <td>4</td>\n",
       "      <td>SuicideWatch</td>\n",
       "      <td>Basically the title. Every time I or some one ...</td>\n",
       "      <td>How come I can't choose suicide as an option? ...</td>\n",
       "      <td>t3_gt6tdi</td>\n",
       "      <td>1</td>\n",
       "    </tr>\n",
       "  </tbody>\n",
       "</table>\n",
       "</div>"
      ],
      "text/plain": [
       "      subreddit                                           selftext  \\\n",
       "0  SuicideWatch  We've been seeing a worrying increase in pro-s...   \n",
       "1  SuicideWatch  If you want to recognise an occasion, please d...   \n",
       "2  SuicideWatch  All I want is to be a normal person who can ju...   \n",
       "3  SuicideWatch  Original post: https://www.reddit.com/r/Suicid...   \n",
       "4  SuicideWatch  Basically the title. Every time I or some one ...   \n",
       "\n",
       "                                               title       name  is_sucide  \n",
       "0  New wiki on how to avoid accidentally encourag...  t3_cz6nfd          1  \n",
       "1  Reminder: Absolutely no activism of any kind i...  t3_d2370x          1  \n",
       "2  Every time I feel optimistic, every time I thi...  t3_gt6nhf          1  \n",
       "3                                Wife cheated update  t3_gtdvnt          1  \n",
       "4  How come I can't choose suicide as an option? ...  t3_gt6tdi          1  "
      ]
     },
     "execution_count": 9,
     "metadata": {},
     "output_type": "execute_result"
    }
   ],
   "source": [
    "cleaned_sucide_df.head()"
   ]
  },
  {
   "cell_type": "code",
   "execution_count": 10,
   "metadata": {},
   "outputs": [
    {
     "data": {
      "text/html": [
       "<div>\n",
       "<style scoped>\n",
       "    .dataframe tbody tr th:only-of-type {\n",
       "        vertical-align: middle;\n",
       "    }\n",
       "\n",
       "    .dataframe tbody tr th {\n",
       "        vertical-align: top;\n",
       "    }\n",
       "\n",
       "    .dataframe thead th {\n",
       "        text-align: right;\n",
       "    }\n",
       "</style>\n",
       "<table border=\"1\" class=\"dataframe\">\n",
       "  <thead>\n",
       "    <tr style=\"text-align: right;\">\n",
       "      <th></th>\n",
       "      <th>subreddit</th>\n",
       "      <th>selftext</th>\n",
       "      <th>title</th>\n",
       "      <th>name</th>\n",
       "      <th>is_sucide</th>\n",
       "    </tr>\n",
       "  </thead>\n",
       "  <tbody>\n",
       "    <tr>\n",
       "      <td>0</td>\n",
       "      <td>depression</td>\n",
       "      <td>We understand that most people who reply immed...</td>\n",
       "      <td>Our most-broken and least-understood rules is ...</td>\n",
       "      <td>t3_doqwow</td>\n",
       "      <td>0</td>\n",
       "    </tr>\n",
       "    <tr>\n",
       "      <td>1</td>\n",
       "      <td>depression</td>\n",
       "      <td>Welcome to /r/depression's check-in post - a p...</td>\n",
       "      <td>Regular Check-In Post</td>\n",
       "      <td>t3_exo6f1</td>\n",
       "      <td>0</td>\n",
       "    </tr>\n",
       "    <tr>\n",
       "      <td>2</td>\n",
       "      <td>depression</td>\n",
       "      <td>I know I have issues. But I go through manic m...</td>\n",
       "      <td>Anyone keep switching from admitting to yourse...</td>\n",
       "      <td>t3_gt5txv</td>\n",
       "      <td>0</td>\n",
       "    </tr>\n",
       "    <tr>\n",
       "      <td>3</td>\n",
       "      <td>depression</td>\n",
       "      <td>I feel a sense of guilt for being depressed de...</td>\n",
       "      <td>Depression guilt.</td>\n",
       "      <td>t3_gt8csv</td>\n",
       "      <td>0</td>\n",
       "    </tr>\n",
       "    <tr>\n",
       "      <td>4</td>\n",
       "      <td>depression</td>\n",
       "      <td>**TLDR**\\- I'm ugly and I hate the way I look....</td>\n",
       "      <td>I absolutely hate the way I look and I'm repul...</td>\n",
       "      <td>t3_gtd7lc</td>\n",
       "      <td>0</td>\n",
       "    </tr>\n",
       "  </tbody>\n",
       "</table>\n",
       "</div>"
      ],
      "text/plain": [
       "    subreddit                                           selftext  \\\n",
       "0  depression  We understand that most people who reply immed...   \n",
       "1  depression  Welcome to /r/depression's check-in post - a p...   \n",
       "2  depression  I know I have issues. But I go through manic m...   \n",
       "3  depression  I feel a sense of guilt for being depressed de...   \n",
       "4  depression  **TLDR**\\- I'm ugly and I hate the way I look....   \n",
       "\n",
       "                                               title       name  is_sucide  \n",
       "0  Our most-broken and least-understood rules is ...  t3_doqwow          0  \n",
       "1                              Regular Check-In Post  t3_exo6f1          0  \n",
       "2  Anyone keep switching from admitting to yourse...  t3_gt5txv          0  \n",
       "3                                  Depression guilt.  t3_gt8csv          0  \n",
       "4  I absolutely hate the way I look and I'm repul...  t3_gtd7lc          0  "
      ]
     },
     "execution_count": 10,
     "metadata": {},
     "output_type": "execute_result"
    }
   ],
   "source": [
    "cleaned_depression_df.head()"
   ]
  },
  {
   "cell_type": "code",
   "execution_count": 11,
   "metadata": {},
   "outputs": [
    {
     "data": {
      "text/plain": [
       "(2466, 5)"
      ]
     },
     "execution_count": 11,
     "metadata": {},
     "output_type": "execute_result"
    }
   ],
   "source": [
    "cleaned_sucide_df.shape"
   ]
  },
  {
   "cell_type": "code",
   "execution_count": 12,
   "metadata": {},
   "outputs": [
    {
     "data": {
      "text/plain": [
       "(2495, 5)"
      ]
     },
     "execution_count": 12,
     "metadata": {},
     "output_type": "execute_result"
    }
   ],
   "source": [
    "cleaned_depression_df.shape"
   ]
  },
  {
   "cell_type": "markdown",
   "metadata": {},
   "source": [
    "### Checking For Duplicate Values and Removing them"
   ]
  },
  {
   "cell_type": "code",
   "execution_count": 13,
   "metadata": {},
   "outputs": [
    {
     "data": {
      "text/plain": [
       "t3_gt351y    3\n",
       "t3_gtc30u    3\n",
       "t3_gt307w    3\n",
       "t3_gt2r3v    3\n",
       "t3_gtanto    3\n",
       "            ..\n",
       "t3_gs3vki    2\n",
       "t3_grxgxj    2\n",
       "t3_gs9514    2\n",
       "t3_grnb1w    2\n",
       "t3_gtgprz    1\n",
       "Name: name, Length: 983, dtype: int64"
      ]
     },
     "execution_count": 13,
     "metadata": {},
     "output_type": "execute_result"
    }
   ],
   "source": [
    "cleaned_sucide_df['name'].value_counts()"
   ]
  },
  {
   "cell_type": "code",
   "execution_count": 14,
   "metadata": {},
   "outputs": [
    {
     "name": "stderr",
     "output_type": "stream",
     "text": [
      "/home/s0umyajit/anaconda3/lib/python3.7/site-packages/ipykernel_launcher.py:1: SettingWithCopyWarning: \n",
      "A value is trying to be set on a copy of a slice from a DataFrame\n",
      "\n",
      "See the caveats in the documentation: http://pandas.pydata.org/pandas-docs/stable/user_guide/indexing.html#returning-a-view-versus-a-copy\n",
      "  \"\"\"Entry point for launching an IPython kernel.\n"
     ]
    }
   ],
   "source": [
    "cleaned_sucide_df.drop_duplicates(keep='first',inplace=True,subset='name') "
   ]
  },
  {
   "cell_type": "code",
   "execution_count": 15,
   "metadata": {},
   "outputs": [
    {
     "data": {
      "text/plain": [
       "t3_gtdn8r    3\n",
       "t3_gt8qcy    3\n",
       "t3_gsntvl    3\n",
       "t3_gtfu2s    3\n",
       "t3_gt9hq7    3\n",
       "            ..\n",
       "t3_gsgczz    2\n",
       "t3_gslbp6    2\n",
       "t3_gsbl3b    1\n",
       "t3_gtgld1    1\n",
       "t3_gtglxi    1\n",
       "Name: name, Length: 949, dtype: int64"
      ]
     },
     "execution_count": 15,
     "metadata": {},
     "output_type": "execute_result"
    }
   ],
   "source": [
    "cleaned_depression_df['name'].value_counts()"
   ]
  },
  {
   "cell_type": "code",
   "execution_count": 16,
   "metadata": {},
   "outputs": [
    {
     "name": "stderr",
     "output_type": "stream",
     "text": [
      "/home/s0umyajit/anaconda3/lib/python3.7/site-packages/ipykernel_launcher.py:1: SettingWithCopyWarning: \n",
      "A value is trying to be set on a copy of a slice from a DataFrame\n",
      "\n",
      "See the caveats in the documentation: http://pandas.pydata.org/pandas-docs/stable/user_guide/indexing.html#returning-a-view-versus-a-copy\n",
      "  \"\"\"Entry point for launching an IPython kernel.\n"
     ]
    }
   ],
   "source": [
    "cleaned_depression_df.drop_duplicates(keep='first',inplace=True,subset='name') "
   ]
  },
  {
   "cell_type": "code",
   "execution_count": 17,
   "metadata": {},
   "outputs": [
    {
     "data": {
      "text/plain": [
       "(949, 5)"
      ]
     },
     "execution_count": 17,
     "metadata": {},
     "output_type": "execute_result"
    }
   ],
   "source": [
    "cleaned_depression_df.shape"
   ]
  },
  {
   "cell_type": "code",
   "execution_count": 18,
   "metadata": {},
   "outputs": [
    {
     "data": {
      "text/plain": [
       "(983, 5)"
      ]
     },
     "execution_count": 18,
     "metadata": {},
     "output_type": "execute_result"
    }
   ],
   "source": [
    "cleaned_sucide_df.shape"
   ]
  },
  {
   "cell_type": "code",
   "execution_count": 19,
   "metadata": {},
   "outputs": [
    {
     "data": {
      "text/html": [
       "<div>\n",
       "<style scoped>\n",
       "    .dataframe tbody tr th:only-of-type {\n",
       "        vertical-align: middle;\n",
       "    }\n",
       "\n",
       "    .dataframe tbody tr th {\n",
       "        vertical-align: top;\n",
       "    }\n",
       "\n",
       "    .dataframe thead th {\n",
       "        text-align: right;\n",
       "    }\n",
       "</style>\n",
       "<table border=\"1\" class=\"dataframe\">\n",
       "  <thead>\n",
       "    <tr style=\"text-align: right;\">\n",
       "      <th></th>\n",
       "      <th>subreddit</th>\n",
       "      <th>selftext</th>\n",
       "      <th>title</th>\n",
       "      <th>name</th>\n",
       "      <th>is_sucide</th>\n",
       "    </tr>\n",
       "  </thead>\n",
       "  <tbody>\n",
       "    <tr>\n",
       "      <td>0</td>\n",
       "      <td>depression</td>\n",
       "      <td>We understand that most people who reply immed...</td>\n",
       "      <td>Our most-broken and least-understood rules is ...</td>\n",
       "      <td>t3_doqwow</td>\n",
       "      <td>0</td>\n",
       "    </tr>\n",
       "    <tr>\n",
       "      <td>1</td>\n",
       "      <td>depression</td>\n",
       "      <td>Welcome to /r/depression's check-in post - a p...</td>\n",
       "      <td>Regular Check-In Post</td>\n",
       "      <td>t3_exo6f1</td>\n",
       "      <td>0</td>\n",
       "    </tr>\n",
       "    <tr>\n",
       "      <td>2</td>\n",
       "      <td>depression</td>\n",
       "      <td>I know I have issues. But I go through manic m...</td>\n",
       "      <td>Anyone keep switching from admitting to yourse...</td>\n",
       "      <td>t3_gt5txv</td>\n",
       "      <td>0</td>\n",
       "    </tr>\n",
       "    <tr>\n",
       "      <td>3</td>\n",
       "      <td>depression</td>\n",
       "      <td>I feel a sense of guilt for being depressed de...</td>\n",
       "      <td>Depression guilt.</td>\n",
       "      <td>t3_gt8csv</td>\n",
       "      <td>0</td>\n",
       "    </tr>\n",
       "    <tr>\n",
       "      <td>4</td>\n",
       "      <td>depression</td>\n",
       "      <td>**TLDR**\\- I'm ugly and I hate the way I look....</td>\n",
       "      <td>I absolutely hate the way I look and I'm repul...</td>\n",
       "      <td>t3_gtd7lc</td>\n",
       "      <td>0</td>\n",
       "    </tr>\n",
       "  </tbody>\n",
       "</table>\n",
       "</div>"
      ],
      "text/plain": [
       "    subreddit                                           selftext  \\\n",
       "0  depression  We understand that most people who reply immed...   \n",
       "1  depression  Welcome to /r/depression's check-in post - a p...   \n",
       "2  depression  I know I have issues. But I go through manic m...   \n",
       "3  depression  I feel a sense of guilt for being depressed de...   \n",
       "4  depression  **TLDR**\\- I'm ugly and I hate the way I look....   \n",
       "\n",
       "                                               title       name  is_sucide  \n",
       "0  Our most-broken and least-understood rules is ...  t3_doqwow          0  \n",
       "1                              Regular Check-In Post  t3_exo6f1          0  \n",
       "2  Anyone keep switching from admitting to yourse...  t3_gt5txv          0  \n",
       "3                                  Depression guilt.  t3_gt8csv          0  \n",
       "4  I absolutely hate the way I look and I'm repul...  t3_gtd7lc          0  "
      ]
     },
     "execution_count": 19,
     "metadata": {},
     "output_type": "execute_result"
    }
   ],
   "source": [
    "cleaned_depression_df.head()"
   ]
  },
  {
   "cell_type": "code",
   "execution_count": 20,
   "metadata": {},
   "outputs": [
    {
     "data": {
      "text/html": [
       "<div>\n",
       "<style scoped>\n",
       "    .dataframe tbody tr th:only-of-type {\n",
       "        vertical-align: middle;\n",
       "    }\n",
       "\n",
       "    .dataframe tbody tr th {\n",
       "        vertical-align: top;\n",
       "    }\n",
       "\n",
       "    .dataframe thead th {\n",
       "        text-align: right;\n",
       "    }\n",
       "</style>\n",
       "<table border=\"1\" class=\"dataframe\">\n",
       "  <thead>\n",
       "    <tr style=\"text-align: right;\">\n",
       "      <th></th>\n",
       "      <th>subreddit</th>\n",
       "      <th>selftext</th>\n",
       "      <th>title</th>\n",
       "      <th>name</th>\n",
       "      <th>is_sucide</th>\n",
       "    </tr>\n",
       "  </thead>\n",
       "  <tbody>\n",
       "    <tr>\n",
       "      <td>0</td>\n",
       "      <td>SuicideWatch</td>\n",
       "      <td>We've been seeing a worrying increase in pro-s...</td>\n",
       "      <td>New wiki on how to avoid accidentally encourag...</td>\n",
       "      <td>t3_cz6nfd</td>\n",
       "      <td>1</td>\n",
       "    </tr>\n",
       "    <tr>\n",
       "      <td>1</td>\n",
       "      <td>SuicideWatch</td>\n",
       "      <td>If you want to recognise an occasion, please d...</td>\n",
       "      <td>Reminder: Absolutely no activism of any kind i...</td>\n",
       "      <td>t3_d2370x</td>\n",
       "      <td>1</td>\n",
       "    </tr>\n",
       "    <tr>\n",
       "      <td>2</td>\n",
       "      <td>SuicideWatch</td>\n",
       "      <td>All I want is to be a normal person who can ju...</td>\n",
       "      <td>Every time I feel optimistic, every time I thi...</td>\n",
       "      <td>t3_gt6nhf</td>\n",
       "      <td>1</td>\n",
       "    </tr>\n",
       "    <tr>\n",
       "      <td>3</td>\n",
       "      <td>SuicideWatch</td>\n",
       "      <td>Original post: https://www.reddit.com/r/Suicid...</td>\n",
       "      <td>Wife cheated update</td>\n",
       "      <td>t3_gtdvnt</td>\n",
       "      <td>1</td>\n",
       "    </tr>\n",
       "    <tr>\n",
       "      <td>4</td>\n",
       "      <td>SuicideWatch</td>\n",
       "      <td>Basically the title. Every time I or some one ...</td>\n",
       "      <td>How come I can't choose suicide as an option? ...</td>\n",
       "      <td>t3_gt6tdi</td>\n",
       "      <td>1</td>\n",
       "    </tr>\n",
       "  </tbody>\n",
       "</table>\n",
       "</div>"
      ],
      "text/plain": [
       "      subreddit                                           selftext  \\\n",
       "0  SuicideWatch  We've been seeing a worrying increase in pro-s...   \n",
       "1  SuicideWatch  If you want to recognise an occasion, please d...   \n",
       "2  SuicideWatch  All I want is to be a normal person who can ju...   \n",
       "3  SuicideWatch  Original post: https://www.reddit.com/r/Suicid...   \n",
       "4  SuicideWatch  Basically the title. Every time I or some one ...   \n",
       "\n",
       "                                               title       name  is_sucide  \n",
       "0  New wiki on how to avoid accidentally encourag...  t3_cz6nfd          1  \n",
       "1  Reminder: Absolutely no activism of any kind i...  t3_d2370x          1  \n",
       "2  Every time I feel optimistic, every time I thi...  t3_gt6nhf          1  \n",
       "3                                Wife cheated update  t3_gtdvnt          1  \n",
       "4  How come I can't choose suicide as an option? ...  t3_gt6tdi          1  "
      ]
     },
     "execution_count": 20,
     "metadata": {},
     "output_type": "execute_result"
    }
   ],
   "source": [
    "cleaned_sucide_df.head()"
   ]
  },
  {
   "cell_type": "markdown",
   "metadata": {},
   "source": [
    "### Saving In csv files"
   ]
  },
  {
   "cell_type": "code",
   "execution_count": 21,
   "metadata": {},
   "outputs": [],
   "source": [
    "cleaned_sucide_df.to_csv('cleaned_sucide.csv',index=False)"
   ]
  },
  {
   "cell_type": "code",
   "execution_count": 22,
   "metadata": {},
   "outputs": [],
   "source": [
    "cleaned_depression_df.to_csv('cleaned_depression.csv',index=False)"
   ]
  },
  {
   "cell_type": "code",
   "execution_count": 23,
   "metadata": {},
   "outputs": [],
   "source": [
    "combined_df=pd.concat([cleaned_sucide_df,cleaned_depression_df],ignore_index=True)"
   ]
  },
  {
   "cell_type": "code",
   "execution_count": 24,
   "metadata": {},
   "outputs": [
    {
     "data": {
      "text/html": [
       "<div>\n",
       "<style scoped>\n",
       "    .dataframe tbody tr th:only-of-type {\n",
       "        vertical-align: middle;\n",
       "    }\n",
       "\n",
       "    .dataframe tbody tr th {\n",
       "        vertical-align: top;\n",
       "    }\n",
       "\n",
       "    .dataframe thead th {\n",
       "        text-align: right;\n",
       "    }\n",
       "</style>\n",
       "<table border=\"1\" class=\"dataframe\">\n",
       "  <thead>\n",
       "    <tr style=\"text-align: right;\">\n",
       "      <th></th>\n",
       "      <th>subreddit</th>\n",
       "      <th>selftext</th>\n",
       "      <th>title</th>\n",
       "      <th>name</th>\n",
       "      <th>is_sucide</th>\n",
       "    </tr>\n",
       "  </thead>\n",
       "  <tbody>\n",
       "    <tr>\n",
       "      <td>0</td>\n",
       "      <td>SuicideWatch</td>\n",
       "      <td>We've been seeing a worrying increase in pro-s...</td>\n",
       "      <td>New wiki on how to avoid accidentally encourag...</td>\n",
       "      <td>t3_cz6nfd</td>\n",
       "      <td>1</td>\n",
       "    </tr>\n",
       "    <tr>\n",
       "      <td>1</td>\n",
       "      <td>SuicideWatch</td>\n",
       "      <td>If you want to recognise an occasion, please d...</td>\n",
       "      <td>Reminder: Absolutely no activism of any kind i...</td>\n",
       "      <td>t3_d2370x</td>\n",
       "      <td>1</td>\n",
       "    </tr>\n",
       "    <tr>\n",
       "      <td>2</td>\n",
       "      <td>SuicideWatch</td>\n",
       "      <td>All I want is to be a normal person who can ju...</td>\n",
       "      <td>Every time I feel optimistic, every time I thi...</td>\n",
       "      <td>t3_gt6nhf</td>\n",
       "      <td>1</td>\n",
       "    </tr>\n",
       "    <tr>\n",
       "      <td>3</td>\n",
       "      <td>SuicideWatch</td>\n",
       "      <td>Original post: https://www.reddit.com/r/Suicid...</td>\n",
       "      <td>Wife cheated update</td>\n",
       "      <td>t3_gtdvnt</td>\n",
       "      <td>1</td>\n",
       "    </tr>\n",
       "    <tr>\n",
       "      <td>4</td>\n",
       "      <td>SuicideWatch</td>\n",
       "      <td>Basically the title. Every time I or some one ...</td>\n",
       "      <td>How come I can't choose suicide as an option? ...</td>\n",
       "      <td>t3_gt6tdi</td>\n",
       "      <td>1</td>\n",
       "    </tr>\n",
       "    <tr>\n",
       "      <td>...</td>\n",
       "      <td>...</td>\n",
       "      <td>...</td>\n",
       "      <td>...</td>\n",
       "      <td>...</td>\n",
       "      <td>...</td>\n",
       "    </tr>\n",
       "    <tr>\n",
       "      <td>1927</td>\n",
       "      <td>depression</td>\n",
       "      <td>I have been having a real hard time lately , I...</td>\n",
       "      <td>I need help (18M)</td>\n",
       "      <td>t3_gs3656</td>\n",
       "      <td>0</td>\n",
       "    </tr>\n",
       "    <tr>\n",
       "      <td>1928</td>\n",
       "      <td>depression</td>\n",
       "      <td>This is now my second post this week but I don...</td>\n",
       "      <td>Running in Circles</td>\n",
       "      <td>t3_gs7evl</td>\n",
       "      <td>0</td>\n",
       "    </tr>\n",
       "    <tr>\n",
       "      <td>1929</td>\n",
       "      <td>depression</td>\n",
       "      <td>I am 20 and have arthritis which makes my join...</td>\n",
       "      <td>What are you supposed to do to enjoy life the ...</td>\n",
       "      <td>t3_gsbl3b</td>\n",
       "      <td>0</td>\n",
       "    </tr>\n",
       "    <tr>\n",
       "      <td>1930</td>\n",
       "      <td>depression</td>\n",
       "      <td>At this point, I want the virus to take me. I ...</td>\n",
       "      <td>Have you guys ever asked yourself “Do I have a...</td>\n",
       "      <td>t3_gtglxi</td>\n",
       "      <td>0</td>\n",
       "    </tr>\n",
       "    <tr>\n",
       "      <td>1931</td>\n",
       "      <td>depression</td>\n",
       "      <td>I cant Cry rn cause im lonely...Im faking a sm...</td>\n",
       "      <td>Am i Not appreciatable..</td>\n",
       "      <td>t3_gtgld1</td>\n",
       "      <td>0</td>\n",
       "    </tr>\n",
       "  </tbody>\n",
       "</table>\n",
       "<p>1932 rows × 5 columns</p>\n",
       "</div>"
      ],
      "text/plain": [
       "         subreddit                                           selftext  \\\n",
       "0     SuicideWatch  We've been seeing a worrying increase in pro-s...   \n",
       "1     SuicideWatch  If you want to recognise an occasion, please d...   \n",
       "2     SuicideWatch  All I want is to be a normal person who can ju...   \n",
       "3     SuicideWatch  Original post: https://www.reddit.com/r/Suicid...   \n",
       "4     SuicideWatch  Basically the title. Every time I or some one ...   \n",
       "...            ...                                                ...   \n",
       "1927    depression  I have been having a real hard time lately , I...   \n",
       "1928    depression  This is now my second post this week but I don...   \n",
       "1929    depression  I am 20 and have arthritis which makes my join...   \n",
       "1930    depression  At this point, I want the virus to take me. I ...   \n",
       "1931    depression  I cant Cry rn cause im lonely...Im faking a sm...   \n",
       "\n",
       "                                                  title       name  is_sucide  \n",
       "0     New wiki on how to avoid accidentally encourag...  t3_cz6nfd          1  \n",
       "1     Reminder: Absolutely no activism of any kind i...  t3_d2370x          1  \n",
       "2     Every time I feel optimistic, every time I thi...  t3_gt6nhf          1  \n",
       "3                                   Wife cheated update  t3_gtdvnt          1  \n",
       "4     How come I can't choose suicide as an option? ...  t3_gt6tdi          1  \n",
       "...                                                 ...        ...        ...  \n",
       "1927                                  I need help (18M)  t3_gs3656          0  \n",
       "1928                                 Running in Circles  t3_gs7evl          0  \n",
       "1929  What are you supposed to do to enjoy life the ...  t3_gsbl3b          0  \n",
       "1930  Have you guys ever asked yourself “Do I have a...  t3_gtglxi          0  \n",
       "1931                           Am i Not appreciatable..  t3_gtgld1          0  \n",
       "\n",
       "[1932 rows x 5 columns]"
      ]
     },
     "execution_count": 24,
     "metadata": {},
     "output_type": "execute_result"
    }
   ],
   "source": [
    "combined_df"
   ]
  },
  {
   "cell_type": "code",
   "execution_count": 25,
   "metadata": {},
   "outputs": [],
   "source": [
    "combined_df.to_csv('combined.csv',index=False)"
   ]
  },
  {
   "cell_type": "markdown",
   "metadata": {},
   "source": [
    "#### Conclusion:\n",
    "* After cleaning the number of records we reduced to 1000 for each and total of 2000"
   ]
  }
 ],
 "metadata": {
  "kernelspec": {
   "display_name": "Python 3",
   "language": "python",
   "name": "python3"
  },
  "language_info": {
   "codemirror_mode": {
    "name": "ipython",
    "version": 3
   },
   "file_extension": ".py",
   "mimetype": "text/x-python",
   "name": "python",
   "nbconvert_exporter": "python",
   "pygments_lexer": "ipython3",
   "version": "3.7.4"
  }
 },
 "nbformat": 4,
 "nbformat_minor": 2
}
