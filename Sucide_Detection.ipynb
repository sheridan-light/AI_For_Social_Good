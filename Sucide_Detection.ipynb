{
  "nbformat": 4,
  "nbformat_minor": 0,
  "metadata": {
    "colab": {
      "name": "Sucide_Detection.ipynb",
      "provenance": [],
      "collapsed_sections": []
    },
    "kernelspec": {
      "name": "python3",
      "display_name": "Python 3"
    },
    "accelerator": "GPU"
  },
  "cells": [
    {
      "cell_type": "markdown",
      "metadata": {
        "id": "BJv6ecMBInoM",
        "colab_type": "text"
      },
      "source": [
        "# Building A Suicide Text Classifier"
      ]
    },
    {
      "cell_type": "markdown",
      "metadata": {
        "id": "lZEJ5aBeIiGn",
        "colab_type": "text"
      },
      "source": [
        "## Importing Library"
      ]
    },
    {
      "cell_type": "code",
      "metadata": {
        "id": "YrzAmNIlqCVv",
        "colab_type": "code",
        "colab": {}
      },
      "source": [
        "import pandas as pd\n",
        "import numpy as np\n",
        "import os\n",
        "import matplotlib.pyplot as plt"
      ],
      "execution_count": 0,
      "outputs": []
    },
    {
      "cell_type": "code",
      "metadata": {
        "id": "McFoueZJqU26",
        "colab_type": "code",
        "colab": {
          "base_uri": "https://localhost:8080/",
          "height": 34
        },
        "outputId": "2eaf08ad-86e2-4e19-a9bf-38bbeed00b46"
      },
      "source": [
        "import tensorflow as tf\n",
        "tf.__version__"
      ],
      "execution_count": 64,
      "outputs": [
        {
          "output_type": "execute_result",
          "data": {
            "text/plain": [
              "'2.2.0'"
            ]
          },
          "metadata": {
            "tags": []
          },
          "execution_count": 64
        }
      ]
    },
    {
      "cell_type": "code",
      "metadata": {
        "id": "DyyLCMUtsuKc",
        "colab_type": "code",
        "colab": {}
      },
      "source": [
        "import re\n",
        "import nltk"
      ],
      "execution_count": 0,
      "outputs": []
    },
    {
      "cell_type": "code",
      "metadata": {
        "id": "TqQKDeebtFHJ",
        "colab_type": "code",
        "colab": {}
      },
      "source": [
        "from tensorflow.keras.preprocessing.text import Tokenizer\n",
        "from tensorflow.keras.preprocessing.sequence import pad_sequences"
      ],
      "execution_count": 0,
      "outputs": []
    },
    {
      "cell_type": "code",
      "metadata": {
        "id": "0nz1uLYqtM3M",
        "colab_type": "code",
        "colab": {}
      },
      "source": [
        "from tensorflow.keras.models import Sequential\n",
        "from tensorflow.keras.layers import Embedding\n",
        "from tensorflow.keras.layers import Dense\n",
        "from tensorflow.keras.layers import Dropout\n",
        "from tensorflow.keras.layers import Bidirectional\n",
        "from tensorflow.keras.layers import LSTM\n",
        "from tensorflow.keras.utils import plot_model\n",
        "from tensorflow.keras.models import load_model"
      ],
      "execution_count": 0,
      "outputs": []
    },
    {
      "cell_type": "code",
      "metadata": {
        "id": "V-j8D-klrqE0",
        "colab_type": "code",
        "colab": {}
      },
      "source": [
        "from sklearn.model_selection import train_test_split\n",
        "from sklearn.metrics import classification_report,confusion_matrix"
      ],
      "execution_count": 0,
      "outputs": []
    },
    {
      "cell_type": "markdown",
      "metadata": {
        "id": "6vXjlpnyIZ7C",
        "colab_type": "text"
      },
      "source": [
        "## Loading The Dataset"
      ]
    },
    {
      "cell_type": "code",
      "metadata": {
        "id": "Sp3ohzJXqZTw",
        "colab_type": "code",
        "colab": {}
      },
      "source": [
        "df=pd.read_csv('/content/drive/My Drive/Colab Notebooks/Datasets/combined_sucide_detect.csv')"
      ],
      "execution_count": 0,
      "outputs": []
    },
    {
      "cell_type": "code",
      "metadata": {
        "id": "Wypy7uEfrx_K",
        "colab_type": "code",
        "colab": {
          "base_uri": "https://localhost:8080/",
          "height": 197
        },
        "outputId": "861220f4-0f55-480e-b553-d1f9ca897760"
      },
      "source": [
        "df.head()"
      ],
      "execution_count": 70,
      "outputs": [
        {
          "output_type": "execute_result",
          "data": {
            "text/html": [
              "<div>\n",
              "<style scoped>\n",
              "    .dataframe tbody tr th:only-of-type {\n",
              "        vertical-align: middle;\n",
              "    }\n",
              "\n",
              "    .dataframe tbody tr th {\n",
              "        vertical-align: top;\n",
              "    }\n",
              "\n",
              "    .dataframe thead th {\n",
              "        text-align: right;\n",
              "    }\n",
              "</style>\n",
              "<table border=\"1\" class=\"dataframe\">\n",
              "  <thead>\n",
              "    <tr style=\"text-align: right;\">\n",
              "      <th></th>\n",
              "      <th>subreddit</th>\n",
              "      <th>selftext</th>\n",
              "      <th>title</th>\n",
              "      <th>name</th>\n",
              "      <th>is_sucide</th>\n",
              "    </tr>\n",
              "  </thead>\n",
              "  <tbody>\n",
              "    <tr>\n",
              "      <th>0</th>\n",
              "      <td>SuicideWatch</td>\n",
              "      <td>We've been seeing a worrying increase in pro-s...</td>\n",
              "      <td>New wiki on how to avoid accidentally encourag...</td>\n",
              "      <td>t3_cz6nfd</td>\n",
              "      <td>1</td>\n",
              "    </tr>\n",
              "    <tr>\n",
              "      <th>1</th>\n",
              "      <td>SuicideWatch</td>\n",
              "      <td>If you want to recognise an occasion, please d...</td>\n",
              "      <td>Reminder: Absolutely no activism of any kind i...</td>\n",
              "      <td>t3_d2370x</td>\n",
              "      <td>1</td>\n",
              "    </tr>\n",
              "    <tr>\n",
              "      <th>2</th>\n",
              "      <td>SuicideWatch</td>\n",
              "      <td>NaN</td>\n",
              "      <td>sleep just isn't sleep anymore, it's an escape.</td>\n",
              "      <td>t3_gosr7c</td>\n",
              "      <td>1</td>\n",
              "    </tr>\n",
              "    <tr>\n",
              "      <th>3</th>\n",
              "      <td>SuicideWatch</td>\n",
              "      <td>I just want to go to sleep, and never wake up</td>\n",
              "      <td>Fuck me</td>\n",
              "      <td>t3_gomrql</td>\n",
              "      <td>1</td>\n",
              "    </tr>\n",
              "    <tr>\n",
              "      <th>4</th>\n",
              "      <td>SuicideWatch</td>\n",
              "      <td>Seriously going through some existential stuff...</td>\n",
              "      <td>What is the point of living in this corrupt ce...</td>\n",
              "      <td>t3_gow0e9</td>\n",
              "      <td>1</td>\n",
              "    </tr>\n",
              "  </tbody>\n",
              "</table>\n",
              "</div>"
            ],
            "text/plain": [
              "      subreddit  ... is_sucide\n",
              "0  SuicideWatch  ...         1\n",
              "1  SuicideWatch  ...         1\n",
              "2  SuicideWatch  ...         1\n",
              "3  SuicideWatch  ...         1\n",
              "4  SuicideWatch  ...         1\n",
              "\n",
              "[5 rows x 5 columns]"
            ]
          },
          "metadata": {
            "tags": []
          },
          "execution_count": 70
        }
      ]
    },
    {
      "cell_type": "markdown",
      "metadata": {
        "id": "OF3nEYpsId-3",
        "colab_type": "text"
      },
      "source": [
        "## Suffling The dataset"
      ]
    },
    {
      "cell_type": "code",
      "metadata": {
        "id": "Z6lyvRIq3CrW",
        "colab_type": "code",
        "colab": {}
      },
      "source": [
        "df = df.sample(frac=1).reset_index(drop=True)"
      ],
      "execution_count": 0,
      "outputs": []
    },
    {
      "cell_type": "code",
      "metadata": {
        "id": "uh1PNMM3s1YL",
        "colab_type": "code",
        "colab": {
          "base_uri": "https://localhost:8080/",
          "height": 34
        },
        "outputId": "cca61529-ed94-4fde-8643-728a83bbc728"
      },
      "source": [
        "df.shape"
      ],
      "execution_count": 72,
      "outputs": [
        {
          "output_type": "execute_result",
          "data": {
            "text/plain": [
              "(1954, 5)"
            ]
          },
          "metadata": {
            "tags": []
          },
          "execution_count": 72
        }
      ]
    },
    {
      "cell_type": "code",
      "metadata": {
        "id": "XtI5SqbKs3G3",
        "colab_type": "code",
        "colab": {
          "base_uri": "https://localhost:8080/",
          "height": 122
        },
        "outputId": "7c9eb007-f8c2-4965-ae3d-d4ab871d41a0"
      },
      "source": [
        "df.isnull().sum()"
      ],
      "execution_count": 73,
      "outputs": [
        {
          "output_type": "execute_result",
          "data": {
            "text/plain": [
              "subreddit     0\n",
              "selftext     83\n",
              "title         0\n",
              "name          0\n",
              "is_sucide     0\n",
              "dtype: int64"
            ]
          },
          "metadata": {
            "tags": []
          },
          "execution_count": 73
        }
      ]
    },
    {
      "cell_type": "markdown",
      "metadata": {
        "id": "hUgq9DZfNp5j",
        "colab_type": "text"
      },
      "source": [
        "## Cleaning Data"
      ]
    },
    {
      "cell_type": "code",
      "metadata": {
        "id": "TQTIVn1ms6tc",
        "colab_type": "code",
        "colab": {}
      },
      "source": [
        "df['selftext']=df['selftext'].fillna('No Text')"
      ],
      "execution_count": 0,
      "outputs": []
    },
    {
      "cell_type": "code",
      "metadata": {
        "id": "LJuyv_HTsOC5",
        "colab_type": "code",
        "colab": {}
      },
      "source": [
        "def clean_text(a):\n",
        "  x=re.sub('[^a-zA-Z]', ' ', a)\n",
        "  return x"
      ],
      "execution_count": 0,
      "outputs": []
    },
    {
      "cell_type": "code",
      "metadata": {
        "id": "S-1mKfvBsOOX",
        "colab_type": "code",
        "colab": {}
      },
      "source": [
        "df['selftext']=df['selftext'].apply(clean_text)"
      ],
      "execution_count": 0,
      "outputs": []
    },
    {
      "cell_type": "code",
      "metadata": {
        "id": "OzubXEjWsq7K",
        "colab_type": "code",
        "colab": {
          "base_uri": "https://localhost:8080/",
          "height": 197
        },
        "outputId": "377ed9c4-eecb-4322-9468-7e6dc6ec3bc0"
      },
      "source": [
        "df.head()"
      ],
      "execution_count": 77,
      "outputs": [
        {
          "output_type": "execute_result",
          "data": {
            "text/html": [
              "<div>\n",
              "<style scoped>\n",
              "    .dataframe tbody tr th:only-of-type {\n",
              "        vertical-align: middle;\n",
              "    }\n",
              "\n",
              "    .dataframe tbody tr th {\n",
              "        vertical-align: top;\n",
              "    }\n",
              "\n",
              "    .dataframe thead th {\n",
              "        text-align: right;\n",
              "    }\n",
              "</style>\n",
              "<table border=\"1\" class=\"dataframe\">\n",
              "  <thead>\n",
              "    <tr style=\"text-align: right;\">\n",
              "      <th></th>\n",
              "      <th>subreddit</th>\n",
              "      <th>selftext</th>\n",
              "      <th>title</th>\n",
              "      <th>name</th>\n",
              "      <th>is_sucide</th>\n",
              "    </tr>\n",
              "  </thead>\n",
              "  <tbody>\n",
              "    <tr>\n",
              "      <th>0</th>\n",
              "      <td>SuicideWatch</td>\n",
              "      <td>i don t really know what the point of this pos...</td>\n",
              "      <td>planning</td>\n",
              "      <td>t3_gn7670</td>\n",
              "      <td>1</td>\n",
              "    </tr>\n",
              "    <tr>\n",
              "      <th>1</th>\n",
              "      <td>SuicideWatch</td>\n",
              "      <td>I am not attractive enough to get the kind of ...</td>\n",
              "      <td>I feel like I fucked up my life with bad food.</td>\n",
              "      <td>t3_goiuhd</td>\n",
              "      <td>1</td>\n",
              "    </tr>\n",
              "    <tr>\n",
              "      <th>2</th>\n",
              "      <td>depression</td>\n",
              "      <td>Hi  I m not exactly sure if it s right place  ...</td>\n",
              "      <td>Feeling like a depressed sociopath</td>\n",
              "      <td>t3_gonnaf</td>\n",
              "      <td>0</td>\n",
              "    </tr>\n",
              "    <tr>\n",
              "      <th>3</th>\n",
              "      <td>depression</td>\n",
              "      <td>So I just got on reddit today and looked at th...</td>\n",
              "      <td>I’m just so defeated...</td>\n",
              "      <td>t3_goo2su</td>\n",
              "      <td>0</td>\n",
              "    </tr>\n",
              "    <tr>\n",
              "      <th>4</th>\n",
              "      <td>SuicideWatch</td>\n",
              "      <td>so fucking tired of this shit  nothing ever ge...</td>\n",
              "      <td>every hour of my life is another reason to kil...</td>\n",
              "      <td>t3_gnhz7u</td>\n",
              "      <td>1</td>\n",
              "    </tr>\n",
              "  </tbody>\n",
              "</table>\n",
              "</div>"
            ],
            "text/plain": [
              "      subreddit  ... is_sucide\n",
              "0  SuicideWatch  ...         1\n",
              "1  SuicideWatch  ...         1\n",
              "2    depression  ...         0\n",
              "3    depression  ...         0\n",
              "4  SuicideWatch  ...         1\n",
              "\n",
              "[5 rows x 5 columns]"
            ]
          },
          "metadata": {
            "tags": []
          },
          "execution_count": 77
        }
      ]
    },
    {
      "cell_type": "code",
      "metadata": {
        "id": "ktWtNN6WtQBR",
        "colab_type": "code",
        "colab": {}
      },
      "source": [
        "text=df['selftext']"
      ],
      "execution_count": 0,
      "outputs": []
    },
    {
      "cell_type": "code",
      "metadata": {
        "id": "g-ckGb3jtWC2",
        "colab_type": "code",
        "colab": {}
      },
      "source": [
        "target=df['is_sucide']"
      ],
      "execution_count": 0,
      "outputs": []
    },
    {
      "cell_type": "code",
      "metadata": {
        "id": "aMhgZUh7tYiF",
        "colab_type": "code",
        "colab": {}
      },
      "source": [
        "x_train,x_test,y_train,y_test=train_test_split(text,target,random_state=42,test_size=0.2)"
      ],
      "execution_count": 0,
      "outputs": []
    },
    {
      "cell_type": "markdown",
      "metadata": {
        "id": "ZndXkGa_IyhA",
        "colab_type": "text"
      },
      "source": [
        "## Tokenizing and Paddding"
      ]
    },
    {
      "cell_type": "code",
      "metadata": {
        "id": "xXR_7xGmteb_",
        "colab_type": "code",
        "colab": {}
      },
      "source": [
        "tokenizer=Tokenizer()"
      ],
      "execution_count": 0,
      "outputs": []
    },
    {
      "cell_type": "code",
      "metadata": {
        "id": "_aon7-qPthZq",
        "colab_type": "code",
        "colab": {}
      },
      "source": [
        "tokenizer.fit_on_texts(text)"
      ],
      "execution_count": 0,
      "outputs": []
    },
    {
      "cell_type": "code",
      "metadata": {
        "id": "Nw-6GmO7tj8g",
        "colab_type": "code",
        "colab": {
          "base_uri": "https://localhost:8080/",
          "height": 34
        },
        "outputId": "e42d488e-8298-4f4d-e3cd-2ee98249ab17"
      },
      "source": [
        "word_index=tokenizer.word_index\n",
        "vocab_size=len(word_index)+1\n",
        "vocab_size"
      ],
      "execution_count": 83,
      "outputs": [
        {
          "output_type": "execute_result",
          "data": {
            "text/plain": [
              "10703"
            ]
          },
          "metadata": {
            "tags": []
          },
          "execution_count": 83
        }
      ]
    },
    {
      "cell_type": "code",
      "metadata": {
        "id": "qusN2f_wuEzb",
        "colab_type": "code",
        "colab": {
          "base_uri": "https://localhost:8080/",
          "height": 34
        },
        "outputId": "e73300e2-303b-442c-c60a-4d139ea46522"
      },
      "source": [
        "train_sequence=tokenizer.texts_to_sequences(x_train)\n",
        "max_len=max(len(words) for words in train_sequence)\n",
        "max_len"
      ],
      "execution_count": 84,
      "outputs": [
        {
          "output_type": "execute_result",
          "data": {
            "text/plain": [
              "4917"
            ]
          },
          "metadata": {
            "tags": []
          },
          "execution_count": 84
        }
      ]
    },
    {
      "cell_type": "code",
      "metadata": {
        "id": "LieKP6RWtyXH",
        "colab_type": "code",
        "colab": {}
      },
      "source": [
        "train_sequence=tokenizer.texts_to_sequences(x_train)\n",
        "max_len=max(len(words) for words in train_sequence)\n",
        "train_padded=pad_sequences(train_sequence,maxlen=1000)"
      ],
      "execution_count": 0,
      "outputs": []
    },
    {
      "cell_type": "code",
      "metadata": {
        "id": "YblJoD43uY84",
        "colab_type": "code",
        "colab": {}
      },
      "source": [
        "test_sequence=tokenizer.texts_to_sequences(x_test)\n",
        "test_padded=pad_sequences(test_sequence,maxlen=1000)"
      ],
      "execution_count": 0,
      "outputs": []
    },
    {
      "cell_type": "code",
      "metadata": {
        "id": "kSb8yExiuozW",
        "colab_type": "code",
        "colab": {
          "base_uri": "https://localhost:8080/",
          "height": 209
        },
        "outputId": "67f9ca05-e1ba-4543-8c19-347865c3546b"
      },
      "source": [
        "# Used a api of globe for faster access\n",
        "!wget --no-check-certificate \\\n",
        "    https://storage.googleapis.com/laurencemoroney-blog.appspot.com/glove.6B.100d.txt \\\n",
        "    -O /tmp/glove.6B.100d.txt\n",
        "embeddings_index = {};\n",
        "with open('/tmp/glove.6B.100d.txt') as f:\n",
        "    for line in f:\n",
        "        values = line.split();\n",
        "        word = values[0];\n",
        "        coefs = np.asarray(values[1:], dtype='float32');\n",
        "        embeddings_index[word] = coefs;\n",
        "\n",
        "embeddings_matrix = np.zeros((vocab_size,100));\n",
        "for word, i in word_index.items():\n",
        "    embedding_vector = embeddings_index.get(word);\n",
        "    if embedding_vector is not None:\n",
        "        embeddings_matrix[i] = embedding_vector;"
      ],
      "execution_count": 87,
      "outputs": [
        {
          "output_type": "stream",
          "text": [
            "--2020-05-25 18:19:11--  https://storage.googleapis.com/laurencemoroney-blog.appspot.com/glove.6B.100d.txt\n",
            "Resolving storage.googleapis.com (storage.googleapis.com)... 74.125.20.128, 2607:f8b0:400e:c0a::80\n",
            "Connecting to storage.googleapis.com (storage.googleapis.com)|74.125.20.128|:443... connected.\n",
            "HTTP request sent, awaiting response... 200 OK\n",
            "Length: 347116733 (331M) [text/plain]\n",
            "Saving to: ‘/tmp/glove.6B.100d.txt’\n",
            "\n",
            "/tmp/glove.6B.100d. 100%[===================>] 331.04M   179MB/s    in 1.8s    \n",
            "\n",
            "2020-05-25 18:19:13 (179 MB/s) - ‘/tmp/glove.6B.100d.txt’ saved [347116733/347116733]\n",
            "\n"
          ],
          "name": "stdout"
        }
      ]
    },
    {
      "cell_type": "markdown",
      "metadata": {
        "id": "gPclHzZ6I3cd",
        "colab_type": "text"
      },
      "source": [
        "## Building The Model"
      ]
    },
    {
      "cell_type": "code",
      "metadata": {
        "id": "Phw46othusKL",
        "colab_type": "code",
        "colab": {}
      },
      "source": [
        "model=Sequential()"
      ],
      "execution_count": 0,
      "outputs": []
    },
    {
      "cell_type": "code",
      "metadata": {
        "id": "i9bJ90Tdu2zu",
        "colab_type": "code",
        "colab": {}
      },
      "source": [
        "model.add(Embedding(vocab_size,100, input_length=1000, weights=[embeddings_matrix], trainable=False))\n",
        "model.add(Dropout(0.3))\n",
        "model.add(Bidirectional(LSTM(326,return_sequences=True)))\n",
        "model.add(Dropout(0.3))\n",
        "model.add(Bidirectional(LSTM(625)))\n",
        "model.add(Dense(1,activation='sigmoid'))"
      ],
      "execution_count": 0,
      "outputs": []
    },
    {
      "cell_type": "code",
      "metadata": {
        "id": "TueNFZKau21f",
        "colab_type": "code",
        "colab": {
          "base_uri": "https://localhost:8080/",
          "height": 367
        },
        "outputId": "b0f35a1d-3d3d-4097-8733-a2c589b0d4d5"
      },
      "source": [
        "model.summary()"
      ],
      "execution_count": 90,
      "outputs": [
        {
          "output_type": "stream",
          "text": [
            "Model: \"sequential_3\"\n",
            "_________________________________________________________________\n",
            "Layer (type)                 Output Shape              Param #   \n",
            "=================================================================\n",
            "embedding_3 (Embedding)      (None, 1000, 100)         1070300   \n",
            "_________________________________________________________________\n",
            "dropout_4 (Dropout)          (None, 1000, 100)         0         \n",
            "_________________________________________________________________\n",
            "bidirectional_4 (Bidirection (None, 1000, 652)         1113616   \n",
            "_________________________________________________________________\n",
            "dropout_5 (Dropout)          (None, 1000, 652)         0         \n",
            "_________________________________________________________________\n",
            "bidirectional_5 (Bidirection (None, 1250)              6390000   \n",
            "_________________________________________________________________\n",
            "dense_2 (Dense)              (None, 1)                 1251      \n",
            "=================================================================\n",
            "Total params: 8,575,167\n",
            "Trainable params: 7,504,867\n",
            "Non-trainable params: 1,070,300\n",
            "_________________________________________________________________\n"
          ],
          "name": "stdout"
        }
      ]
    },
    {
      "cell_type": "code",
      "metadata": {
        "id": "qtahFIgBvHtf",
        "colab_type": "code",
        "colab": {
          "base_uri": "https://localhost:8080/",
          "height": 754
        },
        "outputId": "c4e4b402-f169-4774-d306-e577c40e08fe"
      },
      "source": [
        "plot_model(model, show_shapes=True)"
      ],
      "execution_count": 91,
      "outputs": [
        {
          "output_type": "execute_result",
          "data": {
            "image/png": "[encoded data removed]",
            "text/plain": [
              "<IPython.core.display.Image object>"
            ]
          },
          "metadata": {
            "tags": []
          },
          "execution_count": 91
        }
      ]
    },
    {
      "cell_type": "code",
      "metadata": {
        "id": "x4phiuLdvu1k",
        "colab_type": "code",
        "colab": {}
      },
      "source": [
        "model.compile(optimizer='adam',loss='binary_crossentropy',metrics=['accuracy'])"
      ],
      "execution_count": 0,
      "outputs": []
    },
    {
      "cell_type": "code",
      "metadata": {
        "id": "WA2jgAPn117U",
        "colab_type": "code",
        "colab": {}
      },
      "source": [
        "filepath = os.path.join(\"./sucide_models/model_v{epoch}.hdf5\")\n",
        "\n",
        "checkpoint = tf.keras.callbacks.ModelCheckpoint(filepath,\n",
        "                                             monitor='val_accuracy',\n",
        "                                             verbose=1,\n",
        "                                             save_best_only=True,\n",
        "                                             mode='max')\n",
        "callbacks = [checkpoint]"
      ],
      "execution_count": 0,
      "outputs": []
    },
    {
      "cell_type": "code",
      "metadata": {
        "id": "18chKkx_v2If",
        "colab_type": "code",
        "colab": {
          "base_uri": "https://localhost:8080/",
          "height": 1000
        },
        "outputId": "fe130153-b6ce-4f19-a66b-bdee72dc971c"
      },
      "source": [
        "history=model.fit(train_padded,y_train,epochs=20,validation_data=(test_padded,y_test),callbacks=callbacks)"
      ],
      "execution_count": 94,
      "outputs": [
        {
          "output_type": "stream",
          "text": [
            "Epoch 1/20\n",
            "49/49 [==============================] - ETA: 0s - loss: 0.7092 - accuracy: 0.5080\n",
            "Epoch 00001: val_accuracy improved from -inf to 0.55754, saving model to ./sucide_models/model_v1.hdf5\n",
            "49/49 [==============================] - 35s 709ms/step - loss: 0.7092 - accuracy: 0.5080 - val_loss: 0.6827 - val_accuracy: 0.5575\n",
            "Epoch 2/20\n",
            "49/49 [==============================] - ETA: 0s - loss: 0.6821 - accuracy: 0.5694\n",
            "Epoch 00002: val_accuracy improved from 0.55754 to 0.57545, saving model to ./sucide_models/model_v2.hdf5\n",
            "49/49 [==============================] - 34s 686ms/step - loss: 0.6821 - accuracy: 0.5694 - val_loss: 0.6741 - val_accuracy: 0.5754\n",
            "Epoch 3/20\n",
            "49/49 [==============================] - ETA: 0s - loss: 0.6592 - accuracy: 0.6052\n",
            "Epoch 00003: val_accuracy did not improve from 0.57545\n",
            "49/49 [==============================] - 33s 682ms/step - loss: 0.6592 - accuracy: 0.6052 - val_loss: 0.6731 - val_accuracy: 0.5499\n",
            "Epoch 4/20\n",
            "49/49 [==============================] - ETA: 0s - loss: 0.6759 - accuracy: 0.5822\n",
            "Epoch 00004: val_accuracy did not improve from 0.57545\n",
            "49/49 [==============================] - 34s 684ms/step - loss: 0.6759 - accuracy: 0.5822 - val_loss: 0.7654 - val_accuracy: 0.5320\n",
            "Epoch 5/20\n",
            "49/49 [==============================] - ETA: 0s - loss: 0.6840 - accuracy: 0.5483\n",
            "Epoch 00005: val_accuracy did not improve from 0.57545\n",
            "49/49 [==============================] - 34s 687ms/step - loss: 0.6840 - accuracy: 0.5483 - val_loss: 0.6809 - val_accuracy: 0.5703\n",
            "Epoch 6/20\n",
            "49/49 [==============================] - ETA: 0s - loss: 0.6778 - accuracy: 0.5560\n",
            "Epoch 00006: val_accuracy did not improve from 0.57545\n",
            "49/49 [==============================] - 34s 688ms/step - loss: 0.6778 - accuracy: 0.5560 - val_loss: 0.6805 - val_accuracy: 0.5422\n",
            "Epoch 7/20\n",
            "49/49 [==============================] - ETA: 0s - loss: 0.6803 - accuracy: 0.5624\n",
            "Epoch 00007: val_accuracy improved from 0.57545 to 0.61381, saving model to ./sucide_models/model_v7.hdf5\n",
            "49/49 [==============================] - 34s 691ms/step - loss: 0.6803 - accuracy: 0.5624 - val_loss: 0.6717 - val_accuracy: 0.6138\n",
            "Epoch 8/20\n",
            "49/49 [==============================] - ETA: 0s - loss: 0.6729 - accuracy: 0.5886\n",
            "Epoch 00008: val_accuracy did not improve from 0.61381\n",
            "49/49 [==============================] - 34s 688ms/step - loss: 0.6729 - accuracy: 0.5886 - val_loss: 0.6722 - val_accuracy: 0.6061\n",
            "Epoch 9/20\n",
            "49/49 [==============================] - ETA: 0s - loss: 0.6770 - accuracy: 0.5758\n",
            "Epoch 00009: val_accuracy did not improve from 0.61381\n",
            "49/49 [==============================] - 34s 688ms/step - loss: 0.6770 - accuracy: 0.5758 - val_loss: 0.6731 - val_accuracy: 0.5678\n",
            "Epoch 10/20\n",
            "49/49 [==============================] - ETA: 0s - loss: 0.6694 - accuracy: 0.5912\n",
            "Epoch 00010: val_accuracy did not improve from 0.61381\n",
            "49/49 [==============================] - 34s 687ms/step - loss: 0.6694 - accuracy: 0.5912 - val_loss: 0.6795 - val_accuracy: 0.5345\n",
            "Epoch 11/20\n",
            "49/49 [==============================] - ETA: 0s - loss: 0.6690 - accuracy: 0.5829\n",
            "Epoch 00011: val_accuracy did not improve from 0.61381\n",
            "49/49 [==============================] - 34s 688ms/step - loss: 0.6690 - accuracy: 0.5829 - val_loss: 0.6733 - val_accuracy: 0.5934\n",
            "Epoch 12/20\n",
            "49/49 [==============================] - ETA: 0s - loss: 0.6511 - accuracy: 0.6091\n",
            "Epoch 00012: val_accuracy did not improve from 0.61381\n",
            "49/49 [==============================] - 34s 688ms/step - loss: 0.6511 - accuracy: 0.6091 - val_loss: 0.6704 - val_accuracy: 0.5780\n",
            "Epoch 13/20\n",
            "49/49 [==============================] - ETA: 0s - loss: 0.6512 - accuracy: 0.6104\n",
            "Epoch 00013: val_accuracy did not improve from 0.61381\n",
            "49/49 [==============================] - 34s 688ms/step - loss: 0.6512 - accuracy: 0.6104 - val_loss: 0.6777 - val_accuracy: 0.5627\n",
            "Epoch 14/20\n",
            "49/49 [==============================] - ETA: 0s - loss: 0.6450 - accuracy: 0.6104\n",
            "Epoch 00014: val_accuracy improved from 0.61381 to 0.62660, saving model to ./sucide_models/model_v14.hdf5\n",
            "49/49 [==============================] - 34s 690ms/step - loss: 0.6450 - accuracy: 0.6104 - val_loss: 0.6635 - val_accuracy: 0.6266\n",
            "Epoch 15/20\n",
            "49/49 [==============================] - ETA: 0s - loss: 0.6395 - accuracy: 0.6244\n",
            "Epoch 00015: val_accuracy did not improve from 0.62660\n",
            "49/49 [==============================] - 34s 688ms/step - loss: 0.6395 - accuracy: 0.6244 - val_loss: 0.6620 - val_accuracy: 0.5627\n",
            "Epoch 16/20\n",
            "49/49 [==============================] - ETA: 0s - loss: 0.6238 - accuracy: 0.6424\n",
            "Epoch 00016: val_accuracy improved from 0.62660 to 0.63683, saving model to ./sucide_models/model_v16.hdf5\n",
            "49/49 [==============================] - 34s 691ms/step - loss: 0.6238 - accuracy: 0.6424 - val_loss: 0.6413 - val_accuracy: 0.6368\n",
            "Epoch 17/20\n",
            "49/49 [==============================] - ETA: 0s - loss: 0.6130 - accuracy: 0.6513\n",
            "Epoch 00017: val_accuracy improved from 0.63683 to 0.66240, saving model to ./sucide_models/model_v17.hdf5\n",
            "49/49 [==============================] - 34s 691ms/step - loss: 0.6130 - accuracy: 0.6513 - val_loss: 0.6355 - val_accuracy: 0.6624\n",
            "Epoch 18/20\n",
            "49/49 [==============================] - ETA: 0s - loss: 0.5862 - accuracy: 0.6948\n",
            "Epoch 00018: val_accuracy did not improve from 0.66240\n",
            "49/49 [==============================] - 34s 688ms/step - loss: 0.5862 - accuracy: 0.6948 - val_loss: 0.6459 - val_accuracy: 0.6061\n",
            "Epoch 19/20\n",
            "49/49 [==============================] - ETA: 0s - loss: 0.5916 - accuracy: 0.6769\n",
            "Epoch 00019: val_accuracy did not improve from 0.66240\n",
            "49/49 [==============================] - 34s 688ms/step - loss: 0.5916 - accuracy: 0.6769 - val_loss: 0.6306 - val_accuracy: 0.6573\n",
            "Epoch 20/20\n",
            "49/49 [==============================] - ETA: 0s - loss: 0.5882 - accuracy: 0.6827\n",
            "Epoch 00020: val_accuracy did not improve from 0.66240\n",
            "49/49 [==============================] - 34s 688ms/step - loss: 0.5882 - accuracy: 0.6827 - val_loss: 0.6536 - val_accuracy: 0.6368\n"
          ],
          "name": "stdout"
        }
      ]
    },
    {
      "cell_type": "code",
      "metadata": {
        "id": "7cF3HrVnv_-C",
        "colab_type": "code",
        "colab": {
          "base_uri": "https://localhost:8080/",
          "height": 374
        },
        "outputId": "1454654a-c091-4c84-c604-792147f3fc7b"
      },
      "source": [
        "fig,(ax1,ax2)=plt.subplots(nrows=1,ncols=2,figsize=(20,6))\n",
        "ax1.plot(history.history['accuracy'],label='train_accuracy')\n",
        "ax1.plot(history.history['val_accuracy'],label='test_accuracy')\n",
        "ax1.legend()\n",
        "ax2.plot(history.history['loss'],label='train_loss')\n",
        "ax2.plot(history.history['val_loss'],label='test_loss')\n",
        "ax2.legend()\n",
        "plt.show()"
      ],
      "execution_count": 95,
      "outputs": [
        {
          "output_type": "display_data",
          "data": {
            "image/png": "[encoded data removed]",
            "text/plain": [
              "<Figure size 1440x432 with 2 Axes>"
            ]
          },
          "metadata": {
            "tags": [],
            "needs_background": "light"
          }
        }
      ]
    },
    {
      "cell_type": "markdown",
      "metadata": {
        "id": "czlAH6jcI7Hc",
        "colab_type": "text"
      },
      "source": [
        "## Loading Model and Checking Accuracy"
      ]
    },
    {
      "cell_type": "code",
      "metadata": {
        "id": "ACiUPMvqIPGf",
        "colab_type": "code",
        "colab": {}
      },
      "source": [
        "classifier=load_model('/content/sucide_models/model_v17.hdf5')"
      ],
      "execution_count": 0,
      "outputs": []
    },
    {
      "cell_type": "code",
      "metadata": {
        "id": "GSgk6JwMGWA1",
        "colab_type": "code",
        "colab": {}
      },
      "source": [
        "prediction=classifier.predict(test_padded)"
      ],
      "execution_count": 0,
      "outputs": []
    },
    {
      "cell_type": "code",
      "metadata": {
        "id": "ke16R1FSHIaB",
        "colab_type": "code",
        "colab": {}
      },
      "source": [
        "pr=(prediction>0.5)"
      ],
      "execution_count": 0,
      "outputs": []
    },
    {
      "cell_type": "code",
      "metadata": {
        "id": "uBiDoOS_Hmyh",
        "colab_type": "code",
        "colab": {
          "base_uri": "https://localhost:8080/",
          "height": 52
        },
        "outputId": "61798086-d8d5-4024-8a23-518d2e8d9eae"
      },
      "source": [
        "print(confusion_matrix(y_test,pr))"
      ],
      "execution_count": 113,
      "outputs": [
        {
          "output_type": "stream",
          "text": [
            "[[121  77]\n",
            " [ 55 138]]\n"
          ],
          "name": "stdout"
        }
      ]
    },
    {
      "cell_type": "code",
      "metadata": {
        "id": "mOwdpjh1ICSX",
        "colab_type": "code",
        "colab": {
          "base_uri": "https://localhost:8080/",
          "height": 174
        },
        "outputId": "180a69b1-e7c9-4035-f258-772c6720c78c"
      },
      "source": [
        "print(classification_report(y_test,pr))"
      ],
      "execution_count": 114,
      "outputs": [
        {
          "output_type": "stream",
          "text": [
            "              precision    recall  f1-score   support\n",
            "\n",
            "           0       0.69      0.61      0.65       198\n",
            "           1       0.64      0.72      0.68       193\n",
            "\n",
            "    accuracy                           0.66       391\n",
            "   macro avg       0.66      0.66      0.66       391\n",
            "weighted avg       0.66      0.66      0.66       391\n",
            "\n"
          ],
          "name": "stdout"
        }
      ]
    },
    {
      "cell_type": "markdown",
      "metadata": {
        "id": "IpS2_ueXI_C3",
        "colab_type": "text"
      },
      "source": [
        "## Predicting On New Messages"
      ]
    },
    {
      "cell_type": "code",
      "metadata": {
        "id": "4Rq8bfhGJ0Ko",
        "colab_type": "code",
        "colab": {}
      },
      "source": [
        "import pickle \n",
        "with open('tokenizer.pkl','wb') as f:\n",
        "  pickle.dump(tokenizer,f)"
      ],
      "execution_count": 0,
      "outputs": []
    },
    {
      "cell_type": "code",
      "metadata": {
        "id": "ad1gE8gNIX_y",
        "colab_type": "code",
        "colab": {}
      },
      "source": [
        "#Depression Thought\n",
        "text1='''I don't know, it's like this unexplainable feeling. \n",
        "Like this physical feeling in my heart that pulsates throughout my whole being. \n",
        "Whenever I hear happy music or watch a cheesy movie where everybody's happy I just can't help but feel sad. \n",
        "Same thing if I see something from when I was a kid or something similar. \n",
        "I'm thinking the root of it may be I've felt like I've missed out on life or didn't make the most of it? \n",
        "I don't know. I'm just hoping it's not just me.'''"
      ],
      "execution_count": 0,
      "outputs": []
    },
    {
      "cell_type": "code",
      "metadata": {
        "id": "pWBRp78fI_cL",
        "colab_type": "code",
        "colab": {}
      },
      "source": [
        "tokens=tokenizer.texts_to_sequences([text1])\n",
        "padded=pad_sequences(tokens,maxlen=1000)"
      ],
      "execution_count": 0,
      "outputs": []
    },
    {
      "cell_type": "code",
      "metadata": {
        "id": "TgDBNsTQI_gi",
        "colab_type": "code",
        "colab": {}
      },
      "source": [
        "predict=classifier.predict(padded)"
      ],
      "execution_count": 0,
      "outputs": []
    },
    {
      "cell_type": "code",
      "metadata": {
        "id": "5NNai9qaI_er",
        "colab_type": "code",
        "colab": {
          "base_uri": "https://localhost:8080/",
          "height": 34
        },
        "outputId": "11fc6486-0e20-448f-ef79-afd0c73e50b6"
      },
      "source": [
        "pr=(predict>0.5)\n",
        "if pr[0][0]==False:\n",
        "  print(\"Depression\")\n",
        "else:\n",
        "  print(\"Sucide\")"
      ],
      "execution_count": 125,
      "outputs": [
        {
          "output_type": "stream",
          "text": [
            "Depression\n"
          ],
          "name": "stdout"
        }
      ]
    },
    {
      "cell_type": "code",
      "metadata": {
        "id": "B4LK4F70LVrt",
        "colab_type": "code",
        "colab": {}
      },
      "source": [
        "#Sucide Thought\n",
        "text2=''' It's been a year. An entire fucking year that I gave myself another chance. \n",
        "Or more like gave him another chance. Last year in October, I came close to killing myself. \n",
        "I had thought that nothing would ever get better and that there was absolutely no point living in a life that was FOR SURE never going to get better.\n",
        "Yet, I gave God another chance. That morning, a pack of coyotes howled during the sunset as the last song in my playlist of songs I want played in my funeral had ended.\n",
        "After hearing the coyotes, I thought it was a sign. A sign that God would make it better. \n",
        "'''"
      ],
      "execution_count": 0,
      "outputs": []
    },
    {
      "cell_type": "code",
      "metadata": {
        "id": "qoYqbhk9LV2y",
        "colab_type": "code",
        "colab": {}
      },
      "source": [
        "tokens=tokenizer.texts_to_sequences([text2])\n",
        "padded=pad_sequences(tokens,maxlen=1000)"
      ],
      "execution_count": 0,
      "outputs": []
    },
    {
      "cell_type": "code",
      "metadata": {
        "id": "Gi5zHjKRLvHb",
        "colab_type": "code",
        "colab": {}
      },
      "source": [
        "predict=classifier.predict(padded)"
      ],
      "execution_count": 0,
      "outputs": []
    },
    {
      "cell_type": "code",
      "metadata": {
        "id": "laOJw3WWLwXu",
        "colab_type": "code",
        "colab": {
          "base_uri": "https://localhost:8080/",
          "height": 34
        },
        "outputId": "35125ce3-d942-4ca3-ba94-0c163425a44f"
      },
      "source": [
        "pr=(predict>0.5)\n",
        "if pr[0][0]==False:\n",
        "  print(\"Depression\")\n",
        "else:\n",
        "  print(\"Sucide\")"
      ],
      "execution_count": 130,
      "outputs": [
        {
          "output_type": "stream",
          "text": [
            "Sucide\n"
          ],
          "name": "stdout"
        }
      ]
    },
    {
      "cell_type": "markdown",
      "metadata": {
        "id": "e6UUds-7K-EE",
        "colab_type": "text"
      },
      "source": [
        "## Conclusion:\n",
        "* Model achived an highest accuracy of 66.24%\n",
        "* It Predicted the output correctly, but model accuracy needs to be improved\n",
        "* Accuracy can be improved by adding more text and cleaning the csv file properly"
      ]
    }
  ]
}