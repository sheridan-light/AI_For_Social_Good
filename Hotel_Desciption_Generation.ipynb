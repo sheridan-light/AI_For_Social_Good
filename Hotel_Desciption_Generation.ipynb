{
  "nbformat": 4,
  "nbformat_minor": 0,
  "metadata": {
    "colab": {
      "name": "Hotel Desciption Generation.ipynb",
      "provenance": [],
      "collapsed_sections": []
    },
    "kernelspec": {
      "name": "python3",
      "display_name": "Python 3"
    },
    "accelerator": "GPU"
  },
  "cells": [
    {
      "cell_type": "code",
      "metadata": {
        "id": "iu9CjxV34Pun",
        "colab_type": "code",
        "colab": {}
      },
      "source": [
        "import pandas as pd\n",
        "import numpy as np\n",
        "import matplotlib.pyplot as plt\n",
        "import re"
      ],
      "execution_count": 0,
      "outputs": []
    },
    {
      "cell_type": "code",
      "metadata": {
        "id": "WnZfopdMFKz0",
        "colab_type": "code",
        "colab": {}
      },
      "source": [
        "from tensorflow.keras.models import Sequential\n",
        "from tensorflow.keras.layers import Dense\n",
        "from tensorflow.keras.layers import Dropout\n",
        "from tensorflow.keras.layers import LSTM\n",
        "from tensorflow.keras.layers import Bidirectional\n",
        "from tensorflow.keras.layers import Embedding"
      ],
      "execution_count": 0,
      "outputs": []
    },
    {
      "cell_type": "code",
      "metadata": {
        "id": "BAjUgkdQFbDi",
        "colab_type": "code",
        "colab": {}
      },
      "source": [
        "from tensorflow.keras.preprocessing.text import Tokenizer\n",
        "from tensorflow.keras.preprocessing.sequence import pad_sequences\n",
        "import tensorflow.keras.utils as ku"
      ],
      "execution_count": 0,
      "outputs": []
    },
    {
      "cell_type": "code",
      "metadata": {
        "id": "gKPPINueV_9g",
        "colab_type": "code",
        "colab": {}
      },
      "source": [
        "df=pd.read_csv('/content/drive/My Drive/Colab Notebooks/Datasets/Seattle_Hotels.csv',encoding=\"latin-1\")"
      ],
      "execution_count": 0,
      "outputs": []
    },
    {
      "cell_type": "code",
      "metadata": {
        "id": "Cstxt9f9WSyK",
        "colab_type": "code",
        "colab": {
          "base_uri": "https://localhost:8080/",
          "height": 197
        },
        "outputId": "e2e251c6-8a23-42d7-ada7-af9c9c30d06b"
      },
      "source": [
        "df.head()"
      ],
      "execution_count": 5,
      "outputs": [
        {
          "output_type": "execute_result",
          "data": {
            "text/html": [
              "<div>\n",
              "<style scoped>\n",
              "    .dataframe tbody tr th:only-of-type {\n",
              "        vertical-align: middle;\n",
              "    }\n",
              "\n",
              "    .dataframe tbody tr th {\n",
              "        vertical-align: top;\n",
              "    }\n",
              "\n",
              "    .dataframe thead th {\n",
              "        text-align: right;\n",
              "    }\n",
              "</style>\n",
              "<table border=\"1\" class=\"dataframe\">\n",
              "  <thead>\n",
              "    <tr style=\"text-align: right;\">\n",
              "      <th></th>\n",
              "      <th>name</th>\n",
              "      <th>address</th>\n",
              "      <th>desc</th>\n",
              "    </tr>\n",
              "  </thead>\n",
              "  <tbody>\n",
              "    <tr>\n",
              "      <th>0</th>\n",
              "      <td>Hilton Garden Inn Seattle Downtown</td>\n",
              "      <td>1821 Boren Avenue, Seattle Washington 98101 USA</td>\n",
              "      <td>Located on the southern tip of Lake Union, the...</td>\n",
              "    </tr>\n",
              "    <tr>\n",
              "      <th>1</th>\n",
              "      <td>Sheraton Grand Seattle</td>\n",
              "      <td>1400 6th Avenue, Seattle, Washington 98101 USA</td>\n",
              "      <td>Located in the city's vibrant core, the Sherat...</td>\n",
              "    </tr>\n",
              "    <tr>\n",
              "      <th>2</th>\n",
              "      <td>Crowne Plaza Seattle Downtown</td>\n",
              "      <td>1113 6th Ave, Seattle, WA 98101</td>\n",
              "      <td>Located in the heart of downtown Seattle, the ...</td>\n",
              "    </tr>\n",
              "    <tr>\n",
              "      <th>3</th>\n",
              "      <td>Kimpton Hotel Monaco Seattle</td>\n",
              "      <td>1101 4th Ave, Seattle, WA98101</td>\n",
              "      <td>What?s near our hotel downtown Seattle locatio...</td>\n",
              "    </tr>\n",
              "    <tr>\n",
              "      <th>4</th>\n",
              "      <td>The Westin Seattle</td>\n",
              "      <td>1900 5th Avenue, Seattle, Washington 98101 USA</td>\n",
              "      <td>Situated amid incredible shopping and iconic a...</td>\n",
              "    </tr>\n",
              "  </tbody>\n",
              "</table>\n",
              "</div>"
            ],
            "text/plain": [
              "                                 name  ...                                               desc\n",
              "0  Hilton Garden Inn Seattle Downtown  ...  Located on the southern tip of Lake Union, the...\n",
              "1              Sheraton Grand Seattle  ...  Located in the city's vibrant core, the Sherat...\n",
              "2       Crowne Plaza Seattle Downtown  ...  Located in the heart of downtown Seattle, the ...\n",
              "3       Kimpton Hotel Monaco Seattle   ...  What?s near our hotel downtown Seattle locatio...\n",
              "4                  The Westin Seattle  ...  Situated amid incredible shopping and iconic a...\n",
              "\n",
              "[5 rows x 3 columns]"
            ]
          },
          "metadata": {
            "tags": []
          },
          "execution_count": 5
        }
      ]
    },
    {
      "cell_type": "code",
      "metadata": {
        "id": "1FZVbVkoWNGz",
        "colab_type": "code",
        "colab": {
          "base_uri": "https://localhost:8080/",
          "height": 34
        },
        "outputId": "9a80963f-6c07-4d4e-d282-7346046161c3"
      },
      "source": [
        "df.shape"
      ],
      "execution_count": 6,
      "outputs": [
        {
          "output_type": "execute_result",
          "data": {
            "text/plain": [
              "(152, 3)"
            ]
          },
          "metadata": {
            "tags": []
          },
          "execution_count": 6
        }
      ]
    },
    {
      "cell_type": "code",
      "metadata": {
        "id": "0bOdoPNqWgwa",
        "colab_type": "code",
        "colab": {
          "base_uri": "https://localhost:8080/",
          "height": 87
        },
        "outputId": "8a50e244-ef1c-4b3f-e703-1c6096ff4cf3"
      },
      "source": [
        "df.isnull().sum()"
      ],
      "execution_count": 7,
      "outputs": [
        {
          "output_type": "execute_result",
          "data": {
            "text/plain": [
              "name       0\n",
              "address    0\n",
              "desc       0\n",
              "dtype: int64"
            ]
          },
          "metadata": {
            "tags": []
          },
          "execution_count": 7
        }
      ]
    },
    {
      "cell_type": "code",
      "metadata": {
        "id": "fSWzzzFVWyWR",
        "colab_type": "code",
        "colab": {}
      },
      "source": [
        "text=df['desc']"
      ],
      "execution_count": 0,
      "outputs": []
    },
    {
      "cell_type": "code",
      "metadata": {
        "id": "vWgu_zx2W58X",
        "colab_type": "code",
        "colab": {
          "base_uri": "https://localhost:8080/",
          "height": 227
        },
        "outputId": "ff8af736-f59d-4823-8bbe-fa51400a8bce"
      },
      "source": [
        "text"
      ],
      "execution_count": 9,
      "outputs": [
        {
          "output_type": "execute_result",
          "data": {
            "text/plain": [
              "0      Located on the southern tip of Lake Union, the...\n",
              "1      Located in the city's vibrant core, the Sherat...\n",
              "2      Located in the heart of downtown Seattle, the ...\n",
              "3      What?s near our hotel downtown Seattle locatio...\n",
              "4      Situated amid incredible shopping and iconic a...\n",
              "                             ...                        \n",
              "147    Located in Queen Anne district, The Halcyon Su...\n",
              "148    Just a block from the world famous Space Needl...\n",
              "149    Stay Alfred on Wall Street resides in the hear...\n",
              "150    The perfect marriage of heightened convenience...\n",
              "151    Yes, it's true. Every room at citizenM is the ...\n",
              "Name: desc, Length: 152, dtype: object"
            ]
          },
          "metadata": {
            "tags": []
          },
          "execution_count": 9
        }
      ]
    },
    {
      "cell_type": "markdown",
      "metadata": {
        "id": "YNn1WgFgx8kl",
        "colab_type": "text"
      },
      "source": [
        "# Preparing Text Data"
      ]
    },
    {
      "cell_type": "code",
      "metadata": {
        "id": "YQVE62W6iv2R",
        "colab_type": "code",
        "colab": {}
      },
      "source": [
        "cleaned_text=[]\n",
        "for i in text:\n",
        "  x=re.sub('[^.a-zA-Z]', ' ', i)\n",
        "  cleaned_text.append(x)"
      ],
      "execution_count": 0,
      "outputs": []
    },
    {
      "cell_type": "markdown",
      "metadata": {
        "id": "NvD7p1OVXAGw",
        "colab_type": "text"
      },
      "source": [
        "## Tokenizing"
      ]
    },
    {
      "cell_type": "code",
      "metadata": {
        "id": "3mrHmd9GW_AC",
        "colab_type": "code",
        "colab": {}
      },
      "source": [
        "tokenizer=Tokenizer(filters='!\"#$%&()*+,-/:;<=>?@[\\\\]^_`{|}~\\t\\n')"
      ],
      "execution_count": 0,
      "outputs": []
    },
    {
      "cell_type": "code",
      "metadata": {
        "id": "keJ-lsxnXH3g",
        "colab_type": "code",
        "colab": {}
      },
      "source": [
        "tokenizer.fit_on_texts(cleaned_text)"
      ],
      "execution_count": 0,
      "outputs": []
    },
    {
      "cell_type": "code",
      "metadata": {
        "id": "zuHGLTM-hmiQ",
        "colab_type": "code",
        "colab": {}
      },
      "source": [
        "word_index=tokenizer.word_index"
      ],
      "execution_count": 0,
      "outputs": []
    },
    {
      "cell_type": "code",
      "metadata": {
        "id": "ZV1yYuwrhqIX",
        "colab_type": "code",
        "colab": {
          "base_uri": "https://localhost:8080/",
          "height": 34
        },
        "outputId": "363540ed-641e-4c1f-bb6f-3870e4272edb"
      },
      "source": [
        "vocab_size=len(word_index)+1\n",
        "vocab_size"
      ],
      "execution_count": 15,
      "outputs": [
        {
          "output_type": "execute_result",
          "data": {
            "text/plain": [
              "3535"
            ]
          },
          "metadata": {
            "tags": []
          },
          "execution_count": 15
        }
      ]
    },
    {
      "cell_type": "markdown",
      "metadata": {
        "id": "wIJuGxQOvEtI",
        "colab_type": "text"
      },
      "source": [
        "## Creating Input Sequence"
      ]
    },
    {
      "cell_type": "code",
      "metadata": {
        "id": "kbn8pXQNuhQ7",
        "colab_type": "code",
        "colab": {}
      },
      "source": [
        "input_sequence=[]\n",
        "for lines in cleaned_text:\n",
        "  sequence=tokenizer.texts_to_sequences([lines])[0]\n",
        "  for i in range (1,len(sequence)):\n",
        "    ngrams=sequence[:i+1]\n",
        "    input_sequence.append(ngrams)"
      ],
      "execution_count": 0,
      "outputs": []
    },
    {
      "cell_type": "code",
      "metadata": {
        "id": "0vGXe9_Nti48",
        "colab_type": "code",
        "colab": {}
      },
      "source": [
        "max_len=max([len(lines) for lines in input_sequence])"
      ],
      "execution_count": 0,
      "outputs": []
    },
    {
      "cell_type": "code",
      "metadata": {
        "id": "d6NOCL3os-gO",
        "colab_type": "code",
        "colab": {}
      },
      "source": [
        "max_len"
      ],
      "execution_count": 0,
      "outputs": []
    },
    {
      "cell_type": "markdown",
      "metadata": {
        "id": "93X9YncuwSHj",
        "colab_type": "text"
      },
      "source": [
        "## Padding Values"
      ]
    },
    {
      "cell_type": "code",
      "metadata": {
        "id": "PNFyJ7l2wRPe",
        "colab_type": "code",
        "colab": {
          "base_uri": "https://localhost:8080/",
          "height": 139
        },
        "outputId": "4aff6924-242a-4328-fddf-ee5dcc45ea65"
      },
      "source": [
        "input_sequence=pad_sequences(input_sequence,maxlen=max_len)\n",
        "input_sequence"
      ],
      "execution_count": 38,
      "outputs": [
        {
          "output_type": "execute_result",
          "data": {
            "text/plain": [
              "array([[   0,    0,    0, ...,    0,   25,   21],\n",
              "       [   0,    0,    0, ...,   25,   21,    1],\n",
              "       [   0,    0,    0, ...,   21,    1, 1779],\n",
              "       ...,\n",
              "       [   0,    0,    0, ..., 1276,   54, 3533],\n",
              "       [   0,    0,    0, ...,   54, 3533,   13],\n",
              "       [   0,    0,    0, ..., 3533,   13, 3534]], dtype=int32)"
            ]
          },
          "metadata": {
            "tags": []
          },
          "execution_count": 38
        }
      ]
    },
    {
      "cell_type": "markdown",
      "metadata": {
        "id": "MhhK2KLGws8Q",
        "colab_type": "text"
      },
      "source": [
        "## Creating Inputs and Lables"
      ]
    },
    {
      "cell_type": "code",
      "metadata": {
        "id": "Js4-JKgwwlxB",
        "colab_type": "code",
        "colab": {
          "base_uri": "https://localhost:8080/",
          "height": 139
        },
        "outputId": "4c072527-b224-4504-8298-84c9dd2b1d72"
      },
      "source": [
        "input_text=input_sequence[:,:-1]\n",
        "input_text"
      ],
      "execution_count": 39,
      "outputs": [
        {
          "output_type": "execute_result",
          "data": {
            "text/plain": [
              "array([[   0,    0,    0, ...,    0,    0,   25],\n",
              "       [   0,    0,    0, ...,    0,   25,   21],\n",
              "       [   0,    0,    0, ...,   25,   21,    1],\n",
              "       ...,\n",
              "       [   0,    0,    0, ..., 3532, 1276,   54],\n",
              "       [   0,    0,    0, ..., 1276,   54, 3533],\n",
              "       [   0,    0,    0, ...,   54, 3533,   13]], dtype=int32)"
            ]
          },
          "metadata": {
            "tags": []
          },
          "execution_count": 39
        }
      ]
    },
    {
      "cell_type": "code",
      "metadata": {
        "id": "puP8dy6Bw5Su",
        "colab_type": "code",
        "colab": {
          "base_uri": "https://localhost:8080/",
          "height": 34
        },
        "outputId": "b4602a32-75a5-43aa-81e2-e79d25945800"
      },
      "source": [
        "labels=input_sequence[:,-1]\n",
        "labels"
      ],
      "execution_count": 40,
      "outputs": [
        {
          "output_type": "execute_result",
          "data": {
            "text/plain": [
              "array([  21,    1, 1779, ..., 3533,   13, 3534], dtype=int32)"
            ]
          },
          "metadata": {
            "tags": []
          },
          "execution_count": 40
        }
      ]
    },
    {
      "cell_type": "code",
      "metadata": {
        "id": "O8SSFRlDyEzb",
        "colab_type": "code",
        "colab": {}
      },
      "source": [
        "labels=ku.to_categorical(labels,num_classes=vocab_size)"
      ],
      "execution_count": 0,
      "outputs": []
    },
    {
      "cell_type": "markdown",
      "metadata": {
        "id": "L3jEsFxFyBfU",
        "colab_type": "text"
      },
      "source": [
        "## Building Model"
      ]
    },
    {
      "cell_type": "markdown",
      "metadata": {
        "id": "MaV_yUnYzvVJ",
        "colab_type": "text"
      },
      "source": [
        "### Globe Embedding"
      ]
    },
    {
      "cell_type": "code",
      "metadata": {
        "id": "IP9Kpk8YzgSv",
        "colab_type": "code",
        "colab": {
          "base_uri": "https://localhost:8080/",
          "height": 209
        },
        "outputId": "0263a856-5eff-4e11-d4f6-62aa65977a29"
      },
      "source": [
        "# This is the 100 dimension version of GloVe from Stanford\n",
        "# I am using a api for faster access\n",
        "!wget --no-check-certificate \\\n",
        "    https://storage.googleapis.com/laurencemoroney-blog.appspot.com/glove.6B.100d.txt \\\n",
        "    -O /tmp/glove.6B.100d.txt\n",
        "embeddings_index = {};\n",
        "with open('/tmp/glove.6B.100d.txt') as f:\n",
        "    for line in f:\n",
        "        values = line.split();\n",
        "        word = values[0];\n",
        "        coefs = np.asarray(values[1:], dtype='float32');\n",
        "        embeddings_index[word] = coefs;\n",
        "\n",
        "embeddings_matrix = np.zeros((vocab_size,100));\n",
        "for word, i in word_index.items():\n",
        "    embedding_vector = embeddings_index.get(word);\n",
        "    if embedding_vector is not None:\n",
        "        embeddings_matrix[i] = embedding_vector;"
      ],
      "execution_count": 42,
      "outputs": [
        {
          "output_type": "stream",
          "text": [
            "--2020-05-18 12:42:52--  https://storage.googleapis.com/laurencemoroney-blog.appspot.com/glove.6B.100d.txt\n",
            "Resolving storage.googleapis.com (storage.googleapis.com)... 209.85.146.128, 2607:f8b0:4001:c03::80\n",
            "Connecting to storage.googleapis.com (storage.googleapis.com)|209.85.146.128|:443... connected.\n",
            "HTTP request sent, awaiting response... 200 OK\n",
            "Length: 347116733 (331M) [text/plain]\n",
            "Saving to: ‘/tmp/glove.6B.100d.txt’\n",
            "\n",
            "/tmp/glove.6B.100d. 100%[===================>] 331.04M   155MB/s    in 2.1s    \n",
            "\n",
            "2020-05-18 12:42:54 (155 MB/s) - ‘/tmp/glove.6B.100d.txt’ saved [347116733/347116733]\n",
            "\n"
          ],
          "name": "stdout"
        }
      ]
    },
    {
      "cell_type": "markdown",
      "metadata": {
        "id": "4p0U4CC72Ssg",
        "colab_type": "text"
      },
      "source": [
        "## Building Model"
      ]
    },
    {
      "cell_type": "code",
      "metadata": {
        "id": "8QCOFv02x1Ni",
        "colab_type": "code",
        "colab": {}
      },
      "source": [
        "model=Sequential()"
      ],
      "execution_count": 0,
      "outputs": []
    },
    {
      "cell_type": "code",
      "metadata": {
        "id": "DqsEYla0xRuK",
        "colab_type": "code",
        "colab": {}
      },
      "source": [
        "model.add(Embedding(vocab_size,100,input_length=max_len-1,weights=[embeddings_matrix],trainable=False))\n",
        "model.add(Dropout(0.2))\n",
        "model.add(Bidirectional(LSTM(128,return_sequences=True)))\n",
        "model.add(Dropout(0.2))\n",
        "model.add(Bidirectional(LSTM(128)))\n",
        "model.add(Dense(vocab_size,activation='softmax'))"
      ],
      "execution_count": 0,
      "outputs": []
    },
    {
      "cell_type": "code",
      "metadata": {
        "id": "_4fcGWrJ0hPg",
        "colab_type": "code",
        "colab": {
          "base_uri": "https://localhost:8080/",
          "height": 367
        },
        "outputId": "7044a434-165b-4160-838d-1dff465f10f5"
      },
      "source": [
        "model.summary()"
      ],
      "execution_count": 46,
      "outputs": [
        {
          "output_type": "stream",
          "text": [
            "Model: \"sequential\"\n",
            "_________________________________________________________________\n",
            "Layer (type)                 Output Shape              Param #   \n",
            "=================================================================\n",
            "embedding (Embedding)        (None, 506, 100)          353500    \n",
            "_________________________________________________________________\n",
            "dropout (Dropout)            (None, 506, 100)          0         \n",
            "_________________________________________________________________\n",
            "bidirectional (Bidirectional (None, 506, 256)          234496    \n",
            "_________________________________________________________________\n",
            "dropout_1 (Dropout)          (None, 506, 256)          0         \n",
            "_________________________________________________________________\n",
            "bidirectional_1 (Bidirection (None, 256)               394240    \n",
            "_________________________________________________________________\n",
            "dense (Dense)                (None, 3535)              908495    \n",
            "=================================================================\n",
            "Total params: 1,890,731\n",
            "Trainable params: 1,537,231\n",
            "Non-trainable params: 353,500\n",
            "_________________________________________________________________\n"
          ],
          "name": "stdout"
        }
      ]
    },
    {
      "cell_type": "code",
      "metadata": {
        "id": "dwg8cTKu0jwR",
        "colab_type": "code",
        "colab": {}
      },
      "source": [
        "model.compile(optimizer='rmsprop',loss='categorical_crossentropy',metrics=['accuracy'])"
      ],
      "execution_count": 0,
      "outputs": []
    },
    {
      "cell_type": "code",
      "metadata": {
        "id": "g7y24mKZ06Hd",
        "colab_type": "code",
        "colab": {
          "base_uri": "https://localhost:8080/",
          "height": 87
        },
        "outputId": "ca19a5d3-858a-48de-c6cf-74f28f0677fb"
      },
      "source": [
        "history=model.fit(input_text,labels,epochs=100)"
      ],
      "execution_count": 0,
      "outputs": [
        {
          "output_type": "stream",
          "text": [
            "Epoch 1/100\n",
            "759/759 [==============================] - 281s 370ms/step - loss: 6.5059 - accuracy: 0.0709\n",
            "Epoch 2/100\n",
            "440/759 [================>.............] - ETA: 1:57 - loss: 6.1361 - accuracy: 0.0949"
          ],
          "name": "stdout"
        }
      ]
    },
    {
      "cell_type": "code",
      "metadata": {
        "id": "95ILyLn91DwJ",
        "colab_type": "code",
        "colab": {}
      },
      "source": [
        "plt.plot(history.history['accuracy'],label='accuracy')\n",
        "plt.legend()\n",
        "plt.show()"
      ],
      "execution_count": 0,
      "outputs": []
    },
    {
      "cell_type": "code",
      "metadata": {
        "id": "vCnB0ZfT1R7d",
        "colab_type": "code",
        "colab": {}
      },
      "source": [
        "def predict(next_words):\n",
        "  for i in range(next_words):\n",
        "    tokens=tokenizer.texts_to_sequences([new_text])\n",
        "    padded_sequence=pad_sequences(tokens,maxlen=max_len-1)\n",
        "    prediction=model.predict_classes(padded_sequence)\n",
        "    for word,index in tokenizer.word_index.items():\n",
        "      if index == prediction:\n",
        "        output_word = word\n",
        "        break\n",
        "    new_text = new_text+' ' + output_word"
      ],
      "execution_count": 0,
      "outputs": []
    },
    {
      "cell_type": "code",
      "metadata": {
        "id": "gtlJqz1E2KkV",
        "colab_type": "code",
        "colab": {}
      },
      "source": [
        ""
      ],
      "execution_count": 0,
      "outputs": []
    }
  ]
}