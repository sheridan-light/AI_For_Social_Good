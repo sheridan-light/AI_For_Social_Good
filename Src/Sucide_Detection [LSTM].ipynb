{
  "nbformat": 4,
  "nbformat_minor": 0,
  "metadata": {
    "colab": {
      "name": "Sucide_Detection [LSTM].ipynb",
      "provenance": [],
      "collapsed_sections": [],
      "toc_visible": true
    },
    "kernelspec": {
      "name": "python3",
      "display_name": "Python 3"
    },
    "accelerator": "GPU"
  },
  "cells": [
    {
      "cell_type": "markdown",
      "metadata": {
        "id": "BJv6ecMBInoM",
        "colab_type": "text"
      },
      "source": [
        "# Building A Suicide Text Classifier"
      ]
    },
    {
      "cell_type": "markdown",
      "metadata": {
        "id": "lZEJ5aBeIiGn",
        "colab_type": "text"
      },
      "source": [
        "## Importing Library"
      ]
    },
    {
      "cell_type": "code",
      "metadata": {
        "id": "YrzAmNIlqCVv",
        "colab_type": "code",
        "colab": {}
      },
      "source": [
        "import pandas as pd\n",
        "import numpy as np\n",
        "import os\n",
        "import matplotlib.pyplot as plt"
      ],
      "execution_count": 0,
      "outputs": []
    },
    {
      "cell_type": "code",
      "metadata": {
        "id": "McFoueZJqU26",
        "colab_type": "code",
        "outputId": "2d341358-8cb5-460f-f826-83b7f7f5b2a6",
        "colab": {
          "base_uri": "https://localhost:8080/",
          "height": 35
        }
      },
      "source": [
        "import tensorflow as tf\n",
        "tf.__version__"
      ],
      "execution_count": 2,
      "outputs": [
        {
          "output_type": "execute_result",
          "data": {
            "text/plain": [
              "'2.2.0'"
            ]
          },
          "metadata": {
            "tags": []
          },
          "execution_count": 2
        }
      ]
    },
    {
      "cell_type": "code",
      "metadata": {
        "id": "DyyLCMUtsuKc",
        "colab_type": "code",
        "colab": {}
      },
      "source": [
        "import re\n",
        "import nltk\n",
        "from nltk.corpus import stopwords\n",
        "from nltk.stem import WordNetLemmatizer"
      ],
      "execution_count": 0,
      "outputs": []
    },
    {
      "cell_type": "code",
      "metadata": {
        "id": "TqQKDeebtFHJ",
        "colab_type": "code",
        "colab": {}
      },
      "source": [
        "from tensorflow.keras.preprocessing.text import Tokenizer\n",
        "from tensorflow.keras.preprocessing.sequence import pad_sequences"
      ],
      "execution_count": 0,
      "outputs": []
    },
    {
      "cell_type": "code",
      "metadata": {
        "id": "0nz1uLYqtM3M",
        "colab_type": "code",
        "colab": {}
      },
      "source": [
        "from tensorflow.keras.models import Sequential\n",
        "from tensorflow.keras.layers import Embedding\n",
        "from tensorflow.keras.layers import Dense\n",
        "from tensorflow.keras.layers import Dropout\n",
        "from tensorflow.keras.layers import Bidirectional\n",
        "from tensorflow.keras.layers import LSTM\n",
        "from tensorflow.keras.utils import plot_model\n",
        "from tensorflow.keras.models import load_model"
      ],
      "execution_count": 0,
      "outputs": []
    },
    {
      "cell_type": "code",
      "metadata": {
        "id": "V-j8D-klrqE0",
        "colab_type": "code",
        "colab": {}
      },
      "source": [
        "from sklearn.model_selection import train_test_split\n",
        "from sklearn.metrics import classification_report,confusion_matrix"
      ],
      "execution_count": 0,
      "outputs": []
    },
    {
      "cell_type": "markdown",
      "metadata": {
        "id": "6vXjlpnyIZ7C",
        "colab_type": "text"
      },
      "source": [
        "## Loading The Dataset"
      ]
    },
    {
      "cell_type": "code",
      "metadata": {
        "id": "Sp3ohzJXqZTw",
        "colab_type": "code",
        "colab": {}
      },
      "source": [
        "df=pd.read_csv('/content/drive/My Drive/Colab Notebooks/Datasets/Sucide_Detect_Combined.csv')"
      ],
      "execution_count": 0,
      "outputs": []
    },
    {
      "cell_type": "code",
      "metadata": {
        "id": "Wypy7uEfrx_K",
        "colab_type": "code",
        "outputId": "3bc93830-75a4-4619-e8c5-8754853781f6",
        "colab": {
          "base_uri": "https://localhost:8080/",
          "height": 197
        }
      },
      "source": [
        "df.head()"
      ],
      "execution_count": 8,
      "outputs": [
        {
          "output_type": "execute_result",
          "data": {
            "text/html": [
              "<div>\n",
              "<style scoped>\n",
              "    .dataframe tbody tr th:only-of-type {\n",
              "        vertical-align: middle;\n",
              "    }\n",
              "\n",
              "    .dataframe tbody tr th {\n",
              "        vertical-align: top;\n",
              "    }\n",
              "\n",
              "    .dataframe thead th {\n",
              "        text-align: right;\n",
              "    }\n",
              "</style>\n",
              "<table border=\"1\" class=\"dataframe\">\n",
              "  <thead>\n",
              "    <tr style=\"text-align: right;\">\n",
              "      <th></th>\n",
              "      <th>subreddit</th>\n",
              "      <th>selftext</th>\n",
              "      <th>title</th>\n",
              "      <th>name</th>\n",
              "      <th>is_sucide</th>\n",
              "    </tr>\n",
              "  </thead>\n",
              "  <tbody>\n",
              "    <tr>\n",
              "      <th>0</th>\n",
              "      <td>SuicideWatch</td>\n",
              "      <td>We've been seeing a worrying increase in pro-s...</td>\n",
              "      <td>New wiki on how to avoid accidentally encourag...</td>\n",
              "      <td>t3_cz6nfd</td>\n",
              "      <td>1</td>\n",
              "    </tr>\n",
              "    <tr>\n",
              "      <th>1</th>\n",
              "      <td>SuicideWatch</td>\n",
              "      <td>If you want to recognise an occasion, please d...</td>\n",
              "      <td>Reminder: Absolutely no activism of any kind i...</td>\n",
              "      <td>t3_d2370x</td>\n",
              "      <td>1</td>\n",
              "    </tr>\n",
              "    <tr>\n",
              "      <th>2</th>\n",
              "      <td>SuicideWatch</td>\n",
              "      <td>All I want is to be a normal person who can ju...</td>\n",
              "      <td>Every time I feel optimistic, every time I thi...</td>\n",
              "      <td>t3_gt6nhf</td>\n",
              "      <td>1</td>\n",
              "    </tr>\n",
              "    <tr>\n",
              "      <th>3</th>\n",
              "      <td>SuicideWatch</td>\n",
              "      <td>Original post: https://www.reddit.com/r/Suicid...</td>\n",
              "      <td>Wife cheated update</td>\n",
              "      <td>t3_gtdvnt</td>\n",
              "      <td>1</td>\n",
              "    </tr>\n",
              "    <tr>\n",
              "      <th>4</th>\n",
              "      <td>SuicideWatch</td>\n",
              "      <td>Basically the title. Every time I or some one ...</td>\n",
              "      <td>How come I can't choose suicide as an option? ...</td>\n",
              "      <td>t3_gt6tdi</td>\n",
              "      <td>1</td>\n",
              "    </tr>\n",
              "  </tbody>\n",
              "</table>\n",
              "</div>"
            ],
            "text/plain": [
              "      subreddit  ... is_sucide\n",
              "0  SuicideWatch  ...         1\n",
              "1  SuicideWatch  ...         1\n",
              "2  SuicideWatch  ...         1\n",
              "3  SuicideWatch  ...         1\n",
              "4  SuicideWatch  ...         1\n",
              "\n",
              "[5 rows x 5 columns]"
            ]
          },
          "metadata": {
            "tags": []
          },
          "execution_count": 8
        }
      ]
    },
    {
      "cell_type": "markdown",
      "metadata": {
        "id": "OF3nEYpsId-3",
        "colab_type": "text"
      },
      "source": [
        "## Suffling The dataset"
      ]
    },
    {
      "cell_type": "code",
      "metadata": {
        "id": "Z6lyvRIq3CrW",
        "colab_type": "code",
        "colab": {}
      },
      "source": [
        "df = df.sample(frac=1).reset_index(drop=True)"
      ],
      "execution_count": 0,
      "outputs": []
    },
    {
      "cell_type": "code",
      "metadata": {
        "id": "uh1PNMM3s1YL",
        "colab_type": "code",
        "outputId": "ec698bef-990c-4898-f8ba-605b22a72460",
        "colab": {
          "base_uri": "https://localhost:8080/",
          "height": 35
        }
      },
      "source": [
        "df.shape"
      ],
      "execution_count": 10,
      "outputs": [
        {
          "output_type": "execute_result",
          "data": {
            "text/plain": [
              "(1932, 5)"
            ]
          },
          "metadata": {
            "tags": []
          },
          "execution_count": 10
        }
      ]
    },
    {
      "cell_type": "code",
      "metadata": {
        "id": "XtI5SqbKs3G3",
        "colab_type": "code",
        "outputId": "9cfcbf3c-9407-45fd-c093-e63e3c5f8fd5",
        "colab": {
          "base_uri": "https://localhost:8080/",
          "height": 122
        }
      },
      "source": [
        "df.isnull().sum()"
      ],
      "execution_count": 11,
      "outputs": [
        {
          "output_type": "execute_result",
          "data": {
            "text/plain": [
              "subreddit     0\n",
              "selftext     49\n",
              "title         0\n",
              "name          0\n",
              "is_sucide     0\n",
              "dtype: int64"
            ]
          },
          "metadata": {
            "tags": []
          },
          "execution_count": 11
        }
      ]
    },
    {
      "cell_type": "markdown",
      "metadata": {
        "id": "hUgq9DZfNp5j",
        "colab_type": "text"
      },
      "source": [
        "## Cleaning Data"
      ]
    },
    {
      "cell_type": "code",
      "metadata": {
        "id": "TQTIVn1ms6tc",
        "colab_type": "code",
        "colab": {}
      },
      "source": [
        "df['selftext']=df['selftext'].fillna('No Text')"
      ],
      "execution_count": 0,
      "outputs": []
    },
    {
      "cell_type": "code",
      "metadata": {
        "id": "pD2Q09JshImQ",
        "colab_type": "code",
        "colab": {}
      },
      "source": [
        "wordnet=WordNetLemmatizer()"
      ],
      "execution_count": 0,
      "outputs": []
    },
    {
      "cell_type": "code",
      "metadata": {
        "id": "LJuyv_HTsOC5",
        "colab_type": "code",
        "colab": {}
      },
      "source": [
        "def clean_text(a):\n",
        "    x=re.sub('[^a-zA-Z]',' ',a)\n",
        "    x=x.lower()\n",
        "    text=nltk.word_tokenize(x)\n",
        "    text=[wordnet.lemmatize(word) for word in text if word not in stopwords.words('english')]\n",
        "    text=' '.join(text)\n",
        "    return text"
      ],
      "execution_count": 0,
      "outputs": []
    },
    {
      "cell_type": "code",
      "metadata": {
        "id": "S-1mKfvBsOOX",
        "colab_type": "code",
        "colab": {}
      },
      "source": [
        "df['selftext']=df['selftext'].apply(clean_text)"
      ],
      "execution_count": 0,
      "outputs": []
    },
    {
      "cell_type": "code",
      "metadata": {
        "id": "OzubXEjWsq7K",
        "colab_type": "code",
        "outputId": "50a97154-c63c-485f-ee9d-a9a3a267108c",
        "colab": {
          "base_uri": "https://localhost:8080/",
          "height": 197
        }
      },
      "source": [
        "df.head()"
      ],
      "execution_count": 16,
      "outputs": [
        {
          "output_type": "execute_result",
          "data": {
            "text/html": [
              "<div>\n",
              "<style scoped>\n",
              "    .dataframe tbody tr th:only-of-type {\n",
              "        vertical-align: middle;\n",
              "    }\n",
              "\n",
              "    .dataframe tbody tr th {\n",
              "        vertical-align: top;\n",
              "    }\n",
              "\n",
              "    .dataframe thead th {\n",
              "        text-align: right;\n",
              "    }\n",
              "</style>\n",
              "<table border=\"1\" class=\"dataframe\">\n",
              "  <thead>\n",
              "    <tr style=\"text-align: right;\">\n",
              "      <th></th>\n",
              "      <th>subreddit</th>\n",
              "      <th>selftext</th>\n",
              "      <th>title</th>\n",
              "      <th>name</th>\n",
              "      <th>is_sucide</th>\n",
              "    </tr>\n",
              "  </thead>\n",
              "  <tbody>\n",
              "    <tr>\n",
              "      <th>0</th>\n",
              "      <td>depression</td>\n",
              "      <td>posted yesterday wondering anyone else thing c...</td>\n",
              "      <td>And it's all fucking back</td>\n",
              "      <td>t3_gsu2k6</td>\n",
              "      <td>0</td>\n",
              "    </tr>\n",
              "    <tr>\n",
              "      <th>1</th>\n",
              "      <td>depression</td>\n",
              "      <td>pls need view long take get back normal reach ...</td>\n",
              "      <td>Reaching Steady State On Lexapro After Missing...</td>\n",
              "      <td>t3_gta7rm</td>\n",
              "      <td>0</td>\n",
              "    </tr>\n",
              "    <tr>\n",
              "      <th>2</th>\n",
              "      <td>depression</td>\n",
              "      <td>frustrated yesterday able productive today den...</td>\n",
              "      <td>I hate how inconsistent depression is</td>\n",
              "      <td>t3_gshzwv</td>\n",
              "      <td>0</td>\n",
              "    </tr>\n",
              "    <tr>\n",
              "      <th>3</th>\n",
              "      <td>SuicideWatch</td>\n",
              "      <td>made new reddit account case anyone know see a...</td>\n",
              "      <td>I can’t clear my head.</td>\n",
              "      <td>t3_gt8onw</td>\n",
              "      <td>1</td>\n",
              "    </tr>\n",
              "    <tr>\n",
              "      <th>4</th>\n",
              "      <td>SuicideWatch</td>\n",
              "      <td>probably pretty common raised cult strict rule...</td>\n",
              "      <td>I'm a pebble, dreaming about being a tree.</td>\n",
              "      <td>t3_gs0mw4</td>\n",
              "      <td>1</td>\n",
              "    </tr>\n",
              "  </tbody>\n",
              "</table>\n",
              "</div>"
            ],
            "text/plain": [
              "      subreddit  ... is_sucide\n",
              "0    depression  ...         0\n",
              "1    depression  ...         0\n",
              "2    depression  ...         0\n",
              "3  SuicideWatch  ...         1\n",
              "4  SuicideWatch  ...         1\n",
              "\n",
              "[5 rows x 5 columns]"
            ]
          },
          "metadata": {
            "tags": []
          },
          "execution_count": 16
        }
      ]
    },
    {
      "cell_type": "code",
      "metadata": {
        "id": "ktWtNN6WtQBR",
        "colab_type": "code",
        "colab": {}
      },
      "source": [
        "text=df['selftext']"
      ],
      "execution_count": 0,
      "outputs": []
    },
    {
      "cell_type": "code",
      "metadata": {
        "id": "g-ckGb3jtWC2",
        "colab_type": "code",
        "colab": {}
      },
      "source": [
        "target=df['is_sucide']"
      ],
      "execution_count": 0,
      "outputs": []
    },
    {
      "cell_type": "code",
      "metadata": {
        "id": "aMhgZUh7tYiF",
        "colab_type": "code",
        "colab": {}
      },
      "source": [
        "x_train,x_test,y_train,y_test=train_test_split(text,target,random_state=42,test_size=0.2)"
      ],
      "execution_count": 0,
      "outputs": []
    },
    {
      "cell_type": "markdown",
      "metadata": {
        "id": "ZndXkGa_IyhA",
        "colab_type": "text"
      },
      "source": [
        "## Tokenizing and Paddding"
      ]
    },
    {
      "cell_type": "code",
      "metadata": {
        "id": "xXR_7xGmteb_",
        "colab_type": "code",
        "colab": {}
      },
      "source": [
        "tokenizer=Tokenizer()"
      ],
      "execution_count": 0,
      "outputs": []
    },
    {
      "cell_type": "code",
      "metadata": {
        "id": "_aon7-qPthZq",
        "colab_type": "code",
        "colab": {}
      },
      "source": [
        "tokenizer.fit_on_texts(text)"
      ],
      "execution_count": 0,
      "outputs": []
    },
    {
      "cell_type": "code",
      "metadata": {
        "id": "Nw-6GmO7tj8g",
        "colab_type": "code",
        "outputId": "8bc83367-b19e-4414-ec64-fd6edbd6a683",
        "colab": {
          "base_uri": "https://localhost:8080/",
          "height": 35
        }
      },
      "source": [
        "word_index=tokenizer.word_index\n",
        "vocab_size=len(word_index)+1\n",
        "vocab_size"
      ],
      "execution_count": 24,
      "outputs": [
        {
          "output_type": "execute_result",
          "data": {
            "text/plain": [
              "9900"
            ]
          },
          "metadata": {
            "tags": []
          },
          "execution_count": 24
        }
      ]
    },
    {
      "cell_type": "code",
      "metadata": {
        "id": "qusN2f_wuEzb",
        "colab_type": "code",
        "outputId": "f22ef7c8-d816-49e8-9419-8e9ecf76005a",
        "colab": {
          "base_uri": "https://localhost:8080/",
          "height": 35
        }
      },
      "source": [
        "train_sequence=tokenizer.texts_to_sequences(x_train)\n",
        "max_len=max(len(words) for words in train_sequence)\n",
        "max_len"
      ],
      "execution_count": 25,
      "outputs": [
        {
          "output_type": "execute_result",
          "data": {
            "text/plain": [
              "942"
            ]
          },
          "metadata": {
            "tags": []
          },
          "execution_count": 25
        }
      ]
    },
    {
      "cell_type": "code",
      "metadata": {
        "id": "LieKP6RWtyXH",
        "colab_type": "code",
        "colab": {}
      },
      "source": [
        "train_sequence=tokenizer.texts_to_sequences(x_train)\n",
        "max_len=max(len(words) for words in train_sequence)\n",
        "train_padded=pad_sequences(train_sequence,maxlen=max_len)"
      ],
      "execution_count": 0,
      "outputs": []
    },
    {
      "cell_type": "code",
      "metadata": {
        "id": "YblJoD43uY84",
        "colab_type": "code",
        "colab": {}
      },
      "source": [
        "test_sequence=tokenizer.texts_to_sequences(x_test)\n",
        "test_padded=pad_sequences(test_sequence,maxlen=max_len)"
      ],
      "execution_count": 0,
      "outputs": []
    },
    {
      "cell_type": "code",
      "metadata": {
        "id": "kSb8yExiuozW",
        "colab_type": "code",
        "outputId": "447dccee-8404-4778-c937-198323c3c82e",
        "colab": {
          "base_uri": "https://localhost:8080/",
          "height": 208
        }
      },
      "source": [
        "# Used a api of globe for faster access\n",
        "!wget --no-check-certificate \\\n",
        "    https://storage.googleapis.com/laurencemoroney-blog.appspot.com/glove.6B.100d.txt \\\n",
        "    -O /tmp/glove.6B.100d.txt\n",
        "embeddings_index = {};\n",
        "with open('/tmp/glove.6B.100d.txt') as f:\n",
        "    for line in f:\n",
        "        values = line.split();\n",
        "        word = values[0];\n",
        "        coefs = np.asarray(values[1:], dtype='float32');\n",
        "        embeddings_index[word] = coefs;\n",
        "\n",
        "embeddings_matrix = np.zeros((vocab_size,100));\n",
        "for word, i in word_index.items():\n",
        "    embedding_vector = embeddings_index.get(word);\n",
        "    if embedding_vector is not None:\n",
        "        embeddings_matrix[i] = embedding_vector;"
      ],
      "execution_count": 31,
      "outputs": [
        {
          "output_type": "stream",
          "text": [
            "--2020-05-30 17:02:25--  https://storage.googleapis.com/laurencemoroney-blog.appspot.com/glove.6B.100d.txt\n",
            "Resolving storage.googleapis.com (storage.googleapis.com)... 173.194.74.128, 2607:f8b0:4001:c11::80\n",
            "Connecting to storage.googleapis.com (storage.googleapis.com)|173.194.74.128|:443... connected.\n",
            "HTTP request sent, awaiting response... 200 OK\n",
            "Length: 347116733 (331M) [text/plain]\n",
            "Saving to: ‘/tmp/glove.6B.100d.txt’\n",
            "\n",
            "/tmp/glove.6B.100d. 100%[===================>] 331.04M   143MB/s    in 2.3s    \n",
            "\n",
            "2020-05-30 17:02:28 (143 MB/s) - ‘/tmp/glove.6B.100d.txt’ saved [347116733/347116733]\n",
            "\n"
          ],
          "name": "stdout"
        }
      ]
    },
    {
      "cell_type": "markdown",
      "metadata": {
        "id": "gPclHzZ6I3cd",
        "colab_type": "text"
      },
      "source": [
        "## Building The Model"
      ]
    },
    {
      "cell_type": "code",
      "metadata": {
        "id": "Phw46othusKL",
        "colab_type": "code",
        "colab": {}
      },
      "source": [
        "model=Sequential()"
      ],
      "execution_count": 0,
      "outputs": []
    },
    {
      "cell_type": "code",
      "metadata": {
        "id": "i9bJ90Tdu2zu",
        "colab_type": "code",
        "colab": {}
      },
      "source": [
        "model.add(Embedding(vocab_size,100, input_length=max_len, weights=[embeddings_matrix], trainable=False))\n",
        "model.add(Dropout(0.3))\n",
        "model.add(Bidirectional(LSTM(326,return_sequences=True)))\n",
        "model.add(Dropout(0.3))\n",
        "model.add(Bidirectional(LSTM(625)))\n",
        "model.add(Dense(1,activation='sigmoid'))"
      ],
      "execution_count": 0,
      "outputs": []
    },
    {
      "cell_type": "code",
      "metadata": {
        "id": "TueNFZKau21f",
        "colab_type": "code",
        "outputId": "daff04d9-4a36-4b5d-92b0-5be1bb083a34",
        "colab": {
          "base_uri": "https://localhost:8080/",
          "height": 365
        }
      },
      "source": [
        "model.summary()"
      ],
      "execution_count": 34,
      "outputs": [
        {
          "output_type": "stream",
          "text": [
            "Model: \"sequential\"\n",
            "_________________________________________________________________\n",
            "Layer (type)                 Output Shape              Param #   \n",
            "=================================================================\n",
            "embedding (Embedding)        (None, 942, 100)          990000    \n",
            "_________________________________________________________________\n",
            "dropout (Dropout)            (None, 942, 100)          0         \n",
            "_________________________________________________________________\n",
            "bidirectional (Bidirectional (None, 942, 652)          1113616   \n",
            "_________________________________________________________________\n",
            "dropout_1 (Dropout)          (None, 942, 652)          0         \n",
            "_________________________________________________________________\n",
            "bidirectional_1 (Bidirection (None, 1250)              6390000   \n",
            "_________________________________________________________________\n",
            "dense (Dense)                (None, 1)                 1251      \n",
            "=================================================================\n",
            "Total params: 8,494,867\n",
            "Trainable params: 7,504,867\n",
            "Non-trainable params: 990,000\n",
            "_________________________________________________________________\n"
          ],
          "name": "stdout"
        }
      ]
    },
    {
      "cell_type": "code",
      "metadata": {
        "id": "qtahFIgBvHtf",
        "colab_type": "code",
        "outputId": "39b68573-12e9-4f28-aa3c-55d297cd3205",
        "colab": {
          "base_uri": "https://localhost:8080/",
          "height": 754
        }
      },
      "source": [
        "plot_model(model, show_shapes=True)"
      ],
      "execution_count": 35,
      "outputs": [
        {
          "output_type": "execute_result",
          "data": {
            "image/png": "[encoded data removed]",
            "text/plain": [
              "<IPython.core.display.Image object>"
            ]
          },
          "metadata": {
            "tags": []
          },
          "execution_count": 35
        }
      ]
    },
    {
      "cell_type": "code",
      "metadata": {
        "id": "x4phiuLdvu1k",
        "colab_type": "code",
        "colab": {}
      },
      "source": [
        "model.compile(optimizer='adam',loss='binary_crossentropy',metrics=['accuracy'])"
      ],
      "execution_count": 0,
      "outputs": []
    },
    {
      "cell_type": "code",
      "metadata": {
        "id": "WA2jgAPn117U",
        "colab_type": "code",
        "colab": {}
      },
      "source": [
        "filepath = os.path.join(\"./sucide_models/model_v{epoch}.hdf5\")\n",
        "\n",
        "checkpoint = tf.keras.callbacks.ModelCheckpoint(filepath,\n",
        "                                             monitor='val_accuracy',\n",
        "                                             verbose=1,\n",
        "                                             save_best_only=True,\n",
        "                                             mode='max')\n",
        "callbacks = [checkpoint]"
      ],
      "execution_count": 0,
      "outputs": []
    },
    {
      "cell_type": "code",
      "metadata": {
        "id": "18chKkx_v2If",
        "colab_type": "code",
        "outputId": "0f19f7c1-308e-4afc-be71-82620e012790",
        "colab": {
          "base_uri": "https://localhost:8080/",
          "height": 1000
        }
      },
      "source": [
        "history=model.fit(train_padded,y_train,epochs=20,validation_data=(test_padded,y_test),callbacks=callbacks)"
      ],
      "execution_count": 38,
      "outputs": [
        {
          "output_type": "stream",
          "text": [
            "Epoch 1/20\n",
            "49/49 [==============================] - ETA: 0s - loss: 0.6951 - accuracy: 0.5385\n",
            "Epoch 00001: val_accuracy improved from -inf to 0.63566, saving model to ./sucide_models/model_v1.hdf5\n",
            "49/49 [==============================] - 94s 2s/step - loss: 0.6951 - accuracy: 0.5385 - val_loss: 0.6582 - val_accuracy: 0.6357\n",
            "Epoch 2/20\n",
            "49/49 [==============================] - ETA: 0s - loss: 0.6511 - accuracy: 0.6110\n",
            "Epoch 00002: val_accuracy did not improve from 0.63566\n",
            "49/49 [==============================] - 92s 2s/step - loss: 0.6511 - accuracy: 0.6110 - val_loss: 0.6470 - val_accuracy: 0.6202\n",
            "Epoch 3/20\n",
            "49/49 [==============================] - ETA: 0s - loss: 0.6422 - accuracy: 0.6317\n",
            "Epoch 00003: val_accuracy did not improve from 0.63566\n",
            "49/49 [==============================] - 92s 2s/step - loss: 0.6422 - accuracy: 0.6317 - val_loss: 0.6472 - val_accuracy: 0.6357\n",
            "Epoch 4/20\n",
            "49/49 [==============================] - ETA: 0s - loss: 0.6494 - accuracy: 0.6375\n",
            "Epoch 00004: val_accuracy did not improve from 0.63566\n",
            "49/49 [==============================] - 93s 2s/step - loss: 0.6494 - accuracy: 0.6375 - val_loss: 0.7098 - val_accuracy: 0.5271\n",
            "Epoch 5/20\n",
            "49/49 [==============================] - ETA: 0s - loss: 0.6293 - accuracy: 0.6421\n",
            "Epoch 00005: val_accuracy did not improve from 0.63566\n",
            "49/49 [==============================] - 93s 2s/step - loss: 0.6293 - accuracy: 0.6421 - val_loss: 0.6522 - val_accuracy: 0.6124\n",
            "Epoch 6/20\n",
            "49/49 [==============================] - ETA: 0s - loss: 0.6205 - accuracy: 0.6641\n",
            "Epoch 00006: val_accuracy improved from 0.63566 to 0.67183, saving model to ./sucide_models/model_v6.hdf5\n",
            "49/49 [==============================] - 92s 2s/step - loss: 0.6205 - accuracy: 0.6641 - val_loss: 0.6236 - val_accuracy: 0.6718\n",
            "Epoch 7/20\n",
            "49/49 [==============================] - ETA: 0s - loss: 0.5768 - accuracy: 0.6867\n",
            "Epoch 00007: val_accuracy did not improve from 0.67183\n",
            "49/49 [==============================] - 92s 2s/step - loss: 0.5768 - accuracy: 0.6867 - val_loss: 0.6873 - val_accuracy: 0.5917\n",
            "Epoch 8/20\n",
            "49/49 [==============================] - ETA: 0s - loss: 0.6917 - accuracy: 0.5935\n",
            "Epoch 00008: val_accuracy did not improve from 0.67183\n",
            "49/49 [==============================] - 93s 2s/step - loss: 0.6917 - accuracy: 0.5935 - val_loss: 0.7179 - val_accuracy: 0.5116\n",
            "Epoch 9/20\n",
            "49/49 [==============================] - ETA: 0s - loss: 0.6665 - accuracy: 0.5981\n",
            "Epoch 00009: val_accuracy did not improve from 0.67183\n",
            "49/49 [==============================] - 94s 2s/step - loss: 0.6665 - accuracy: 0.5981 - val_loss: 0.6900 - val_accuracy: 0.5633\n",
            "Epoch 10/20\n",
            "49/49 [==============================] - ETA: 0s - loss: 0.6248 - accuracy: 0.6330\n",
            "Epoch 00010: val_accuracy did not improve from 0.67183\n",
            "49/49 [==============================] - 94s 2s/step - loss: 0.6248 - accuracy: 0.6330 - val_loss: 0.6746 - val_accuracy: 0.6021\n",
            "Epoch 11/20\n",
            "49/49 [==============================] - ETA: 0s - loss: 0.6460 - accuracy: 0.6110\n",
            "Epoch 00011: val_accuracy did not improve from 0.67183\n",
            "49/49 [==============================] - 94s 2s/step - loss: 0.6460 - accuracy: 0.6110 - val_loss: 0.6912 - val_accuracy: 0.5245\n",
            "Epoch 12/20\n",
            "49/49 [==============================] - ETA: 0s - loss: 0.6276 - accuracy: 0.6440\n",
            "Epoch 00012: val_accuracy did not improve from 0.67183\n",
            "49/49 [==============================] - 94s 2s/step - loss: 0.6276 - accuracy: 0.6440 - val_loss: 0.6778 - val_accuracy: 0.5504\n",
            "Epoch 13/20\n",
            "49/49 [==============================] - ETA: 0s - loss: 0.6131 - accuracy: 0.6524\n",
            "Epoch 00013: val_accuracy did not improve from 0.67183\n",
            "49/49 [==============================] - 94s 2s/step - loss: 0.6131 - accuracy: 0.6524 - val_loss: 0.6692 - val_accuracy: 0.5969\n",
            "Epoch 14/20\n",
            "49/49 [==============================] - ETA: 0s - loss: 0.5918 - accuracy: 0.6816\n",
            "Epoch 00014: val_accuracy did not improve from 0.67183\n",
            "49/49 [==============================] - 94s 2s/step - loss: 0.5918 - accuracy: 0.6816 - val_loss: 0.6722 - val_accuracy: 0.6072\n",
            "Epoch 15/20\n",
            "49/49 [==============================] - ETA: 0s - loss: 0.5667 - accuracy: 0.7010\n",
            "Epoch 00015: val_accuracy did not improve from 0.67183\n",
            "49/49 [==============================] - 94s 2s/step - loss: 0.5667 - accuracy: 0.7010 - val_loss: 0.6846 - val_accuracy: 0.5866\n",
            "Epoch 16/20\n",
            "49/49 [==============================] - ETA: 0s - loss: 0.5490 - accuracy: 0.7107\n",
            "Epoch 00016: val_accuracy did not improve from 0.67183\n",
            "49/49 [==============================] - 94s 2s/step - loss: 0.5490 - accuracy: 0.7107 - val_loss: 0.6819 - val_accuracy: 0.6408\n",
            "Epoch 17/20\n",
            "49/49 [==============================] - ETA: 0s - loss: 0.5179 - accuracy: 0.7366\n",
            "Epoch 00017: val_accuracy did not improve from 0.67183\n",
            "49/49 [==============================] - 94s 2s/step - loss: 0.5179 - accuracy: 0.7366 - val_loss: 0.6755 - val_accuracy: 0.6589\n",
            "Epoch 18/20\n",
            "49/49 [==============================] - ETA: 0s - loss: 0.4966 - accuracy: 0.7566\n",
            "Epoch 00018: val_accuracy did not improve from 0.67183\n",
            "49/49 [==============================] - 94s 2s/step - loss: 0.4966 - accuracy: 0.7566 - val_loss: 0.7783 - val_accuracy: 0.5943\n",
            "Epoch 19/20\n",
            "49/49 [==============================] - ETA: 0s - loss: 0.4993 - accuracy: 0.7489\n",
            "Epoch 00019: val_accuracy did not improve from 0.67183\n",
            "49/49 [==============================] - 94s 2s/step - loss: 0.4993 - accuracy: 0.7489 - val_loss: 0.6967 - val_accuracy: 0.6589\n",
            "Epoch 20/20\n",
            "49/49 [==============================] - ETA: 0s - loss: 0.4393 - accuracy: 0.7832\n",
            "Epoch 00020: val_accuracy did not improve from 0.67183\n",
            "49/49 [==============================] - 94s 2s/step - loss: 0.4393 - accuracy: 0.7832 - val_loss: 0.8340 - val_accuracy: 0.6563\n"
          ],
          "name": "stdout"
        }
      ]
    },
    {
      "cell_type": "code",
      "metadata": {
        "id": "7cF3HrVnv_-C",
        "colab_type": "code",
        "outputId": "22f5a3df-2623-4d0a-cf85-60e503e654af",
        "colab": {
          "base_uri": "https://localhost:8080/",
          "height": 375
        }
      },
      "source": [
        "fig,(ax1,ax2)=plt.subplots(nrows=1,ncols=2,figsize=(20,6))\n",
        "ax1.plot(history.history['accuracy'],label='train_accuracy')\n",
        "ax1.plot(history.history['val_accuracy'],label='test_accuracy')\n",
        "ax1.legend()\n",
        "ax2.plot(history.history['loss'],label='train_loss')\n",
        "ax2.plot(history.history['val_loss'],label='test_loss')\n",
        "ax2.legend()\n",
        "plt.show()"
      ],
      "execution_count": 39,
      "outputs": [
        {
          "output_type": "display_data",
          "data": {
            "image/png": "[encoded data removed]",
            "text/plain": [
              "<Figure size 1440x432 with 2 Axes>"
            ]
          },
          "metadata": {
            "tags": [],
            "needs_background": "light"
          }
        }
      ]
    },
    {
      "cell_type": "markdown",
      "metadata": {
        "id": "czlAH6jcI7Hc",
        "colab_type": "text"
      },
      "source": [
        "## Loading Model and Checking Accuracy"
      ]
    },
    {
      "cell_type": "code",
      "metadata": {
        "id": "ACiUPMvqIPGf",
        "colab_type": "code",
        "colab": {}
      },
      "source": [
        "classifier=load_model('/content/sucide_models/model_v6.hdf5')"
      ],
      "execution_count": 0,
      "outputs": []
    },
    {
      "cell_type": "code",
      "metadata": {
        "id": "GSgk6JwMGWA1",
        "colab_type": "code",
        "colab": {}
      },
      "source": [
        "prediction=classifier.predict(test_padded)"
      ],
      "execution_count": 0,
      "outputs": []
    },
    {
      "cell_type": "code",
      "metadata": {
        "id": "ke16R1FSHIaB",
        "colab_type": "code",
        "colab": {}
      },
      "source": [
        "pr=(prediction>0.5)"
      ],
      "execution_count": 0,
      "outputs": []
    },
    {
      "cell_type": "code",
      "metadata": {
        "id": "uBiDoOS_Hmyh",
        "colab_type": "code",
        "outputId": "8bce1140-35e3-4ad1-8c03-fceb47eb1c06",
        "colab": {
          "base_uri": "https://localhost:8080/",
          "height": 52
        }
      },
      "source": [
        "print(confusion_matrix(y_test,pr))"
      ],
      "execution_count": 43,
      "outputs": [
        {
          "output_type": "stream",
          "text": [
            "[[154  48]\n",
            " [ 79 106]]\n"
          ],
          "name": "stdout"
        }
      ]
    },
    {
      "cell_type": "code",
      "metadata": {
        "id": "mOwdpjh1ICSX",
        "colab_type": "code",
        "outputId": "ba1d75b7-c064-4bc9-92e6-d1c2e8b399f7",
        "colab": {
          "base_uri": "https://localhost:8080/",
          "height": 174
        }
      },
      "source": [
        "print(classification_report(y_test,pr))"
      ],
      "execution_count": 44,
      "outputs": [
        {
          "output_type": "stream",
          "text": [
            "              precision    recall  f1-score   support\n",
            "\n",
            "           0       0.66      0.76      0.71       202\n",
            "           1       0.69      0.57      0.63       185\n",
            "\n",
            "    accuracy                           0.67       387\n",
            "   macro avg       0.67      0.67      0.67       387\n",
            "weighted avg       0.67      0.67      0.67       387\n",
            "\n"
          ],
          "name": "stdout"
        }
      ]
    },
    {
      "cell_type": "markdown",
      "metadata": {
        "id": "IpS2_ueXI_C3",
        "colab_type": "text"
      },
      "source": [
        "## Predicting On New Messages"
      ]
    },
    {
      "cell_type": "code",
      "metadata": {
        "id": "4Rq8bfhGJ0Ko",
        "colab_type": "code",
        "colab": {}
      },
      "source": [
        "import pickle \n",
        "with open('tokenizer.pkl','wb') as f:\n",
        "  pickle.dump(tokenizer,f)"
      ],
      "execution_count": 0,
      "outputs": []
    },
    {
      "cell_type": "code",
      "metadata": {
        "id": "ad1gE8gNIX_y",
        "colab_type": "code",
        "colab": {}
      },
      "source": [
        "#Depression Thought\n",
        "text1='''I don't know, it's like this unexplainable feeling. \n",
        "Like this physical feeling in my heart that pulsates throughout my whole being. \n",
        "Whenever I hear happy music or watch a cheesy movie where everybody's happy I just can't help but feel sad. \n",
        "Same thing if I see something from when I was a kid or something similar. \n",
        "I'm thinking the root of it may be I've felt like I've missed out on life or didn't make the most of it? \n",
        "I don't know. I'm just hoping it's not just me.'''"
      ],
      "execution_count": 0,
      "outputs": []
    },
    {
      "cell_type": "code",
      "metadata": {
        "id": "pWBRp78fI_cL",
        "colab_type": "code",
        "colab": {}
      },
      "source": [
        "tokens=tokenizer.texts_to_sequences([text1])\n",
        "padded=pad_sequences(tokens,maxlen=max_len)"
      ],
      "execution_count": 0,
      "outputs": []
    },
    {
      "cell_type": "code",
      "metadata": {
        "id": "TgDBNsTQI_gi",
        "colab_type": "code",
        "colab": {}
      },
      "source": [
        "predict=classifier.predict(padded)"
      ],
      "execution_count": 0,
      "outputs": []
    },
    {
      "cell_type": "code",
      "metadata": {
        "id": "5NNai9qaI_er",
        "colab_type": "code",
        "outputId": "3effb43c-7d91-4cb6-c514-a4307fe6b790",
        "colab": {
          "base_uri": "https://localhost:8080/",
          "height": 35
        }
      },
      "source": [
        "pr=(predict>0.5)\n",
        "if pr[0][0]==False:\n",
        "  print(\"Depression\")\n",
        "else:\n",
        "  print(\"Sucide\")"
      ],
      "execution_count": 50,
      "outputs": [
        {
          "output_type": "stream",
          "text": [
            "Depression\n"
          ],
          "name": "stdout"
        }
      ]
    },
    {
      "cell_type": "code",
      "metadata": {
        "id": "B4LK4F70LVrt",
        "colab_type": "code",
        "colab": {}
      },
      "source": [
        "#Sucide Thought\n",
        "text2=''' It's been a year. An entire fucking year that I gave myself another chance. \n",
        "Or more like gave him another chance. Last year in October, I came close to killing myself. \n",
        "I had thought that nothing would ever get better and that there was absolutely no point living in a life that was FOR SURE never going to get better.\n",
        "Yet, I gave God another chance. That morning, a pack of coyotes howled during the sunset as the last song in my playlist of songs I want played in my funeral had ended.\n",
        "After hearing the coyotes, I thought it was a sign. A sign that God would make it better. \n",
        "'''"
      ],
      "execution_count": 0,
      "outputs": []
    },
    {
      "cell_type": "code",
      "metadata": {
        "id": "qoYqbhk9LV2y",
        "colab_type": "code",
        "colab": {}
      },
      "source": [
        "tokens=tokenizer.texts_to_sequences([text2])\n",
        "padded=pad_sequences(tokens,maxlen=942)"
      ],
      "execution_count": 0,
      "outputs": []
    },
    {
      "cell_type": "code",
      "metadata": {
        "id": "Gi5zHjKRLvHb",
        "colab_type": "code",
        "colab": {}
      },
      "source": [
        "predict=classifier.predict(padded)"
      ],
      "execution_count": 0,
      "outputs": []
    },
    {
      "cell_type": "code",
      "metadata": {
        "id": "laOJw3WWLwXu",
        "colab_type": "code",
        "outputId": "ef2c3e10-9c1b-4b07-8a7b-347bedfa6712",
        "colab": {
          "base_uri": "https://localhost:8080/",
          "height": 35
        }
      },
      "source": [
        "pr=(predict>0.5)\n",
        "if pr[0][0]==False:\n",
        "  print(\"Depression\")\n",
        "else:\n",
        "  print(\"Sucide\")"
      ],
      "execution_count": 60,
      "outputs": [
        {
          "output_type": "stream",
          "text": [
            "Sucide\n"
          ],
          "name": "stdout"
        }
      ]
    },
    {
      "cell_type": "markdown",
      "metadata": {
        "id": "HHRD_PbVqa8m",
        "colab_type": "text"
      },
      "source": [
        "### Saving Model as TFJS for further use"
      ]
    },
    {
      "cell_type": "code",
      "metadata": {
        "id": "hxeNoox-qaeA",
        "colab_type": "code",
        "colab": {}
      },
      "source": [
        "!tensorflowjs_converter --input_format keras '/content/sucide_models/model_v6.hdf5' './js_model'"
      ],
      "execution_count": 0,
      "outputs": []
    },
    {
      "cell_type": "code",
      "metadata": {
        "id": "4Ve-bDkCrtlo",
        "colab_type": "code",
        "colab": {
          "base_uri": "https://localhost:8080/",
          "height": 226
        },
        "outputId": "8011cf9c-2ff9-4e6f-ed18-0b010d772411"
      },
      "source": [
        "!zip -r tfjs_models.zip /content/js_model"
      ],
      "execution_count": 66,
      "outputs": [
        {
          "output_type": "stream",
          "text": [
            "  adding: content/js_model/ (stored 0%)\n",
            "  adding: content/js_model/group1-shard9of9.bin (deflated 23%)\n",
            "  adding: content/js_model/group1-shard2of9.bin (deflated 7%)\n",
            "  adding: content/js_model/group1-shard6of9.bin (deflated 7%)\n",
            "  adding: content/js_model/group1-shard8of9.bin (deflated 13%)\n",
            "  adding: content/js_model/model.json (deflated 80%)\n",
            "  adding: content/js_model/.ipynb_checkpoints/ (stored 0%)\n",
            "  adding: content/js_model/group1-shard3of9.bin (deflated 7%)\n",
            "  adding: content/js_model/group1-shard1of9.bin (deflated 7%)\n",
            "  adding: content/js_model/group1-shard7of9.bin (deflated 7%)\n",
            "  adding: content/js_model/group1-shard4of9.bin (deflated 7%)\n",
            "  adding: content/js_model/group1-shard5of9.bin (deflated 7%)\n"
          ],
          "name": "stdout"
        }
      ]
    },
    {
      "cell_type": "markdown",
      "metadata": {
        "id": "e6UUds-7K-EE",
        "colab_type": "text"
      },
      "source": [
        "## Conclusion:\n",
        "* Model achived an highest accuracy of 67%\n",
        "* It Predicted the output correctly, but model accuracy needs to be improved"
      ]
    }
  ]
}