{
 "cells": [
  {
   "cell_type": "code",
   "execution_count": 1,
   "metadata": {},
   "outputs": [],
   "source": [
    "import preprocess_text\n",
    "import pickle"
   ]
  },
  {
   "cell_type": "code",
   "execution_count": 2,
   "metadata": {},
   "outputs": [],
   "source": [
    "tf = pickle.load(open('../Pretrained_Models/tfidf_tokenizer.pkl','rb'))"
   ]
  },
  {
   "cell_type": "code",
   "execution_count": 3,
   "metadata": {},
   "outputs": [],
   "source": [
    "model = pickle.load(open('../Pretrained_Models/random_forest.pkl','rb'))"
   ]
  },
  {
   "cell_type": "code",
   "execution_count": 4,
   "metadata": {},
   "outputs": [],
   "source": [
    "def predict(text):\n",
    "    new_text = preprocess_text.clean_text(text)\n",
    "    vec = tf.transform([new_text])\n",
    "    res = model.predict(vec)\n",
    "    return res "
   ]
  },
  {
   "cell_type": "code",
   "execution_count": 6,
   "metadata": {
    "scrolled": true
   },
   "outputs": [
    {
     "name": "stdout",
     "output_type": "stream",
     "text": [
      "i am watching a movie :0\n",
      "i dont want to live any more :1\n",
      "she commited suicide :1\n",
      "Do you like to go out on a dinner :0\n"
     ]
    }
   ],
   "source": [
    "text = ['i am watching a movie', 'i dont want to live any more',\n",
    "        'she commited suicide', 'Do you like to go out on a dinner']\n",
    "\n",
    "for t in text:\n",
    "    res = predict(t)\n",
    "    print(\"{} :{}\".format(t, res[0]))"
   ]
  }
 ],
 "metadata": {
  "kernelspec": {
   "display_name": "Python 3",
   "language": "python",
   "name": "python3"
  },
  "language_info": {
   "codemirror_mode": {
    "name": "ipython",
    "version": 3
   },
   "file_extension": ".py",
   "mimetype": "text/x-python",
   "name": "python",
   "nbconvert_exporter": "python",
   "pygments_lexer": "ipython3",
   "version": "3.7.4"
  }
 },
 "nbformat": 4,
 "nbformat_minor": 2
}
