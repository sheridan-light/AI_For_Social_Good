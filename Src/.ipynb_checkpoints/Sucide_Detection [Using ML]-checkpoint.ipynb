{
 "cells": [
  {
   "cell_type": "code",
   "execution_count": 1,
   "metadata": {},
   "outputs": [],
   "source": [
    "import pandas as pd \n",
    "import numpy as np\n",
    "import matplotlib.pyplot as plt"
   ]
  },
  {
   "cell_type": "code",
   "execution_count": 2,
   "metadata": {},
   "outputs": [],
   "source": [
    "import nltk\n",
    "import re\n",
    "from nltk.corpus import stopwords\n",
    "from nltk.stem import WordNetLemmatizer"
   ]
  },
  {
   "cell_type": "code",
   "execution_count": 3,
   "metadata": {},
   "outputs": [],
   "source": [
    "from sklearn.feature_extraction.text import CountVectorizer\n",
    "from sklearn.feature_extraction.text import TfidfVectorizer"
   ]
  },
  {
   "cell_type": "code",
   "execution_count": 4,
   "metadata": {},
   "outputs": [],
   "source": [
    "from sklearn.model_selection import train_test_split\n",
    "from sklearn.model_selection import ShuffleSplit\n",
    "from sklearn.model_selection import cross_val_score"
   ]
  },
  {
   "cell_type": "code",
   "execution_count": 5,
   "metadata": {},
   "outputs": [],
   "source": [
    "from sklearn.ensemble import RandomForestClassifier\n",
    "from sklearn.naive_bayes import MultinomialNB\n",
    "from xgboost import XGBClassifier"
   ]
  },
  {
   "cell_type": "code",
   "execution_count": 6,
   "metadata": {},
   "outputs": [],
   "source": [
    "from sklearn.metrics import confusion_matrix,classification_report"
   ]
  },
  {
   "cell_type": "code",
   "execution_count": 7,
   "metadata": {},
   "outputs": [],
   "source": [
    "df=pd.read_csv('../Datasets/combined.csv')"
   ]
  },
  {
   "cell_type": "code",
   "execution_count": 8,
   "metadata": {},
   "outputs": [
    {
     "data": {
      "text/html": [
       "<div>\n",
       "<style scoped>\n",
       "    .dataframe tbody tr th:only-of-type {\n",
       "        vertical-align: middle;\n",
       "    }\n",
       "\n",
       "    .dataframe tbody tr th {\n",
       "        vertical-align: top;\n",
       "    }\n",
       "\n",
       "    .dataframe thead th {\n",
       "        text-align: right;\n",
       "    }\n",
       "</style>\n",
       "<table border=\"1\" class=\"dataframe\">\n",
       "  <thead>\n",
       "    <tr style=\"text-align: right;\">\n",
       "      <th></th>\n",
       "      <th>subreddit</th>\n",
       "      <th>selftext</th>\n",
       "      <th>title</th>\n",
       "      <th>name</th>\n",
       "      <th>is_sucide</th>\n",
       "    </tr>\n",
       "  </thead>\n",
       "  <tbody>\n",
       "    <tr>\n",
       "      <td>0</td>\n",
       "      <td>SuicideWatch</td>\n",
       "      <td>We've been seeing a worrying increase in pro-s...</td>\n",
       "      <td>New wiki on how to avoid accidentally encourag...</td>\n",
       "      <td>t3_cz6nfd</td>\n",
       "      <td>1</td>\n",
       "    </tr>\n",
       "    <tr>\n",
       "      <td>1</td>\n",
       "      <td>SuicideWatch</td>\n",
       "      <td>If you want to recognise an occasion, please d...</td>\n",
       "      <td>Reminder: Absolutely no activism of any kind i...</td>\n",
       "      <td>t3_d2370x</td>\n",
       "      <td>1</td>\n",
       "    </tr>\n",
       "    <tr>\n",
       "      <td>2</td>\n",
       "      <td>SuicideWatch</td>\n",
       "      <td>All I want is to be a normal person who can ju...</td>\n",
       "      <td>Every time I feel optimistic, every time I thi...</td>\n",
       "      <td>t3_gt6nhf</td>\n",
       "      <td>1</td>\n",
       "    </tr>\n",
       "    <tr>\n",
       "      <td>3</td>\n",
       "      <td>SuicideWatch</td>\n",
       "      <td>Original post: https://www.reddit.com/r/Suicid...</td>\n",
       "      <td>Wife cheated update</td>\n",
       "      <td>t3_gtdvnt</td>\n",
       "      <td>1</td>\n",
       "    </tr>\n",
       "    <tr>\n",
       "      <td>4</td>\n",
       "      <td>SuicideWatch</td>\n",
       "      <td>Basically the title. Every time I or some one ...</td>\n",
       "      <td>How come I can't choose suicide as an option? ...</td>\n",
       "      <td>t3_gt6tdi</td>\n",
       "      <td>1</td>\n",
       "    </tr>\n",
       "  </tbody>\n",
       "</table>\n",
       "</div>"
      ],
      "text/plain": [
       "      subreddit                                           selftext  \\\n",
       "0  SuicideWatch  We've been seeing a worrying increase in pro-s...   \n",
       "1  SuicideWatch  If you want to recognise an occasion, please d...   \n",
       "2  SuicideWatch  All I want is to be a normal person who can ju...   \n",
       "3  SuicideWatch  Original post: https://www.reddit.com/r/Suicid...   \n",
       "4  SuicideWatch  Basically the title. Every time I or some one ...   \n",
       "\n",
       "                                               title       name  is_sucide  \n",
       "0  New wiki on how to avoid accidentally encourag...  t3_cz6nfd          1  \n",
       "1  Reminder: Absolutely no activism of any kind i...  t3_d2370x          1  \n",
       "2  Every time I feel optimistic, every time I thi...  t3_gt6nhf          1  \n",
       "3                                Wife cheated update  t3_gtdvnt          1  \n",
       "4  How come I can't choose suicide as an option? ...  t3_gt6tdi          1  "
      ]
     },
     "execution_count": 8,
     "metadata": {},
     "output_type": "execute_result"
    }
   ],
   "source": [
    "df.head()"
   ]
  },
  {
   "cell_type": "code",
   "execution_count": 9,
   "metadata": {},
   "outputs": [
    {
     "name": "stdout",
     "output_type": "stream",
     "text": [
      "<class 'pandas.core.frame.DataFrame'>\n",
      "RangeIndex: 1932 entries, 0 to 1931\n",
      "Data columns (total 5 columns):\n",
      "subreddit    1932 non-null object\n",
      "selftext     1883 non-null object\n",
      "title        1932 non-null object\n",
      "name         1932 non-null object\n",
      "is_sucide    1932 non-null int64\n",
      "dtypes: int64(1), object(4)\n",
      "memory usage: 75.6+ KB\n"
     ]
    }
   ],
   "source": [
    "df.info()"
   ]
  },
  {
   "cell_type": "code",
   "execution_count": 10,
   "metadata": {},
   "outputs": [
    {
     "data": {
      "text/plain": [
       "subreddit     0\n",
       "selftext     49\n",
       "title         0\n",
       "name          0\n",
       "is_sucide     0\n",
       "dtype: int64"
      ]
     },
     "execution_count": 10,
     "metadata": {},
     "output_type": "execute_result"
    }
   ],
   "source": [
    "df.isna().sum()"
   ]
  },
  {
   "cell_type": "code",
   "execution_count": 11,
   "metadata": {},
   "outputs": [
    {
     "data": {
      "text/plain": [
       "(1932, 5)"
      ]
     },
     "execution_count": 11,
     "metadata": {},
     "output_type": "execute_result"
    }
   ],
   "source": [
    "df.shape"
   ]
  },
  {
   "cell_type": "markdown",
   "metadata": {},
   "source": [
    "## Cleaning Text"
   ]
  },
  {
   "cell_type": "code",
   "execution_count": 12,
   "metadata": {},
   "outputs": [],
   "source": [
    "df['selftext'].fillna('no text',inplace=True)"
   ]
  },
  {
   "cell_type": "code",
   "execution_count": 13,
   "metadata": {},
   "outputs": [],
   "source": [
    "wordnet=WordNetLemmatizer()"
   ]
  },
  {
   "cell_type": "code",
   "execution_count": 14,
   "metadata": {},
   "outputs": [],
   "source": [
    "def clean_text(a):\n",
    "    x=re.sub('[^a-zA-Z]',' ',a)\n",
    "    x=x.lower()\n",
    "    text=nltk.word_tokenize(x)\n",
    "    text=[wordnet.lemmatize(word) for word in text if word not in stopwords.words('english')]\n",
    "    text=' '.join(text)\n",
    "    return text"
   ]
  },
  {
   "cell_type": "code",
   "execution_count": 15,
   "metadata": {},
   "outputs": [],
   "source": [
    "df['selftext']=df['selftext'].apply(clean_text)"
   ]
  },
  {
   "cell_type": "code",
   "execution_count": 16,
   "metadata": {},
   "outputs": [
    {
     "data": {
      "text/html": [
       "<div>\n",
       "<style scoped>\n",
       "    .dataframe tbody tr th:only-of-type {\n",
       "        vertical-align: middle;\n",
       "    }\n",
       "\n",
       "    .dataframe tbody tr th {\n",
       "        vertical-align: top;\n",
       "    }\n",
       "\n",
       "    .dataframe thead th {\n",
       "        text-align: right;\n",
       "    }\n",
       "</style>\n",
       "<table border=\"1\" class=\"dataframe\">\n",
       "  <thead>\n",
       "    <tr style=\"text-align: right;\">\n",
       "      <th></th>\n",
       "      <th>subreddit</th>\n",
       "      <th>selftext</th>\n",
       "      <th>title</th>\n",
       "      <th>name</th>\n",
       "      <th>is_sucide</th>\n",
       "    </tr>\n",
       "  </thead>\n",
       "  <tbody>\n",
       "    <tr>\n",
       "      <td>0</td>\n",
       "      <td>SuicideWatch</td>\n",
       "      <td>seeing worrying increase pro suicide content s...</td>\n",
       "      <td>New wiki on how to avoid accidentally encourag...</td>\n",
       "      <td>t3_cz6nfd</td>\n",
       "      <td>1</td>\n",
       "    </tr>\n",
       "    <tr>\n",
       "      <td>1</td>\n",
       "      <td>SuicideWatch</td>\n",
       "      <td>want recognise occasion please offering extra ...</td>\n",
       "      <td>Reminder: Absolutely no activism of any kind i...</td>\n",
       "      <td>t3_d2370x</td>\n",
       "      <td>1</td>\n",
       "    </tr>\n",
       "    <tr>\n",
       "      <td>2</td>\n",
       "      <td>SuicideWatch</td>\n",
       "      <td>want normal person thing need instead immense ...</td>\n",
       "      <td>Every time I feel optimistic, every time I thi...</td>\n",
       "      <td>t3_gt6nhf</td>\n",
       "      <td>1</td>\n",
       "    </tr>\n",
       "    <tr>\n",
       "      <td>3</td>\n",
       "      <td>SuicideWatch</td>\n",
       "      <td>original post http www reddit com r suicidewat...</td>\n",
       "      <td>Wife cheated update</td>\n",
       "      <td>t3_gtdvnt</td>\n",
       "      <td>1</td>\n",
       "    </tr>\n",
       "    <tr>\n",
       "      <td>4</td>\n",
       "      <td>SuicideWatch</td>\n",
       "      <td>basically title every time one know talk suici...</td>\n",
       "      <td>How come I can't choose suicide as an option? ...</td>\n",
       "      <td>t3_gt6tdi</td>\n",
       "      <td>1</td>\n",
       "    </tr>\n",
       "  </tbody>\n",
       "</table>\n",
       "</div>"
      ],
      "text/plain": [
       "      subreddit                                           selftext  \\\n",
       "0  SuicideWatch  seeing worrying increase pro suicide content s...   \n",
       "1  SuicideWatch  want recognise occasion please offering extra ...   \n",
       "2  SuicideWatch  want normal person thing need instead immense ...   \n",
       "3  SuicideWatch  original post http www reddit com r suicidewat...   \n",
       "4  SuicideWatch  basically title every time one know talk suici...   \n",
       "\n",
       "                                               title       name  is_sucide  \n",
       "0  New wiki on how to avoid accidentally encourag...  t3_cz6nfd          1  \n",
       "1  Reminder: Absolutely no activism of any kind i...  t3_d2370x          1  \n",
       "2  Every time I feel optimistic, every time I thi...  t3_gt6nhf          1  \n",
       "3                                Wife cheated update  t3_gtdvnt          1  \n",
       "4  How come I can't choose suicide as an option? ...  t3_gt6tdi          1  "
      ]
     },
     "execution_count": 16,
     "metadata": {},
     "output_type": "execute_result"
    }
   ],
   "source": [
    "df.head()"
   ]
  },
  {
   "cell_type": "code",
   "execution_count": 17,
   "metadata": {},
   "outputs": [
    {
     "data": {
      "text/plain": [
       "'felt like one heavy day weight ignored couldnt distract way chest felt heavy limb help looked looking way hide end day people finally end fairly crowded place could see edge felt like jumping saw swear ignored though carefully observed place best part somebody offered sleep medicine spit first cup drank suddenly went near held fake doesnt want caught place anything dont want settle lie im awake limb hurt carried dream feel heaviness enveloping hold people id rather holding accidentally gave wound recently knife cooking ive wanting purpose help hope dream better tomorrow'"
      ]
     },
     "execution_count": 17,
     "metadata": {},
     "output_type": "execute_result"
    }
   ],
   "source": [
    "df['selftext'][25]"
   ]
  },
  {
   "cell_type": "markdown",
   "metadata": {},
   "source": [
    "## Embedding With Bag Of Words and TFIDF "
   ]
  },
  {
   "cell_type": "code",
   "execution_count": 18,
   "metadata": {},
   "outputs": [],
   "source": [
    "vect1=CountVectorizer(ngram_range=(1,3))"
   ]
  },
  {
   "cell_type": "code",
   "execution_count": 19,
   "metadata": {},
   "outputs": [],
   "source": [
    "vect2=TfidfVectorizer(ngram_range=(1,3))"
   ]
  },
  {
   "cell_type": "code",
   "execution_count": 20,
   "metadata": {},
   "outputs": [],
   "source": [
    "mat1=vect1.fit_transform(df['selftext'])"
   ]
  },
  {
   "cell_type": "code",
   "execution_count": 21,
   "metadata": {},
   "outputs": [],
   "source": [
    "mat2=vect2.fit_transform(df['selftext'])"
   ]
  },
  {
   "cell_type": "markdown",
   "metadata": {},
   "source": [
    "## Checking Accuracy with Bag of Words"
   ]
  },
  {
   "cell_type": "code",
   "execution_count": 22,
   "metadata": {},
   "outputs": [],
   "source": [
    "x_train,x_test,y_train,y_test=train_test_split(mat1,df['is_sucide'],random_state=42,test_size=0.2)"
   ]
  },
  {
   "cell_type": "code",
   "execution_count": 23,
   "metadata": {},
   "outputs": [],
   "source": [
    "cv=ShuffleSplit(n_splits=5,test_size=0.2,random_state=42)"
   ]
  },
  {
   "cell_type": "code",
   "execution_count": 24,
   "metadata": {},
   "outputs": [
    {
     "data": {
      "text/plain": [
       "array([0.62135922, 0.65695793, 0.62135922, 0.60194175, 0.63106796])"
      ]
     },
     "execution_count": 24,
     "metadata": {},
     "output_type": "execute_result"
    }
   ],
   "source": [
    "cross_val_score(RandomForestClassifier(),x_train,y_train,cv=cv,scoring='accuracy')"
   ]
  },
  {
   "cell_type": "code",
   "execution_count": 25,
   "metadata": {},
   "outputs": [
    {
     "data": {
      "text/plain": [
       "array([0.69902913, 0.70226537, 0.65048544, 0.66666667, 0.64401294])"
      ]
     },
     "execution_count": 25,
     "metadata": {},
     "output_type": "execute_result"
    }
   ],
   "source": [
    "cross_val_score(MultinomialNB(),x_train,y_train,cv=cv,scoring='accuracy')"
   ]
  },
  {
   "cell_type": "code",
   "execution_count": 26,
   "metadata": {},
   "outputs": [
    {
     "data": {
      "text/plain": [
       "array([0.64401294, 0.67961165, 0.62459547, 0.64401294, 0.66990291])"
      ]
     },
     "execution_count": 26,
     "metadata": {},
     "output_type": "execute_result"
    }
   ],
   "source": [
    "cross_val_score(XGBClassifier(),x_train,y_train,cv=cv,scoring='accuracy')"
   ]
  },
  {
   "cell_type": "markdown",
   "metadata": {},
   "source": [
    "## Checking Accuracy With TFIDF"
   ]
  },
  {
   "cell_type": "code",
   "execution_count": 27,
   "metadata": {},
   "outputs": [],
   "source": [
    "x_train1,x_test1,y_train1,y_test1=train_test_split(mat2,df['is_sucide'],random_state=42,test_size=0.2)"
   ]
  },
  {
   "cell_type": "code",
   "execution_count": 28,
   "metadata": {},
   "outputs": [
    {
     "data": {
      "text/plain": [
       "array([0.62783172, 0.66019417, 0.60841424, 0.60517799, 0.58899676])"
      ]
     },
     "execution_count": 28,
     "metadata": {},
     "output_type": "execute_result"
    }
   ],
   "source": [
    "cross_val_score(RandomForestClassifier(),x_train1,y_train1,cv=cv,scoring='accuracy')"
   ]
  },
  {
   "cell_type": "code",
   "execution_count": 29,
   "metadata": {},
   "outputs": [
    {
     "data": {
      "text/plain": [
       "array([0.71197411, 0.70550162, 0.63106796, 0.64724919, 0.58252427])"
      ]
     },
     "execution_count": 29,
     "metadata": {},
     "output_type": "execute_result"
    }
   ],
   "source": [
    "cross_val_score(MultinomialNB(),x_train1,y_train1,cv=cv,scoring='accuracy')"
   ]
  },
  {
   "cell_type": "code",
   "execution_count": 30,
   "metadata": {},
   "outputs": [
    {
     "data": {
      "text/plain": [
       "array([0.66019417, 0.69255663, 0.5987055 , 0.66343042, 0.65372168])"
      ]
     },
     "execution_count": 30,
     "metadata": {},
     "output_type": "execute_result"
    }
   ],
   "source": [
    "cross_val_score(XGBClassifier(),x_train1,y_train1,cv=cv,scoring='accuracy')"
   ]
  },
  {
   "cell_type": "markdown",
   "metadata": {},
   "source": [
    "### MultinomialNB with Count Vectorizer Gives a good Accuracy "
   ]
  },
  {
   "cell_type": "code",
   "execution_count": 33,
   "metadata": {},
   "outputs": [],
   "source": [
    "model=MultinomialNB()"
   ]
  },
  {
   "cell_type": "code",
   "execution_count": 34,
   "metadata": {},
   "outputs": [
    {
     "data": {
      "text/plain": [
       "MultinomialNB(alpha=1.0, class_prior=None, fit_prior=True)"
      ]
     },
     "execution_count": 34,
     "metadata": {},
     "output_type": "execute_result"
    }
   ],
   "source": [
    "model.fit(x_train,y_train)"
   ]
  },
  {
   "cell_type": "code",
   "execution_count": 35,
   "metadata": {},
   "outputs": [],
   "source": [
    "prediction=model.predict(x_test)"
   ]
  },
  {
   "cell_type": "code",
   "execution_count": 36,
   "metadata": {},
   "outputs": [
    {
     "data": {
      "text/plain": [
       "array([[125,  63],\n",
       "       [ 46, 153]])"
      ]
     },
     "execution_count": 36,
     "metadata": {},
     "output_type": "execute_result"
    }
   ],
   "source": [
    "confusion_matrix(y_test,prediction)"
   ]
  },
  {
   "cell_type": "code",
   "execution_count": 37,
   "metadata": {},
   "outputs": [
    {
     "name": "stdout",
     "output_type": "stream",
     "text": [
      "              precision    recall  f1-score   support\n",
      "\n",
      "           0       0.73      0.66      0.70       188\n",
      "           1       0.71      0.77      0.74       199\n",
      "\n",
      "    accuracy                           0.72       387\n",
      "   macro avg       0.72      0.72      0.72       387\n",
      "weighted avg       0.72      0.72      0.72       387\n",
      "\n"
     ]
    }
   ],
   "source": [
    "print(classification_report(y_test,prediction))"
   ]
  },
  {
   "cell_type": "markdown",
   "metadata": {},
   "source": [
    "### Predicting With New Values"
   ]
  },
  {
   "cell_type": "code",
   "execution_count": 38,
   "metadata": {},
   "outputs": [],
   "source": [
    "#Depression Thought\n",
    "text1='''I don't know, it's like this unexplainable feeling. \n",
    "Like this physical feeling in my heart that pulsates throughout my whole being. \n",
    "Whenever I hear happy music or watch a cheesy movie where everybody's happy I just can't help but feel sad. \n",
    "Same thing if I see something from when I was a kid or something similar. \n",
    "I'm thinking the root of it may be I've felt like I've missed out on life or didn't make the most of it? \n",
    "I don't know. I'm just hoping it's not just me.'''"
   ]
  },
  {
   "cell_type": "code",
   "execution_count": 44,
   "metadata": {},
   "outputs": [],
   "source": [
    "x=vect1.transform([text1])"
   ]
  },
  {
   "cell_type": "code",
   "execution_count": 45,
   "metadata": {},
   "outputs": [
    {
     "name": "stdout",
     "output_type": "stream",
     "text": [
      "Depression\n"
     ]
    }
   ],
   "source": [
    "pr=model.predict(x)\n",
    "if pr[0]==0:\n",
    "    print(\"Depression\")\n",
    "else:\n",
    "    print(\"Sucide\")"
   ]
  },
  {
   "cell_type": "code",
   "execution_count": 46,
   "metadata": {},
   "outputs": [],
   "source": [
    "#Sucide Thought\n",
    "text2=''' It's been a year. An entire fucking year that I gave myself another chance. \n",
    "Or more like gave him another chance. Last year in October, I came close to killing myself. \n",
    "I had thought that nothing would ever get better and that there was absolutely no point living in a life that was FOR SURE never going to get better.\n",
    "Yet, I gave God another chance. That morning, a pack of coyotes howled during the sunset as the last song in my playlist of songs I want played in my funeral had ended.\n",
    "After hearing the coyotes, I thought it was a sign. A sign that God would make it better. \n",
    "'''"
   ]
  },
  {
   "cell_type": "code",
   "execution_count": 47,
   "metadata": {},
   "outputs": [],
   "source": [
    "x=vect1.transform([text2])"
   ]
  },
  {
   "cell_type": "code",
   "execution_count": 48,
   "metadata": {},
   "outputs": [
    {
     "name": "stdout",
     "output_type": "stream",
     "text": [
      "Sucide\n"
     ]
    }
   ],
   "source": [
    "pr=model.predict(x)\n",
    "if pr[0]==0:\n",
    "    print(\"Depression\")\n",
    "else:\n",
    "    print(\"Sucide\")"
   ]
  },
  {
   "cell_type": "markdown",
   "metadata": {},
   "source": [
    "## Saving The Model"
   ]
  },
  {
   "cell_type": "code",
   "execution_count": 49,
   "metadata": {},
   "outputs": [],
   "source": [
    "import pickle"
   ]
  },
  {
   "cell_type": "code",
   "execution_count": 50,
   "metadata": {},
   "outputs": [],
   "source": [
    "with open('count_vectorizer.pkl','wb') as f:\n",
    "    pickle.dump(vect1,f)"
   ]
  },
  {
   "cell_type": "code",
   "execution_count": 51,
   "metadata": {},
   "outputs": [],
   "source": [
    "with open('multinomialNB.pkl','wb') as f:\n",
    "    pickle.dump(model,f)"
   ]
  },
  {
   "cell_type": "markdown",
   "metadata": {},
   "source": [
    "### Conclusion:\n",
    "* Model achived an highest accuracy of 72% \n",
    "* It Predicted the output correctly, but model accuracy needs to be improved.\n",
    "* Accuracy can be improved by adding more text and cleaning the csv file properly."
   ]
  }
 ],
 "metadata": {
  "kernelspec": {
   "display_name": "Python 3",
   "language": "python",
   "name": "python3"
  },
  "language_info": {
   "codemirror_mode": {
    "name": "ipython",
    "version": 3
   },
   "file_extension": ".py",
   "mimetype": "text/x-python",
   "name": "python",
   "nbconvert_exporter": "python",
   "pygments_lexer": "ipython3",
   "version": "3.7.4"
  }
 },
 "nbformat": 4,
 "nbformat_minor": 2
}
