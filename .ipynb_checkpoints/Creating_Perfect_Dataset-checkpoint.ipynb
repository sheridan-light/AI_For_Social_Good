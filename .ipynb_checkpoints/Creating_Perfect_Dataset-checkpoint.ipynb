{
 "cells": [
  {
   "cell_type": "markdown",
   "metadata": {},
   "source": [
    "# Preparing a proper dataset"
   ]
  },
  {
   "cell_type": "code",
   "execution_count": 1,
   "metadata": {},
   "outputs": [],
   "source": [
    "import pandas as pd "
   ]
  },
  {
   "cell_type": "markdown",
   "metadata": {},
   "source": [
    "### Cleaning the Parsed Dataset "
   ]
  },
  {
   "cell_type": "code",
   "execution_count": 2,
   "metadata": {},
   "outputs": [],
   "source": [
    "depression_df=pd.read_csv('./Datasets/raw_depression.csv')"
   ]
  },
  {
   "cell_type": "code",
   "execution_count": 3,
   "metadata": {},
   "outputs": [],
   "source": [
    "sucide_df=pd.read_csv('./Datasets/raw_sucide.csv')"
   ]
  },
  {
   "cell_type": "code",
   "execution_count": 4,
   "metadata": {},
   "outputs": [
    {
     "data": {
      "text/html": [
       "<div>\n",
       "<style scoped>\n",
       "    .dataframe tbody tr th:only-of-type {\n",
       "        vertical-align: middle;\n",
       "    }\n",
       "\n",
       "    .dataframe tbody tr th {\n",
       "        vertical-align: top;\n",
       "    }\n",
       "\n",
       "    .dataframe thead th {\n",
       "        text-align: right;\n",
       "    }\n",
       "</style>\n",
       "<table border=\"1\" class=\"dataframe\">\n",
       "  <thead>\n",
       "    <tr style=\"text-align: right;\">\n",
       "      <th></th>\n",
       "      <th>approved_at_utc</th>\n",
       "      <th>subreddit</th>\n",
       "      <th>selftext</th>\n",
       "      <th>author_fullname</th>\n",
       "      <th>saved</th>\n",
       "      <th>mod_reason_title</th>\n",
       "      <th>gilded</th>\n",
       "      <th>clicked</th>\n",
       "      <th>title</th>\n",
       "      <th>link_flair_richtext</th>\n",
       "      <th>...</th>\n",
       "      <th>parent_whitelist_status</th>\n",
       "      <th>stickied</th>\n",
       "      <th>url</th>\n",
       "      <th>subreddit_subscribers</th>\n",
       "      <th>created_utc</th>\n",
       "      <th>num_crossposts</th>\n",
       "      <th>media</th>\n",
       "      <th>is_video</th>\n",
       "      <th>author_cakeday</th>\n",
       "      <th>link_flair_template_id</th>\n",
       "    </tr>\n",
       "  </thead>\n",
       "  <tbody>\n",
       "    <tr>\n",
       "      <td>0</td>\n",
       "      <td>NaN</td>\n",
       "      <td>depression</td>\n",
       "      <td>We understand that most people who reply immed...</td>\n",
       "      <td>t2_1t70</td>\n",
       "      <td>False</td>\n",
       "      <td>NaN</td>\n",
       "      <td>0</td>\n",
       "      <td>False</td>\n",
       "      <td>Our most-broken and least-understood rules is ...</td>\n",
       "      <td>[]</td>\n",
       "      <td>...</td>\n",
       "      <td>no_ads</td>\n",
       "      <td>True</td>\n",
       "      <td>https://www.reddit.com/r/depression/comments/d...</td>\n",
       "      <td>637595</td>\n",
       "      <td>1.572361e+09</td>\n",
       "      <td>0</td>\n",
       "      <td>NaN</td>\n",
       "      <td>False</td>\n",
       "      <td>NaN</td>\n",
       "      <td>NaN</td>\n",
       "    </tr>\n",
       "    <tr>\n",
       "      <td>1</td>\n",
       "      <td>NaN</td>\n",
       "      <td>depression</td>\n",
       "      <td>Welcome to /r/depression's check-in post - a p...</td>\n",
       "      <td>t2_64qjj</td>\n",
       "      <td>False</td>\n",
       "      <td>NaN</td>\n",
       "      <td>0</td>\n",
       "      <td>False</td>\n",
       "      <td>Regular Check-In Post</td>\n",
       "      <td>[]</td>\n",
       "      <td>...</td>\n",
       "      <td>no_ads</td>\n",
       "      <td>True</td>\n",
       "      <td>https://www.reddit.com/r/depression/comments/e...</td>\n",
       "      <td>637595</td>\n",
       "      <td>1.580649e+09</td>\n",
       "      <td>0</td>\n",
       "      <td>NaN</td>\n",
       "      <td>False</td>\n",
       "      <td>NaN</td>\n",
       "      <td>NaN</td>\n",
       "    </tr>\n",
       "    <tr>\n",
       "      <td>2</td>\n",
       "      <td>NaN</td>\n",
       "      <td>depression</td>\n",
       "      <td>Does anybody feel like they have to kill thems...</td>\n",
       "      <td>t2_5vdk0y2k</td>\n",
       "      <td>False</td>\n",
       "      <td>NaN</td>\n",
       "      <td>0</td>\n",
       "      <td>False</td>\n",
       "      <td>Anybody feel like this ?</td>\n",
       "      <td>[]</td>\n",
       "      <td>...</td>\n",
       "      <td>no_ads</td>\n",
       "      <td>False</td>\n",
       "      <td>https://www.reddit.com/r/depression/comments/g...</td>\n",
       "      <td>637595</td>\n",
       "      <td>1.590184e+09</td>\n",
       "      <td>0</td>\n",
       "      <td>NaN</td>\n",
       "      <td>False</td>\n",
       "      <td>NaN</td>\n",
       "      <td>NaN</td>\n",
       "    </tr>\n",
       "    <tr>\n",
       "      <td>3</td>\n",
       "      <td>NaN</td>\n",
       "      <td>depression</td>\n",
       "      <td>Compared to other people, I SHOULD NOT be depr...</td>\n",
       "      <td>t2_3pdsi85b</td>\n",
       "      <td>False</td>\n",
       "      <td>NaN</td>\n",
       "      <td>0</td>\n",
       "      <td>False</td>\n",
       "      <td>I have no reason to be depressed.</td>\n",
       "      <td>[]</td>\n",
       "      <td>...</td>\n",
       "      <td>no_ads</td>\n",
       "      <td>False</td>\n",
       "      <td>https://www.reddit.com/r/depression/comments/g...</td>\n",
       "      <td>637595</td>\n",
       "      <td>1.590159e+09</td>\n",
       "      <td>2</td>\n",
       "      <td>NaN</td>\n",
       "      <td>False</td>\n",
       "      <td>NaN</td>\n",
       "      <td>NaN</td>\n",
       "    </tr>\n",
       "    <tr>\n",
       "      <td>4</td>\n",
       "      <td>NaN</td>\n",
       "      <td>depression</td>\n",
       "      <td>I was watching this old video of a singer who ...</td>\n",
       "      <td>t2_5k45uz9u</td>\n",
       "      <td>False</td>\n",
       "      <td>NaN</td>\n",
       "      <td>0</td>\n",
       "      <td>False</td>\n",
       "      <td>Why do religious people feel the need to do th...</td>\n",
       "      <td>[]</td>\n",
       "      <td>...</td>\n",
       "      <td>no_ads</td>\n",
       "      <td>False</td>\n",
       "      <td>https://www.reddit.com/r/depression/comments/g...</td>\n",
       "      <td>637595</td>\n",
       "      <td>1.590172e+09</td>\n",
       "      <td>0</td>\n",
       "      <td>NaN</td>\n",
       "      <td>False</td>\n",
       "      <td>NaN</td>\n",
       "      <td>NaN</td>\n",
       "    </tr>\n",
       "  </tbody>\n",
       "</table>\n",
       "<p>5 rows × 103 columns</p>\n",
       "</div>"
      ],
      "text/plain": [
       "   approved_at_utc   subreddit  \\\n",
       "0              NaN  depression   \n",
       "1              NaN  depression   \n",
       "2              NaN  depression   \n",
       "3              NaN  depression   \n",
       "4              NaN  depression   \n",
       "\n",
       "                                            selftext author_fullname  saved  \\\n",
       "0  We understand that most people who reply immed...         t2_1t70  False   \n",
       "1  Welcome to /r/depression's check-in post - a p...        t2_64qjj  False   \n",
       "2  Does anybody feel like they have to kill thems...     t2_5vdk0y2k  False   \n",
       "3  Compared to other people, I SHOULD NOT be depr...     t2_3pdsi85b  False   \n",
       "4  I was watching this old video of a singer who ...     t2_5k45uz9u  False   \n",
       "\n",
       "   mod_reason_title  gilded  clicked  \\\n",
       "0               NaN       0    False   \n",
       "1               NaN       0    False   \n",
       "2               NaN       0    False   \n",
       "3               NaN       0    False   \n",
       "4               NaN       0    False   \n",
       "\n",
       "                                               title link_flair_richtext  ...  \\\n",
       "0  Our most-broken and least-understood rules is ...                  []  ...   \n",
       "1                              Regular Check-In Post                  []  ...   \n",
       "2                           Anybody feel like this ?                  []  ...   \n",
       "3                  I have no reason to be depressed.                  []  ...   \n",
       "4  Why do religious people feel the need to do th...                  []  ...   \n",
       "\n",
       "  parent_whitelist_status  stickied  \\\n",
       "0                  no_ads      True   \n",
       "1                  no_ads      True   \n",
       "2                  no_ads     False   \n",
       "3                  no_ads     False   \n",
       "4                  no_ads     False   \n",
       "\n",
       "                                                 url  subreddit_subscribers  \\\n",
       "0  https://www.reddit.com/r/depression/comments/d...                 637595   \n",
       "1  https://www.reddit.com/r/depression/comments/e...                 637595   \n",
       "2  https://www.reddit.com/r/depression/comments/g...                 637595   \n",
       "3  https://www.reddit.com/r/depression/comments/g...                 637595   \n",
       "4  https://www.reddit.com/r/depression/comments/g...                 637595   \n",
       "\n",
       "    created_utc  num_crossposts media  is_video author_cakeday  \\\n",
       "0  1.572361e+09               0   NaN     False            NaN   \n",
       "1  1.580649e+09               0   NaN     False            NaN   \n",
       "2  1.590184e+09               0   NaN     False            NaN   \n",
       "3  1.590159e+09               2   NaN     False            NaN   \n",
       "4  1.590172e+09               0   NaN     False            NaN   \n",
       "\n",
       "   link_flair_template_id  \n",
       "0                     NaN  \n",
       "1                     NaN  \n",
       "2                     NaN  \n",
       "3                     NaN  \n",
       "4                     NaN  \n",
       "\n",
       "[5 rows x 103 columns]"
      ]
     },
     "execution_count": 4,
     "metadata": {},
     "output_type": "execute_result"
    }
   ],
   "source": [
    "depression_df.head()"
   ]
  },
  {
   "cell_type": "code",
   "execution_count": 5,
   "metadata": {},
   "outputs": [],
   "source": [
    "cleaned_sucide_df=sucide_df[['subreddit','selftext','title','name']]"
   ]
  },
  {
   "cell_type": "code",
   "execution_count": 6,
   "metadata": {},
   "outputs": [],
   "source": [
    "cleaned_depression_df=depression_df[['subreddit','selftext','title','name']]"
   ]
  },
  {
   "cell_type": "markdown",
   "metadata": {},
   "source": [
    "### Settting Target Variables"
   ]
  },
  {
   "cell_type": "code",
   "execution_count": 7,
   "metadata": {},
   "outputs": [
    {
     "name": "stderr",
     "output_type": "stream",
     "text": [
      "/home/s0umyajit/anaconda3/lib/python3.7/site-packages/ipykernel_launcher.py:1: SettingWithCopyWarning: \n",
      "A value is trying to be set on a copy of a slice from a DataFrame.\n",
      "Try using .loc[row_indexer,col_indexer] = value instead\n",
      "\n",
      "See the caveats in the documentation: http://pandas.pydata.org/pandas-docs/stable/user_guide/indexing.html#returning-a-view-versus-a-copy\n",
      "  \"\"\"Entry point for launching an IPython kernel.\n",
      "/home/s0umyajit/anaconda3/lib/python3.7/site-packages/ipykernel_launcher.py:2: SettingWithCopyWarning: \n",
      "A value is trying to be set on a copy of a slice from a DataFrame.\n",
      "Try using .loc[row_indexer,col_indexer] = value instead\n",
      "\n",
      "See the caveats in the documentation: http://pandas.pydata.org/pandas-docs/stable/user_guide/indexing.html#returning-a-view-versus-a-copy\n",
      "  \n"
     ]
    }
   ],
   "source": [
    "cleaned_sucide_df['is_sucide']=1\n",
    "cleaned_depression_df['is_sucide']=0"
   ]
  },
  {
   "cell_type": "code",
   "execution_count": 8,
   "metadata": {},
   "outputs": [
    {
     "data": {
      "text/html": [
       "<div>\n",
       "<style scoped>\n",
       "    .dataframe tbody tr th:only-of-type {\n",
       "        vertical-align: middle;\n",
       "    }\n",
       "\n",
       "    .dataframe tbody tr th {\n",
       "        vertical-align: top;\n",
       "    }\n",
       "\n",
       "    .dataframe thead th {\n",
       "        text-align: right;\n",
       "    }\n",
       "</style>\n",
       "<table border=\"1\" class=\"dataframe\">\n",
       "  <thead>\n",
       "    <tr style=\"text-align: right;\">\n",
       "      <th></th>\n",
       "      <th>subreddit</th>\n",
       "      <th>selftext</th>\n",
       "      <th>title</th>\n",
       "      <th>name</th>\n",
       "      <th>is_sucide</th>\n",
       "    </tr>\n",
       "  </thead>\n",
       "  <tbody>\n",
       "    <tr>\n",
       "      <td>0</td>\n",
       "      <td>SuicideWatch</td>\n",
       "      <td>We've been seeing a worrying increase in pro-s...</td>\n",
       "      <td>New wiki on how to avoid accidentally encourag...</td>\n",
       "      <td>t3_cz6nfd</td>\n",
       "      <td>1</td>\n",
       "    </tr>\n",
       "    <tr>\n",
       "      <td>1</td>\n",
       "      <td>SuicideWatch</td>\n",
       "      <td>If you want to recognise an occasion, please d...</td>\n",
       "      <td>Reminder: Absolutely no activism of any kind i...</td>\n",
       "      <td>t3_d2370x</td>\n",
       "      <td>1</td>\n",
       "    </tr>\n",
       "    <tr>\n",
       "      <td>2</td>\n",
       "      <td>SuicideWatch</td>\n",
       "      <td>NaN</td>\n",
       "      <td>sleep just isn't sleep anymore, it's an escape.</td>\n",
       "      <td>t3_gosr7c</td>\n",
       "      <td>1</td>\n",
       "    </tr>\n",
       "    <tr>\n",
       "      <td>3</td>\n",
       "      <td>SuicideWatch</td>\n",
       "      <td>I just want to go to sleep, and never wake up</td>\n",
       "      <td>Fuck me</td>\n",
       "      <td>t3_gomrql</td>\n",
       "      <td>1</td>\n",
       "    </tr>\n",
       "    <tr>\n",
       "      <td>4</td>\n",
       "      <td>SuicideWatch</td>\n",
       "      <td>Seriously going through some existential stuff...</td>\n",
       "      <td>What is the point of living in this corrupt ce...</td>\n",
       "      <td>t3_gow0e9</td>\n",
       "      <td>1</td>\n",
       "    </tr>\n",
       "  </tbody>\n",
       "</table>\n",
       "</div>"
      ],
      "text/plain": [
       "      subreddit                                           selftext  \\\n",
       "0  SuicideWatch  We've been seeing a worrying increase in pro-s...   \n",
       "1  SuicideWatch  If you want to recognise an occasion, please d...   \n",
       "2  SuicideWatch                                                NaN   \n",
       "3  SuicideWatch      I just want to go to sleep, and never wake up   \n",
       "4  SuicideWatch  Seriously going through some existential stuff...   \n",
       "\n",
       "                                               title       name  is_sucide  \n",
       "0  New wiki on how to avoid accidentally encourag...  t3_cz6nfd          1  \n",
       "1  Reminder: Absolutely no activism of any kind i...  t3_d2370x          1  \n",
       "2    sleep just isn't sleep anymore, it's an escape.  t3_gosr7c          1  \n",
       "3                                            Fuck me  t3_gomrql          1  \n",
       "4  What is the point of living in this corrupt ce...  t3_gow0e9          1  "
      ]
     },
     "execution_count": 8,
     "metadata": {},
     "output_type": "execute_result"
    }
   ],
   "source": [
    "cleaned_sucide_df.head()"
   ]
  },
  {
   "cell_type": "code",
   "execution_count": 9,
   "metadata": {},
   "outputs": [
    {
     "data": {
      "text/html": [
       "<div>\n",
       "<style scoped>\n",
       "    .dataframe tbody tr th:only-of-type {\n",
       "        vertical-align: middle;\n",
       "    }\n",
       "\n",
       "    .dataframe tbody tr th {\n",
       "        vertical-align: top;\n",
       "    }\n",
       "\n",
       "    .dataframe thead th {\n",
       "        text-align: right;\n",
       "    }\n",
       "</style>\n",
       "<table border=\"1\" class=\"dataframe\">\n",
       "  <thead>\n",
       "    <tr style=\"text-align: right;\">\n",
       "      <th></th>\n",
       "      <th>subreddit</th>\n",
       "      <th>selftext</th>\n",
       "      <th>title</th>\n",
       "      <th>name</th>\n",
       "      <th>is_sucide</th>\n",
       "    </tr>\n",
       "  </thead>\n",
       "  <tbody>\n",
       "    <tr>\n",
       "      <td>0</td>\n",
       "      <td>depression</td>\n",
       "      <td>We understand that most people who reply immed...</td>\n",
       "      <td>Our most-broken and least-understood rules is ...</td>\n",
       "      <td>t3_doqwow</td>\n",
       "      <td>0</td>\n",
       "    </tr>\n",
       "    <tr>\n",
       "      <td>1</td>\n",
       "      <td>depression</td>\n",
       "      <td>Welcome to /r/depression's check-in post - a p...</td>\n",
       "      <td>Regular Check-In Post</td>\n",
       "      <td>t3_exo6f1</td>\n",
       "      <td>0</td>\n",
       "    </tr>\n",
       "    <tr>\n",
       "      <td>2</td>\n",
       "      <td>depression</td>\n",
       "      <td>Does anybody feel like they have to kill thems...</td>\n",
       "      <td>Anybody feel like this ?</td>\n",
       "      <td>t3_gosn41</td>\n",
       "      <td>0</td>\n",
       "    </tr>\n",
       "    <tr>\n",
       "      <td>3</td>\n",
       "      <td>depression</td>\n",
       "      <td>Compared to other people, I SHOULD NOT be depr...</td>\n",
       "      <td>I have no reason to be depressed.</td>\n",
       "      <td>t3_gokno2</td>\n",
       "      <td>0</td>\n",
       "    </tr>\n",
       "    <tr>\n",
       "      <td>4</td>\n",
       "      <td>depression</td>\n",
       "      <td>I was watching this old video of a singer who ...</td>\n",
       "      <td>Why do religious people feel the need to do th...</td>\n",
       "      <td>t3_gooq8j</td>\n",
       "      <td>0</td>\n",
       "    </tr>\n",
       "  </tbody>\n",
       "</table>\n",
       "</div>"
      ],
      "text/plain": [
       "    subreddit                                           selftext  \\\n",
       "0  depression  We understand that most people who reply immed...   \n",
       "1  depression  Welcome to /r/depression's check-in post - a p...   \n",
       "2  depression  Does anybody feel like they have to kill thems...   \n",
       "3  depression  Compared to other people, I SHOULD NOT be depr...   \n",
       "4  depression  I was watching this old video of a singer who ...   \n",
       "\n",
       "                                               title       name  is_sucide  \n",
       "0  Our most-broken and least-understood rules is ...  t3_doqwow          0  \n",
       "1                              Regular Check-In Post  t3_exo6f1          0  \n",
       "2                           Anybody feel like this ?  t3_gosn41          0  \n",
       "3                  I have no reason to be depressed.  t3_gokno2          0  \n",
       "4  Why do religious people feel the need to do th...  t3_gooq8j          0  "
      ]
     },
     "execution_count": 9,
     "metadata": {},
     "output_type": "execute_result"
    }
   ],
   "source": [
    "cleaned_depression_df.head()"
   ]
  },
  {
   "cell_type": "code",
   "execution_count": 10,
   "metadata": {},
   "outputs": [
    {
     "data": {
      "text/plain": [
       "(1244, 5)"
      ]
     },
     "execution_count": 10,
     "metadata": {},
     "output_type": "execute_result"
    }
   ],
   "source": [
    "cleaned_sucide_df.shape"
   ]
  },
  {
   "cell_type": "code",
   "execution_count": 11,
   "metadata": {},
   "outputs": [
    {
     "data": {
      "text/plain": [
       "(1238, 5)"
      ]
     },
     "execution_count": 11,
     "metadata": {},
     "output_type": "execute_result"
    }
   ],
   "source": [
    "cleaned_depression_df.shape"
   ]
  },
  {
   "cell_type": "markdown",
   "metadata": {},
   "source": [
    "### Checking For Duplicate Values and Removing them"
   ]
  },
  {
   "cell_type": "code",
   "execution_count": 12,
   "metadata": {},
   "outputs": [
    {
     "data": {
      "text/plain": [
       "t3_gokckt    2\n",
       "t3_goxurp    2\n",
       "t3_goyyri    2\n",
       "t3_goz6k2    2\n",
       "t3_godzcr    2\n",
       "            ..\n",
       "t3_go95qn    1\n",
       "t3_gnl9rp    1\n",
       "t3_gn7pws    1\n",
       "t3_gopsec    1\n",
       "t3_gnxqxc    1\n",
       "Name: name, Length: 993, dtype: int64"
      ]
     },
     "execution_count": 12,
     "metadata": {},
     "output_type": "execute_result"
    }
   ],
   "source": [
    "cleaned_sucide_df['name'].value_counts()"
   ]
  },
  {
   "cell_type": "code",
   "execution_count": 13,
   "metadata": {},
   "outputs": [
    {
     "name": "stderr",
     "output_type": "stream",
     "text": [
      "/home/s0umyajit/anaconda3/lib/python3.7/site-packages/ipykernel_launcher.py:1: SettingWithCopyWarning: \n",
      "A value is trying to be set on a copy of a slice from a DataFrame\n",
      "\n",
      "See the caveats in the documentation: http://pandas.pydata.org/pandas-docs/stable/user_guide/indexing.html#returning-a-view-versus-a-copy\n",
      "  \"\"\"Entry point for launching an IPython kernel.\n"
     ]
    }
   ],
   "source": [
    "cleaned_sucide_df.drop_duplicates(keep='first',inplace=True,subset='name') "
   ]
  },
  {
   "cell_type": "code",
   "execution_count": 20,
   "metadata": {},
   "outputs": [
    {
     "data": {
      "text/plain": [
       "t3_gosq6z    2\n",
       "t3_gorxb5    2\n",
       "t3_goqwl5    2\n",
       "t3_goqk4b    2\n",
       "t3_gotww5    2\n",
       "            ..\n",
       "t3_gnrblg    1\n",
       "t3_gnvcjl    1\n",
       "t3_gnx17h    1\n",
       "t3_go2hxy    1\n",
       "t3_gov0u0    1\n",
       "Name: name, Length: 961, dtype: int64"
      ]
     },
     "execution_count": 20,
     "metadata": {},
     "output_type": "execute_result"
    }
   ],
   "source": [
    "cleaned_depression_df['name'].value_counts()"
   ]
  },
  {
   "cell_type": "code",
   "execution_count": 21,
   "metadata": {},
   "outputs": [
    {
     "name": "stderr",
     "output_type": "stream",
     "text": [
      "/home/s0umyajit/anaconda3/lib/python3.7/site-packages/ipykernel_launcher.py:1: SettingWithCopyWarning: \n",
      "A value is trying to be set on a copy of a slice from a DataFrame\n",
      "\n",
      "See the caveats in the documentation: http://pandas.pydata.org/pandas-docs/stable/user_guide/indexing.html#returning-a-view-versus-a-copy\n",
      "  \"\"\"Entry point for launching an IPython kernel.\n"
     ]
    }
   ],
   "source": [
    "cleaned_depression_df.drop_duplicates(keep='first',inplace=True,subset='name') "
   ]
  },
  {
   "cell_type": "code",
   "execution_count": 23,
   "metadata": {},
   "outputs": [
    {
     "data": {
      "text/plain": [
       "(961, 5)"
      ]
     },
     "execution_count": 23,
     "metadata": {},
     "output_type": "execute_result"
    }
   ],
   "source": [
    "cleaned_depression_df.shape"
   ]
  },
  {
   "cell_type": "code",
   "execution_count": 24,
   "metadata": {},
   "outputs": [
    {
     "data": {
      "text/plain": [
       "(993, 5)"
      ]
     },
     "execution_count": 24,
     "metadata": {},
     "output_type": "execute_result"
    }
   ],
   "source": [
    "cleaned_sucide_df.shape"
   ]
  },
  {
   "cell_type": "code",
   "execution_count": 25,
   "metadata": {},
   "outputs": [
    {
     "data": {
      "text/html": [
       "<div>\n",
       "<style scoped>\n",
       "    .dataframe tbody tr th:only-of-type {\n",
       "        vertical-align: middle;\n",
       "    }\n",
       "\n",
       "    .dataframe tbody tr th {\n",
       "        vertical-align: top;\n",
       "    }\n",
       "\n",
       "    .dataframe thead th {\n",
       "        text-align: right;\n",
       "    }\n",
       "</style>\n",
       "<table border=\"1\" class=\"dataframe\">\n",
       "  <thead>\n",
       "    <tr style=\"text-align: right;\">\n",
       "      <th></th>\n",
       "      <th>subreddit</th>\n",
       "      <th>selftext</th>\n",
       "      <th>title</th>\n",
       "      <th>name</th>\n",
       "      <th>is_sucide</th>\n",
       "    </tr>\n",
       "  </thead>\n",
       "  <tbody>\n",
       "    <tr>\n",
       "      <td>0</td>\n",
       "      <td>depression</td>\n",
       "      <td>We understand that most people who reply immed...</td>\n",
       "      <td>Our most-broken and least-understood rules is ...</td>\n",
       "      <td>t3_doqwow</td>\n",
       "      <td>0</td>\n",
       "    </tr>\n",
       "    <tr>\n",
       "      <td>1</td>\n",
       "      <td>depression</td>\n",
       "      <td>Welcome to /r/depression's check-in post - a p...</td>\n",
       "      <td>Regular Check-In Post</td>\n",
       "      <td>t3_exo6f1</td>\n",
       "      <td>0</td>\n",
       "    </tr>\n",
       "    <tr>\n",
       "      <td>2</td>\n",
       "      <td>depression</td>\n",
       "      <td>Does anybody feel like they have to kill thems...</td>\n",
       "      <td>Anybody feel like this ?</td>\n",
       "      <td>t3_gosn41</td>\n",
       "      <td>0</td>\n",
       "    </tr>\n",
       "    <tr>\n",
       "      <td>3</td>\n",
       "      <td>depression</td>\n",
       "      <td>Compared to other people, I SHOULD NOT be depr...</td>\n",
       "      <td>I have no reason to be depressed.</td>\n",
       "      <td>t3_gokno2</td>\n",
       "      <td>0</td>\n",
       "    </tr>\n",
       "    <tr>\n",
       "      <td>4</td>\n",
       "      <td>depression</td>\n",
       "      <td>I was watching this old video of a singer who ...</td>\n",
       "      <td>Why do religious people feel the need to do th...</td>\n",
       "      <td>t3_gooq8j</td>\n",
       "      <td>0</td>\n",
       "    </tr>\n",
       "  </tbody>\n",
       "</table>\n",
       "</div>"
      ],
      "text/plain": [
       "    subreddit                                           selftext  \\\n",
       "0  depression  We understand that most people who reply immed...   \n",
       "1  depression  Welcome to /r/depression's check-in post - a p...   \n",
       "2  depression  Does anybody feel like they have to kill thems...   \n",
       "3  depression  Compared to other people, I SHOULD NOT be depr...   \n",
       "4  depression  I was watching this old video of a singer who ...   \n",
       "\n",
       "                                               title       name  is_sucide  \n",
       "0  Our most-broken and least-understood rules is ...  t3_doqwow          0  \n",
       "1                              Regular Check-In Post  t3_exo6f1          0  \n",
       "2                           Anybody feel like this ?  t3_gosn41          0  \n",
       "3                  I have no reason to be depressed.  t3_gokno2          0  \n",
       "4  Why do religious people feel the need to do th...  t3_gooq8j          0  "
      ]
     },
     "execution_count": 25,
     "metadata": {},
     "output_type": "execute_result"
    }
   ],
   "source": [
    "cleaned_depression_df.head()"
   ]
  },
  {
   "cell_type": "code",
   "execution_count": 26,
   "metadata": {},
   "outputs": [
    {
     "data": {
      "text/html": [
       "<div>\n",
       "<style scoped>\n",
       "    .dataframe tbody tr th:only-of-type {\n",
       "        vertical-align: middle;\n",
       "    }\n",
       "\n",
       "    .dataframe tbody tr th {\n",
       "        vertical-align: top;\n",
       "    }\n",
       "\n",
       "    .dataframe thead th {\n",
       "        text-align: right;\n",
       "    }\n",
       "</style>\n",
       "<table border=\"1\" class=\"dataframe\">\n",
       "  <thead>\n",
       "    <tr style=\"text-align: right;\">\n",
       "      <th></th>\n",
       "      <th>subreddit</th>\n",
       "      <th>selftext</th>\n",
       "      <th>title</th>\n",
       "      <th>name</th>\n",
       "      <th>is_sucide</th>\n",
       "    </tr>\n",
       "  </thead>\n",
       "  <tbody>\n",
       "    <tr>\n",
       "      <td>0</td>\n",
       "      <td>SuicideWatch</td>\n",
       "      <td>We've been seeing a worrying increase in pro-s...</td>\n",
       "      <td>New wiki on how to avoid accidentally encourag...</td>\n",
       "      <td>t3_cz6nfd</td>\n",
       "      <td>1</td>\n",
       "    </tr>\n",
       "    <tr>\n",
       "      <td>1</td>\n",
       "      <td>SuicideWatch</td>\n",
       "      <td>If you want to recognise an occasion, please d...</td>\n",
       "      <td>Reminder: Absolutely no activism of any kind i...</td>\n",
       "      <td>t3_d2370x</td>\n",
       "      <td>1</td>\n",
       "    </tr>\n",
       "    <tr>\n",
       "      <td>2</td>\n",
       "      <td>SuicideWatch</td>\n",
       "      <td>NaN</td>\n",
       "      <td>sleep just isn't sleep anymore, it's an escape.</td>\n",
       "      <td>t3_gosr7c</td>\n",
       "      <td>1</td>\n",
       "    </tr>\n",
       "    <tr>\n",
       "      <td>3</td>\n",
       "      <td>SuicideWatch</td>\n",
       "      <td>I just want to go to sleep, and never wake up</td>\n",
       "      <td>Fuck me</td>\n",
       "      <td>t3_gomrql</td>\n",
       "      <td>1</td>\n",
       "    </tr>\n",
       "    <tr>\n",
       "      <td>4</td>\n",
       "      <td>SuicideWatch</td>\n",
       "      <td>Seriously going through some existential stuff...</td>\n",
       "      <td>What is the point of living in this corrupt ce...</td>\n",
       "      <td>t3_gow0e9</td>\n",
       "      <td>1</td>\n",
       "    </tr>\n",
       "  </tbody>\n",
       "</table>\n",
       "</div>"
      ],
      "text/plain": [
       "      subreddit                                           selftext  \\\n",
       "0  SuicideWatch  We've been seeing a worrying increase in pro-s...   \n",
       "1  SuicideWatch  If you want to recognise an occasion, please d...   \n",
       "2  SuicideWatch                                                NaN   \n",
       "3  SuicideWatch      I just want to go to sleep, and never wake up   \n",
       "4  SuicideWatch  Seriously going through some existential stuff...   \n",
       "\n",
       "                                               title       name  is_sucide  \n",
       "0  New wiki on how to avoid accidentally encourag...  t3_cz6nfd          1  \n",
       "1  Reminder: Absolutely no activism of any kind i...  t3_d2370x          1  \n",
       "2    sleep just isn't sleep anymore, it's an escape.  t3_gosr7c          1  \n",
       "3                                            Fuck me  t3_gomrql          1  \n",
       "4  What is the point of living in this corrupt ce...  t3_gow0e9          1  "
      ]
     },
     "execution_count": 26,
     "metadata": {},
     "output_type": "execute_result"
    }
   ],
   "source": [
    "cleaned_sucide_df.head()"
   ]
  },
  {
   "cell_type": "markdown",
   "metadata": {},
   "source": [
    "### Saving In csv files"
   ]
  },
  {
   "cell_type": "code",
   "execution_count": 27,
   "metadata": {},
   "outputs": [],
   "source": [
    "cleaned_sucide_df.to_csv('cleaned_sucide.csv',index=False)"
   ]
  },
  {
   "cell_type": "code",
   "execution_count": 28,
   "metadata": {},
   "outputs": [],
   "source": [
    "cleaned_depression_df.to_csv('cleaned_depression.csv',index=False)"
   ]
  },
  {
   "cell_type": "code",
   "execution_count": 29,
   "metadata": {},
   "outputs": [],
   "source": [
    "combined_df=pd.concat([cleaned_sucide_df,cleaned_depression_df],ignore_index=True)"
   ]
  },
  {
   "cell_type": "code",
   "execution_count": 30,
   "metadata": {},
   "outputs": [
    {
     "data": {
      "text/html": [
       "<div>\n",
       "<style scoped>\n",
       "    .dataframe tbody tr th:only-of-type {\n",
       "        vertical-align: middle;\n",
       "    }\n",
       "\n",
       "    .dataframe tbody tr th {\n",
       "        vertical-align: top;\n",
       "    }\n",
       "\n",
       "    .dataframe thead th {\n",
       "        text-align: right;\n",
       "    }\n",
       "</style>\n",
       "<table border=\"1\" class=\"dataframe\">\n",
       "  <thead>\n",
       "    <tr style=\"text-align: right;\">\n",
       "      <th></th>\n",
       "      <th>subreddit</th>\n",
       "      <th>selftext</th>\n",
       "      <th>title</th>\n",
       "      <th>name</th>\n",
       "      <th>is_sucide</th>\n",
       "    </tr>\n",
       "  </thead>\n",
       "  <tbody>\n",
       "    <tr>\n",
       "      <td>0</td>\n",
       "      <td>SuicideWatch</td>\n",
       "      <td>We've been seeing a worrying increase in pro-s...</td>\n",
       "      <td>New wiki on how to avoid accidentally encourag...</td>\n",
       "      <td>t3_cz6nfd</td>\n",
       "      <td>1</td>\n",
       "    </tr>\n",
       "    <tr>\n",
       "      <td>1</td>\n",
       "      <td>SuicideWatch</td>\n",
       "      <td>If you want to recognise an occasion, please d...</td>\n",
       "      <td>Reminder: Absolutely no activism of any kind i...</td>\n",
       "      <td>t3_d2370x</td>\n",
       "      <td>1</td>\n",
       "    </tr>\n",
       "    <tr>\n",
       "      <td>2</td>\n",
       "      <td>SuicideWatch</td>\n",
       "      <td>NaN</td>\n",
       "      <td>sleep just isn't sleep anymore, it's an escape.</td>\n",
       "      <td>t3_gosr7c</td>\n",
       "      <td>1</td>\n",
       "    </tr>\n",
       "    <tr>\n",
       "      <td>3</td>\n",
       "      <td>SuicideWatch</td>\n",
       "      <td>I just want to go to sleep, and never wake up</td>\n",
       "      <td>Fuck me</td>\n",
       "      <td>t3_gomrql</td>\n",
       "      <td>1</td>\n",
       "    </tr>\n",
       "    <tr>\n",
       "      <td>4</td>\n",
       "      <td>SuicideWatch</td>\n",
       "      <td>Seriously going through some existential stuff...</td>\n",
       "      <td>What is the point of living in this corrupt ce...</td>\n",
       "      <td>t3_gow0e9</td>\n",
       "      <td>1</td>\n",
       "    </tr>\n",
       "    <tr>\n",
       "      <td>...</td>\n",
       "      <td>...</td>\n",
       "      <td>...</td>\n",
       "      <td>...</td>\n",
       "      <td>...</td>\n",
       "      <td>...</td>\n",
       "    </tr>\n",
       "    <tr>\n",
       "      <td>1949</td>\n",
       "      <td>depression</td>\n",
       "      <td>I wish I could just live where it's just me an...</td>\n",
       "      <td>Every day I daydream about living at the botto...</td>\n",
       "      <td>t3_gns746</td>\n",
       "      <td>0</td>\n",
       "    </tr>\n",
       "    <tr>\n",
       "      <td>1950</td>\n",
       "      <td>depression</td>\n",
       "      <td>Being a romantic sucks I wish I didn't feel li...</td>\n",
       "      <td>Let me just get it out</td>\n",
       "      <td>t3_gntnt7</td>\n",
       "      <td>0</td>\n",
       "    </tr>\n",
       "    <tr>\n",
       "      <td>1951</td>\n",
       "      <td>depression</td>\n",
       "      <td>https://youtu.be/L4U3OcHxY1A\\n\\nhttps://www.yo...</td>\n",
       "      <td>Hey everyone. Feeling broken and alone again. ...</td>\n",
       "      <td>t3_gns63x</td>\n",
       "      <td>0</td>\n",
       "    </tr>\n",
       "    <tr>\n",
       "      <td>1952</td>\n",
       "      <td>depression</td>\n",
       "      <td>i’m going to start therapy soon online bc my p...</td>\n",
       "      <td>idk what this rly is it’s just some thoughts ig</td>\n",
       "      <td>t3_gntn1b</td>\n",
       "      <td>0</td>\n",
       "    </tr>\n",
       "    <tr>\n",
       "      <td>1953</td>\n",
       "      <td>depression</td>\n",
       "      <td>Hi. I have been dealing with depression for mo...</td>\n",
       "      <td>This helped me</td>\n",
       "      <td>t3_gnwkng</td>\n",
       "      <td>0</td>\n",
       "    </tr>\n",
       "  </tbody>\n",
       "</table>\n",
       "<p>1954 rows × 5 columns</p>\n",
       "</div>"
      ],
      "text/plain": [
       "         subreddit                                           selftext  \\\n",
       "0     SuicideWatch  We've been seeing a worrying increase in pro-s...   \n",
       "1     SuicideWatch  If you want to recognise an occasion, please d...   \n",
       "2     SuicideWatch                                                NaN   \n",
       "3     SuicideWatch      I just want to go to sleep, and never wake up   \n",
       "4     SuicideWatch  Seriously going through some existential stuff...   \n",
       "...            ...                                                ...   \n",
       "1949    depression  I wish I could just live where it's just me an...   \n",
       "1950    depression  Being a romantic sucks I wish I didn't feel li...   \n",
       "1951    depression  https://youtu.be/L4U3OcHxY1A\\n\\nhttps://www.yo...   \n",
       "1952    depression  i’m going to start therapy soon online bc my p...   \n",
       "1953    depression  Hi. I have been dealing with depression for mo...   \n",
       "\n",
       "                                                  title       name  is_sucide  \n",
       "0     New wiki on how to avoid accidentally encourag...  t3_cz6nfd          1  \n",
       "1     Reminder: Absolutely no activism of any kind i...  t3_d2370x          1  \n",
       "2       sleep just isn't sleep anymore, it's an escape.  t3_gosr7c          1  \n",
       "3                                               Fuck me  t3_gomrql          1  \n",
       "4     What is the point of living in this corrupt ce...  t3_gow0e9          1  \n",
       "...                                                 ...        ...        ...  \n",
       "1949  Every day I daydream about living at the botto...  t3_gns746          0  \n",
       "1950                             Let me just get it out  t3_gntnt7          0  \n",
       "1951  Hey everyone. Feeling broken and alone again. ...  t3_gns63x          0  \n",
       "1952    idk what this rly is it’s just some thoughts ig  t3_gntn1b          0  \n",
       "1953                                     This helped me  t3_gnwkng          0  \n",
       "\n",
       "[1954 rows x 5 columns]"
      ]
     },
     "execution_count": 30,
     "metadata": {},
     "output_type": "execute_result"
    }
   ],
   "source": [
    "combined_df"
   ]
  },
  {
   "cell_type": "code",
   "execution_count": 35,
   "metadata": {},
   "outputs": [],
   "source": [
    "combined_df.to_csv('combined.csv',index=False)"
   ]
  }
 ],
 "metadata": {
  "kernelspec": {
   "display_name": "Python 3",
   "language": "python",
   "name": "python3"
  },
  "language_info": {
   "codemirror_mode": {
    "name": "ipython",
    "version": 3
   },
   "file_extension": ".py",
   "mimetype": "text/x-python",
   "name": "python",
   "nbconvert_exporter": "python",
   "pygments_lexer": "ipython3",
   "version": "3.7.4"
  }
 },
 "nbformat": 4,
 "nbformat_minor": 2
}
